{
  "nbformat": 4,
  "nbformat_minor": 0,
  "metadata": {
    "colab": {
      "name": "20201201_LowRankSparseLungSoundSeparation_Unet.ipynb",
      "provenance": [],
      "collapsed_sections": [],
      "authorship_tag": "ABX9TyNEG+5qyed/pTOI7LgApABF",
      "include_colab_link": true
    },
    "kernelspec": {
      "name": "python3",
      "display_name": "Python 3"
    },
    "accelerator": "GPU"
  },
  "cells": [
    {
      "cell_type": "markdown",
      "metadata": {
        "id": "view-in-github",
        "colab_type": "text"
      },
      "source": [
        "<a href=\"https://colab.research.google.com/github/tsakailab/sandbox/blob/master/20201201_LowRankSparseLungSoundSeparation_Unet.ipynb\" target=\"_parent\"><img src=\"https://colab.research.google.com/assets/colab-badge.svg\" alt=\"Open In Colab\"/></a>"
      ]
    },
    {
      "cell_type": "code",
      "metadata": {
        "colab": {
          "base_uri": "https://localhost:8080/"
        },
        "id": "rOJonxPy9GK5",
        "outputId": "1159def3-c9c3-4bb9-b3b8-6964b2dc4b5c"
      },
      "source": [
        "import torch\n",
        "device = torch.device('cpu')\n",
        "if torch.cuda.is_available():\n",
        "    device = torch.device('cuda')\n",
        "    print(torch.cuda.get_device_name(torch.cuda.current_device()))\n",
        "    print(torch.cuda.memory_allocated())\n",
        "    print(torch.cuda.memory_cached())\n",
        "    torch.cuda.empty_cache()"
      ],
      "execution_count": 1,
      "outputs": [
        {
          "output_type": "stream",
          "text": [
            "Tesla T4\n",
            "0\n",
            "0\n"
          ],
          "name": "stdout"
        },
        {
          "output_type": "stream",
          "text": [
            "/usr/local/lib/python3.6/dist-packages/torch/cuda/memory.py:346: FutureWarning: torch.cuda.memory_cached has been renamed to torch.cuda.memory_reserved\n",
            "  FutureWarning)\n"
          ],
          "name": "stderr"
        }
      ]
    },
    {
      "cell_type": "code",
      "metadata": {
        "id": "B6n9fxUK9lgB"
      },
      "source": [
        "class UNet(torch.nn.Module):\n",
        "\n",
        "    def __init__(self, in_channels, out_channels0, out_channels1, out_channels2, out_channels3):\n",
        "        super().__init__()\n",
        " \n",
        "        def Convs(in_channels,out_channels):\n",
        "            return torch.nn.Sequential(\n",
        "                torch.nn.Conv1d(in_channels, out_channels, 3,padding=1),\n",
        "                torch.nn.BatchNorm1d(out_channels),\n",
        "                torch.nn.ReLU(inplace=True),\n",
        "                torch.nn.Conv1d(out_channels, out_channels, 3,padding=1),\n",
        "                torch.nn.BatchNorm1d(out_channels),\n",
        "                torch.nn.ReLU(inplace=True)\n",
        "            )   \n",
        " \n",
        "        def upsample(in_channels, out_channels, scale_factor, mode):\n",
        "            return torch.nn.Sequential(\n",
        "                torch.nn.Upsample(scale_factor=scale_factor, mode=mode),\n",
        "                torch.nn.Conv1d(in_channels, out_channels, 1, padding=0)\n",
        "            )\n",
        " \n",
        "        def ConvOut(in_channels,out_channels):\n",
        "            return torch.nn.Sequential(\n",
        "                torch.nn.Conv1d(in_channels, out_channels, 1, padding=0)\n",
        "            )\n",
        "        \n",
        "        self.convs0enc = Convs(in_channels,out_channels0) # 1024\n",
        "        self.convs1enc = Convs(out_channels0,out_channels1) # 512\n",
        "        self.convs2enc = Convs(out_channels1,out_channels2) # 256\n",
        "        self.convs3enc = Convs(out_channels2,out_channels3) # 128\n",
        "        self.downsample = torch.nn.AvgPool1d(2)\n",
        "        self.upsample32 = upsample(out_channels3, out_channels3, 2, 'bilinear') #torch.nn.Upsample(scale_factor=2,mode = 'bilinear')\n",
        "        self.upsample21 = upsample(out_channels2, out_channels2, 2, 'bilinear') #torch.nn.Upsample(scale_factor=2,mode = 'bilinear')\n",
        "        self.upsample10 = upsample(out_channels1, out_channels1, 2, 'bilinear') #torch.nn.Upsample(scale_factor=2,mode = 'bilinear')\n",
        "\n",
        "        self.convs2dec = Convs(out_channels2 + out_channels2, out_channels2) # 256\n",
        "        self.convs1dec = Convs(out_channels1 + out_channels1, out_channels1) # 512\n",
        "        self.convs0dec = Convs(out_channels0 + out_channels0, out_channels0) # 1024\n",
        "        self.conv_out = ConvOut(out_channels0, in_channels) # 1024\n",
        "\n",
        "    def forward(self, x):\n",
        "        #encoding\n",
        "        convs0e = self.convs0enc(x) #x:(B,C,F)\n",
        "        x = self.downsample(x)\n",
        "        convs1e = self.convs1enc(x)\n",
        "        x = self.downsample(x)\n",
        "        convs2e = self.convs2enc(x)\n",
        "        x = self.downsample(x)\n",
        "        convs3e = self.convs3enc(x)\n",
        "\n",
        "        x = self.upsample32(x)\n",
        "        x = torch.cat([x, convs2e])\n",
        "        x = self.convs2dec(x)\n",
        "        x = self.upsample21(x)\n",
        "        x = torch.cat([x, convs1e])\n",
        "        x = self.convs1dec(x)\n",
        "        x = self.upsample10(x)\n",
        "        x = torch.cat([x, convs0e])\n",
        "        x = self.convs0dec(x)\n",
        "        s = self.conv_out(x)\n",
        "\n",
        "        return s"
      ],
      "execution_count": null,
      "outputs": []
    },
    {
      "cell_type": "code",
      "metadata": {
        "id": "Y59okUVN9M8-"
      },
      "source": [
        "## L1 loss\n",
        "class L1LossFunc(torch.autograd.Function):\n",
        "    @staticmethod\n",
        "    def forward(ctx, input, lw):\n",
        "        ctx.save_for_backward(input, lw)\n",
        "        return torch.sum(torch.abs(input)*lw)\n",
        "\n",
        "    @staticmethod\n",
        "    def backward(ctx, grad_output):\n",
        "        input, lw = ctx.saved_tensors\n",
        "        grad_input = grad_output.clone()\n",
        "        return (input - soft(input, lw)) * grad_input, torch.abs(input) * grad_input\n",
        "\n",
        "class L1Loss(torch.nn.Module):\n",
        "    def __init__(self, lw=torch.tensor(1.0, device=device)):\n",
        "        super(L1Loss, self).__init__()\n",
        "        self.fn = L1LossFunc.apply\n",
        "        self.lw = torch.nn.Parameter(lw, requires_grad=lw.requires_grad)\n",
        "\n",
        "    def forward(self, input):\n",
        "        return self.fn(input, self.lw)\n",
        "\n",
        "\n",
        "## Nuclear loss\n",
        "class NuclearLossFunc(torch.autograd.Function):\n",
        "    @staticmethod\n",
        "    def forward(ctx, input, lw):\n",
        "        u, s, v = torch.svd(input)\n",
        "        ctx.save_for_backward(input, lw, u, s, v)\n",
        "        return torch.sum(s*lw)\n",
        "\n",
        "    @staticmethod\n",
        "    def backward(ctx, grad_output):\n",
        "        input, lw, u, s, v = ctx.saved_tensors\n",
        "        grad_input = grad_output.clone()\n",
        "        svt_input = torch.matmul(torch.matmul(u, torch.diag_embed(soft(s,lw))), torch.transpose(v, -2, -1))\n",
        "        return (input - svt_input) * grad_input, s * grad_input\n",
        "\n",
        "class NuclearLoss(torch.nn.Module):\n",
        "    def __init__(self, lw=torch.tensor(1.0, device=device)):\n",
        "        super(NuclearLoss, self).__init__()\n",
        "        self.fn = NuclearLossFunc.apply\n",
        "        self.lw = torch.nn.Parameter(lw, requires_grad=lw.requires_grad)\n",
        "\n",
        "    def forward(self, input):\n",
        "        return self.fn(input, self.lw)\n",
        "\n",
        "\n",
        "anucloss = lambda x: torch.sum(torch.svd(x)[1])\n",
        "al1loss = lambda x: torch.sum(torch.abs(x))"
      ],
      "execution_count": 2,
      "outputs": []
    },
    {
      "cell_type": "code",
      "metadata": {
        "id": "ZXtszocRYQTP"
      },
      "source": [
        "modelUnet = UNet(1, 6, 12, 24, 48)\n",
        "model = lambda x: modelUnet(x)\n",
        "#model = lambda x: modelUnet(x.T.view(as_imgseq)).view(DDseq.shape[0],-1).T\n",
        "\n",
        "ln = 1.\n",
        "ls = 0.1 # ls = 1./np.sqrt(max(m,n)) / 16\n",
        "alpha 0.5\n",
        "nucloss = NuclearLoss(lw=torch.tensor(alpha*ln))\n",
        "l1loss = L1Loss(lw=torch.tensor(alpha*ls))"
      ],
      "execution_count": null,
      "outputs": []
    },
    {
      "cell_type": "code",
      "metadata": {
        "id": "R4IyN5wRcZVF"
      },
      "source": [
        "D = spectrogram\n",
        "\n",
        "lr = {'Adam': 3e-6, 'SGD': 3e-6}      #learning rate\n",
        "\n",
        "optimizerM = torch.optim.Adam(modelUnet.parameters(), lr = ['Adam'])\n",
        "history_loss_Unet = []\n",
        "\n",
        "S = model(D)\n",
        "num_iter = 2\n",
        "for iter in range(num_iter):\n",
        "    total_loss = 0.\n",
        "    loss = alpha*ln*anucloss(D-S) + alpha*ls*al1loss(S)\n",
        "    optimizerM.zero_grad()\n",
        "    loss.backward(retain_graph=True)\n",
        "    optimizerM.step()\n",
        "    total_loss += loss.item() / alpha\n",
        "\n",
        "    history_loss_Unet.append(total_loss)\n",
        "\n",
        "    if (iter+1) % display_step == 0:\n",
        "        print('[{:3d}/{}]: loss = {:.4f},  '.format(iter+1, num_iter, total_loss))\n",
        "\n",
        "\n",
        "num_iter = 1000\n",
        "display_step = num_iter // 50\n",
        "optimizerM = torch.optim.SGD(modelUnet.parameters(), lr = lr['SGD'])\n",
        "for iter in range(num_iter):\n",
        "\n",
        "    total_loss = 0.\n",
        "    with torch.no_grad():\n",
        "        Sk = model(D).detach()\n",
        "    Lk = (D-Sk).detach()\n",
        "    S = model(D)\n",
        "    loss = nucloss(Lk + alpha * (Sk - S))\n",
        "    optimizerM.zero_grad()\n",
        "    loss.backward(retain_graph=True)\n",
        "    optimizerM.step()\n",
        "    total_loss += loss.item() / alpha\n",
        "\n",
        "    loss = l1loss(S + alpha * (Sk - S))           # good\n",
        "    #loss = l1loss(S)                              # excellent if not noisy\n",
        "    #optimizerM = torch.optim.SGD(model.parameters(), lr = 5e-1)\n",
        "    optimizerM.zero_grad()\n",
        "    loss.backward(retain_graph=True)\n",
        "    optimizerM.step()\n",
        "    total_loss += loss.item() / alpha\n",
        "\n",
        "    #total_loss = (anucloss(Lk) + al1loss(S)) / alpha * lr  # compute loss precisely\n",
        "    history_loss_Unet.append(total_loss)\n",
        "\n",
        "    if (iter+1) % display_step == 0:\n",
        "        print ('[{:3d}/{}]: loss = {:.4f},  '.format(iter+1, num_iter, total_loss))\n"
      ],
      "execution_count": null,
      "outputs": []
    }
  ]
}