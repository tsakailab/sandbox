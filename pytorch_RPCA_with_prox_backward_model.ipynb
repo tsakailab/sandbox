{
  "nbformat": 4,
  "nbformat_minor": 0,
  "metadata": {
    "colab": {
      "name": "pytorch_RPCA_with_prox_backward_model.ipynb",
      "provenance": [],
      "collapsed_sections": [],
      "include_colab_link": true
    },
    "kernelspec": {
      "name": "python3",
      "display_name": "Python 3"
    },
    "accelerator": "GPU"
  },
  "cells": [
    {
      "cell_type": "markdown",
      "metadata": {
        "id": "view-in-github",
        "colab_type": "text"
      },
      "source": [
        "<a href=\"https://colab.research.google.com/github/tsakailab/sandbox/blob/master/pytorch_RPCA_with_prox_backward_model.ipynb\" target=\"_parent\"><img src=\"https://colab.research.google.com/assets/colab-badge.svg\" alt=\"Open In Colab\"/></a>"
      ]
    },
    {
      "cell_type": "code",
      "metadata": {
        "id": "XeRc34BqIypb",
        "colab_type": "code",
        "outputId": "9897d9f4-180a-4998-a012-38d0e3950af1",
        "colab": {
          "base_uri": "https://localhost:8080/",
          "height": 72
        }
      },
      "source": [
        "import torch\n",
        "device = torch.device('cpu')\n",
        "if torch.cuda.is_available():\n",
        "    device = torch.device('cuda')\n",
        "    print(torch.cuda.get_device_name(torch.cuda.current_device()))\n",
        "    print(torch.cuda.memory_allocated())\n",
        "    print(torch.cuda.memory_cached())\n",
        "    torch.cuda.empty_cache()"
      ],
      "execution_count": 0,
      "outputs": [
        {
          "output_type": "stream",
          "text": [
            "Tesla P100-PCIE-16GB\n",
            "0\n",
            "0\n"
          ],
          "name": "stdout"
        }
      ]
    },
    {
      "cell_type": "markdown",
      "metadata": {
        "id": "AYlu1Qh9BwbE",
        "colab_type": "text"
      },
      "source": [
        "# L1 and nuclear loss functions with backward by prox (soft thresholding and singular value thresholding)"
      ]
    },
    {
      "cell_type": "code",
      "metadata": {
        "id": "mFnnjF-9XmzR",
        "colab_type": "code",
        "colab": {}
      },
      "source": [
        "soft = lambda z, th: z.sign() * (z.abs() - th).max(torch.tensor(0., device=device))\n",
        "\n",
        "## L1 loss\n",
        "class L1LossFunc(torch.autograd.Function):\n",
        "    @staticmethod\n",
        "    def forward(ctx, input, lw):\n",
        "        ctx.save_for_backward(input, lw)\n",
        "        return torch.sum(torch.abs(input)*lw)\n",
        "\n",
        "    @staticmethod\n",
        "    def backward(ctx, grad_output):\n",
        "        input, lw = ctx.saved_tensors\n",
        "        grad_input = grad_output.clone()\n",
        "        return (input - soft(input, lw)) * grad_input, torch.abs(input) * grad_input\n",
        "\n",
        "class L1Loss(torch.nn.Module):\n",
        "    def __init__(self, lw=torch.tensor(1.0, device=device)):\n",
        "        super(L1Loss, self).__init__()\n",
        "        self.fn = L1LossFunc.apply\n",
        "        self.lw = torch.nn.Parameter(lw, requires_grad=lw.requires_grad)\n",
        "\n",
        "    def forward(self, input):\n",
        "        return self.fn(input, self.lw)\n",
        "\n",
        "\n",
        "## Nuclear loss\n",
        "class NuclearLossFunc(torch.autograd.Function):\n",
        "    @staticmethod\n",
        "    def forward(ctx, input, lw):\n",
        "        u, s, v = torch.svd(input)\n",
        "        ctx.save_for_backward(input, lw, u, s, v)\n",
        "        return torch.sum(s*lw)\n",
        "\n",
        "    @staticmethod\n",
        "    def backward(ctx, grad_output):\n",
        "        input, lw, u, s, v = ctx.saved_tensors\n",
        "        grad_input = grad_output.clone()\n",
        "        svt_input = torch.matmul(torch.matmul(u, torch.diag_embed(soft(s,lw))), torch.transpose(v, -2, -1))\n",
        "        return (input - svt_input) * grad_input, s * grad_input\n",
        "\n",
        "class NuclearLoss(torch.nn.Module):\n",
        "    def __init__(self, lw=torch.tensor(1.0, device=device)):\n",
        "        super(NuclearLoss, self).__init__()\n",
        "        self.fn = NuclearLossFunc.apply\n",
        "        self.lw = torch.nn.Parameter(lw, requires_grad=lw.requires_grad)\n",
        "\n",
        "    def forward(self, input):\n",
        "        return self.fn(input, self.lw)\n"
      ],
      "execution_count": 0,
      "outputs": []
    },
    {
      "cell_type": "markdown",
      "metadata": {
        "id": "tBdaQDCkxz-O",
        "colab_type": "text"
      },
      "source": [
        "# Robust PCA (Low-rank and sparse matrix approximation): $$\\textrm{Minimize}_{(L,S)}\\|L\\|_* + \\lambda_S \\|S\\|_1+\\lambda_F\\|D-(L+S)\\|_F^2$$\n",
        "### Auto differentiation vs. proximal operation\n",
        "\n"
      ]
    },
    {
      "cell_type": "code",
      "metadata": {
        "id": "RCyGhCYiIyrs",
        "colab_type": "code",
        "outputId": "1320f300-5508-4fdd-d233-e0a87c29b6d0",
        "colab": {
          "base_uri": "https://localhost:8080/",
          "height": 127
        }
      },
      "source": [
        "# generate a low-rank matrix L and a sparse matrix S\n",
        "from time import time\n",
        "import numpy as np\n",
        "m, n = 10000, 50\n",
        "rnk, nnz = 10, 10000\n",
        "LL = np.random.randn(m,rnk).dot(np.random.randn(rnk,n))\n",
        "SS = np.zeros((m,n))\n",
        "support = np.random.choice(m*n, nnz, replace=False)\n",
        "SS.ravel()[support] = 10.* np.random.randn(support.size)\n",
        "\n",
        "sv = np.linalg.svd(LL, compute_uv=False)\n",
        "print('singular values of L =')\n",
        "print(sv[:min(10,m,n)])\n",
        "print('mean(abs(L)) = %.2e' % (np.mean(np.abs(LL))))\n",
        "print('mean(abs(S)) = %.2e, %d nonzeros in S (%2.1f%%)' % (np.mean(np.abs(SS)),support.size,100.*support.size/(m*n)))\n",
        "\n",
        "DD = LL + SS\n",
        "\n",
        "ls = 1./np.sqrt(max(m,n))\n",
        "print('lambda_S = ', ls)"
      ],
      "execution_count": 0,
      "outputs": [
        {
          "output_type": "stream",
          "text": [
            "singular values of L =\n",
            "[948.41338822 884.25327543 802.17781935 712.4056368  691.10332653\n",
            " 638.75476588 606.00447002 565.21250907 488.07011278 455.82901922]\n",
            "mean(abs(L)) = 2.43e+00\n",
            "mean(abs(S)) = 1.60e-01, 10000 nonzeros in S (2.0%)\n",
            "lambda_S =  0.01\n"
          ],
          "name": "stdout"
        }
      ]
    },
    {
      "cell_type": "code",
      "metadata": {
        "id": "E0CrkmrOBBcE",
        "colab_type": "code",
        "colab": {}
      },
      "source": [
        "class dummyUnet(torch.nn.Module):\n",
        "    def __init__(self, w=torch.tensor(1.0, device=device)):\n",
        "        super(dummyUnet, self).__init__()\n",
        "        self.param = torch.nn.Parameter(w, requires_grad=True)\n",
        "\n",
        "    def forward(self, inputD):  # compute the output only from inputD!\n",
        "        return self.param\n"
      ],
      "execution_count": 0,
      "outputs": []
    },
    {
      "cell_type": "markdown",
      "metadata": {
        "id": "hZ4VGGufaeuM",
        "colab_type": "text"
      },
      "source": [
        "## ADMM-type (Inexact ALM) application of backward by prox\n",
        "### less estimation error, can clearly identify the sparse components"
      ]
    },
    {
      "cell_type": "code",
      "metadata": {
        "colab_type": "code",
        "outputId": "20b12aff-513c-4952-ba92-f8811df6c938",
        "id": "7KhlhTkvHRfW",
        "colab": {
          "base_uri": "https://localhost:8080/",
          "height": 1000
        }
      },
      "source": [
        "D = torch.from_numpy(DD.astype(np.float32)).to(device)\n",
        "print('D = \\n', D)\n",
        "\n",
        "le = 1e+6\n",
        "print('lambda_F = ', le)\n",
        "\n",
        "# Using L1Loss with prox\n",
        "nucloss = NuclearLoss()\n",
        "l1loss = L1Loss(lw=torch.tensor(ls))\n",
        "l2loss = lambda x: torch.sum(x**2)\n",
        "\n",
        "L = 0\n",
        "S = 0\n",
        "E = 0\n",
        "Y = 0\n",
        "\n",
        "t = time()\n",
        "num_iter = 400\n",
        "display_step = num_iter // 10\n",
        "history_loss_inexact = []\n",
        "for iter in range(num_iter):\n",
        "    total_loss = 0.\n",
        "\n",
        "    X = (D-S-E+Y).clone().detach().requires_grad_(True)\n",
        "    loss = nucloss(X)\n",
        "    optimizer = torch.optim.SGD([X], lr = 1e0)\n",
        "    optimizer.zero_grad()\n",
        "    loss.backward(retain_graph=True)\n",
        "    optimizer.step()\n",
        "    L = X.detach()\n",
        "\n",
        "    X = (D-L-E+Y).clone().detach().requires_grad_(True)\n",
        "    loss = l1loss(X)\n",
        "    optimizer = torch.optim.SGD([X], lr = 1e0)\n",
        "    optimizer.zero_grad()\n",
        "    loss.backward(retain_graph=True)\n",
        "    optimizer.step()\n",
        "    S = X.detach()\n",
        "\n",
        "    X = ((D-L-S+Y)/ (1+2*le)).clone().detach().requires_grad_(True)\n",
        "    loss = l2loss(X)\n",
        "    optimizer = torch.optim.SGD([X], lr = 1e0)\n",
        "    optimizer.zero_grad()\n",
        "    loss.backward(retain_graph=True)\n",
        "    optimizer.step()\n",
        "    E = X.detach()\n",
        "\n",
        "    Y = Y + (D-L-S-E)\n",
        "\n",
        "    total_loss = nucloss(L) + l1loss(D-L)\n",
        "\n",
        "    history_loss_inexact.append(total_loss)\n",
        "\n",
        "    if (iter+1) % display_step == 0:\n",
        "        print ('[{:3d}/{}]: loss = {:.4f},  '.format(iter+1, num_iter, total_loss))\n",
        "\n",
        "print((time()-t)*1000, ' [ms]')\n",
        "print('L = \\n', LL)\n",
        "print('Estimated L = \\n', L.data)\n",
        "print('MSE of L: ', np.linalg.norm(L.cpu().data.numpy()-LL)/np.linalg.norm(LL)*100, ' [%]')\n",
        "print('Its singular values = \\n', torch.svd(L)[1])\n",
        "print('S = \\n', SS)\n",
        "print('Estimated S = \\n', S.data)\n",
        "print(\"MSE of S: \", np.linalg.norm(S.cpu().data.numpy()-SS)/np.linalg.norm(SS)*100, \" [%]\")\n",
        "\n",
        "import matplotlib.pyplot as plt\n",
        "plt.title(\"$||L||_*+\\lambda||D-L||_1$\")\n",
        "plt.plot(history_loss_inexact, label=\"ADMM-type application backward by prox\")\n",
        "plt.legend()\n",
        "plt.figure()\n",
        "plt.hist(abs(S.cpu().data.numpy().ravel()), bins=100, range=[0,1], log=True, label='entries of S (estimated)')\n",
        "plt.hist(abs(SS.ravel()), bins=100, range=[0,1], log=True, label='entries of S (true)')\n",
        "plt.legend()"
      ],
      "execution_count": 0,
      "outputs": [
        {
          "output_type": "stream",
          "text": [
            "D = \n",
            " tensor([[-1.9078, -7.7488,  1.6149,  ...,  0.9241, -0.6018,  1.0441],\n",
            "        [ 2.3948,  1.0600,  3.6488,  ...,  1.2157,  2.8473,  2.5703],\n",
            "        [-4.2848, -3.4934, -2.7512,  ...,  0.1583, -1.2561,  0.0852],\n",
            "        ...,\n",
            "        [ 2.3009, -4.9701, -5.0886,  ...,  9.2245, -4.1329, -4.1057],\n",
            "        [-2.0504, -1.4911,  0.8353,  ..., -3.6806, -4.8151,  1.3233],\n",
            "        [-3.3348, -1.8457, -0.9671,  ...,  2.3730, -6.6186,  0.1779]],\n",
            "       device='cuda:0')\n",
            "lambda_F =  1000000.0\n",
            "[ 40/400]: loss = 11503.8838,  \n",
            "[ 80/400]: loss = 10434.3955,  \n",
            "[120/400]: loss = 9411.9609,  \n",
            "[160/400]: loss = 8464.9053,  \n",
            "[200/400]: loss = 7774.4429,  \n",
            "[240/400]: loss = 7642.8853,  \n",
            "[280/400]: loss = 7617.8018,  \n",
            "[320/400]: loss = 7606.0176,  \n",
            "[360/400]: loss = 7599.9292,  \n",
            "[400/400]: loss = 7596.4146,  \n",
            "8647.601842880249  [ms]\n",
            "L = \n",
            " [[-1.90784113 -7.74878444  1.61491485 ...  0.92411368 -0.60183474\n",
            "   1.04409228]\n",
            " [ 2.39482888  1.06002676  3.64876465 ...  1.21573597  2.8473001\n",
            "   2.57034605]\n",
            " [-4.28483543 -3.49340388 -2.75116351 ...  0.15832979 -1.25606086\n",
            "   0.08524032]\n",
            " ...\n",
            " [ 2.30087391 -4.97013108 -5.08857471 ...  9.22445818 -4.13291681\n",
            "  -4.10566007]\n",
            " [-2.05035428 -1.49109238  0.83529654 ... -3.68057046 -4.8150633\n",
            "   1.32327762]\n",
            " [-3.33478428 -1.84572191 -0.96705129 ...  2.37295459 -6.61856924\n",
            "   0.17785633]]\n",
            "Estimated L = \n",
            " tensor([[-1.9078, -7.7488,  1.6149,  ...,  0.9241, -0.6018,  1.0441],\n",
            "        [ 2.3948,  1.0600,  3.6488,  ...,  1.2158,  2.8473,  2.5703],\n",
            "        [-4.2848, -3.4934, -2.7511,  ...,  0.1583, -1.2560,  0.0852],\n",
            "        ...,\n",
            "        [ 2.3009, -4.9701, -5.0886,  ...,  9.2245, -4.1329, -4.1057],\n",
            "        [-2.0504, -1.4911,  0.8353,  ..., -3.6806, -4.8151,  1.3233],\n",
            "        [-3.3348, -1.8457, -0.9670,  ...,  2.3730, -6.6186,  0.1779]],\n",
            "       device='cuda:0')\n",
            "MSE of L:  1.9837827714565375  [%]\n",
            "Its singular values = \n",
            " tensor([9.4606e+02, 8.8214e+02, 7.9958e+02, 7.1018e+02, 6.8888e+02, 6.3667e+02,\n",
            "        6.0324e+02, 5.6279e+02, 4.8555e+02, 4.5340e+02, 1.5082e-04, 1.2717e-04,\n",
            "        1.1591e-04, 9.1257e-05, 9.0887e-05, 8.6198e-05, 6.9928e-05, 5.6654e-05,\n",
            "        5.2855e-05, 5.0015e-05, 5.0015e-05, 5.0015e-05, 5.0015e-05, 5.0015e-05,\n",
            "        5.0015e-05, 5.0015e-05, 5.0015e-05, 5.0015e-05, 5.0015e-05, 5.0015e-05,\n",
            "        5.0015e-05, 5.0015e-05, 5.0015e-05, 5.0015e-05, 5.0015e-05, 5.0015e-05,\n",
            "        5.0015e-05, 5.0015e-05, 5.0015e-05, 5.0015e-05, 5.0015e-05, 5.0015e-05,\n",
            "        5.0015e-05, 5.0015e-05, 5.0015e-05, 5.0015e-05, 5.0015e-05, 3.7583e-05,\n",
            "        3.3801e-05, 2.4952e-05], device='cuda:0')\n",
            "S = \n",
            " [[0. 0. 0. ... 0. 0. 0.]\n",
            " [0. 0. 0. ... 0. 0. 0.]\n",
            " [0. 0. 0. ... 0. 0. 0.]\n",
            " ...\n",
            " [0. 0. 0. ... 0. 0. 0.]\n",
            " [0. 0. 0. ... 0. 0. 0.]\n",
            " [0. 0. 0. ... 0. 0. 0.]]\n",
            "Estimated S = \n",
            " tensor([[0., 0., 0.,  ..., 0., 0., 0.],\n",
            "        [0., 0., 0.,  ..., 0., 0., 0.],\n",
            "        [0., 0., 0.,  ..., 0., 0., 0.],\n",
            "        ...,\n",
            "        [0., 0., 0.,  ..., 0., 0., 0.],\n",
            "        [0., 0., 0.,  ..., 0., 0., 0.],\n",
            "        [0., 0., 0.,  ..., 0., 0., 0.]], device='cuda:0')\n",
            "MSE of S:  4.363014809437962  [%]\n"
          ],
          "name": "stdout"
        },
        {
          "output_type": "execute_result",
          "data": {
            "text/plain": [
              "<matplotlib.legend.Legend at 0x7f0eb0063080>"
            ]
          },
          "metadata": {
            "tags": []
          },
          "execution_count": 5
        },
        {
          "output_type": "display_data",
          "data": {
            "image/png": "[encoded data removed]",
            "text/plain": [
              "<Figure size 432x288 with 1 Axes>"
            ]
          },
          "metadata": {
            "tags": []
          }
        },
        {
          "output_type": "display_data",
          "data": {
            "image/png": "[encoded data removed]",
            "text/plain": [
              "<Figure size 432x288 with 1 Axes>"
            ]
          },
          "metadata": {
            "tags": []
          }
        }
      ]
    },
    {
      "cell_type": "markdown",
      "metadata": {
        "id": "ture8ApnbOo5",
        "colab_type": "text"
      },
      "source": [
        "## ISTA with backward by prox\n",
        "$$ L^{(k+1)}\\gets\\textrm{SVT}(L^{(k)}+\\alpha(D-L^{(k)}-S^{(k)}),\\alpha\\lambda_L)$$\n",
        "$$ S^{(k+1)}\\gets\\textrm{soft}(S^{(k)}+\\alpha(D-L^{(k)}-S^{(k)}),\\alpha\\lambda_S)$$\n"
      ]
    },
    {
      "cell_type": "code",
      "metadata": {
        "id": "DXDJCrBRwvG1",
        "colab_type": "code",
        "outputId": "780cff6a-e2f1-4962-ab64-5a081101348e",
        "colab": {
          "base_uri": "https://localhost:8080/",
          "height": 1000
        }
      },
      "source": [
        "D = torch.from_numpy(DD.astype(np.float32)).to(device)\n",
        "print('D = \\n', D)\n",
        "\n",
        "ln = 1.\n",
        "alpha = 1.\n",
        "# Using L1Loss with prox\n",
        "nucloss = NuclearLoss(lw=torch.tensor(alpha*ln))\n",
        "l1loss = L1Loss(lw=torch.tensor(alpha*ls))\n",
        "#X = torch.autograd.Variable(D, requires_grad=True)\n",
        "L = torch.tensor(DD.astype(np.float32), device=device, requires_grad=True)\n",
        "S = torch.zeros_like(L, device=device, requires_grad=True)\n",
        "#optimizer = torch.optim.SGD([L,S], lr = 1e0)\n",
        "\n",
        "t = time()\n",
        "num_iter = 800\n",
        "display_step = num_iter // 10\n",
        "history_loss_prox = []\n",
        "for iter in range(num_iter):\n",
        "    total_loss = 0.\n",
        "\n",
        "    # E = (L + S + alpha * R.T.dot(D - R.dot(L + S))).detach()\n",
        "    E = (L + S + alpha * (D - L - S)).detach()\n",
        "\n",
        "    Lk = L.detach()\n",
        "    L = (E-S).clone().detach().requires_grad_(True)\n",
        "    loss = nucloss(L)\n",
        "    optimizer = torch.optim.SGD([L], lr = 1e0)\n",
        "    optimizer.zero_grad()\n",
        "    loss.backward(retain_graph=True)\n",
        "    optimizer.step()\n",
        "    total_loss += loss.item()/alpha\n",
        "\n",
        "    S = (E-Lk).clone().detach().requires_grad_(True)\n",
        "    loss = l1loss(S)\n",
        "    optimizer = torch.optim.SGD([S], lr = 1e0)\n",
        "    optimizer.zero_grad()\n",
        "    loss.backward(retain_graph=True)\n",
        "    optimizer.step()\n",
        "    total_loss += loss.item()/alpha\n",
        "    #\"\"\"\n",
        "\n",
        "    history_loss_prox.append(total_loss)\n",
        "\n",
        "    if (iter+1) % display_step == 0:\n",
        "        print ('[{:3d}/{}]: loss = {:.4f},  '.format(iter+1, num_iter, total_loss))\n",
        "\n",
        "\n",
        "print((time()-t)*1000, ' [ms]')\n",
        "print('L = \\n', LL)\n",
        "print('Estimated L = \\n',L.data)\n",
        "print('MSE of L: ', np.linalg.norm(L.cpu().data.numpy()-LL)/np.linalg.norm(LL)*100, ' [%]')\n",
        "print('Its singular values = \\n', torch.svd(L)[1])\n",
        "print('S = \\n', SS)\n",
        "print('Estimated S = \\n', S.data)\n",
        "print(\"MSE of S: \", np.linalg.norm(S.cpu().data.numpy()-SS)/np.linalg.norm(SS)*100, \" [%]\")\n",
        "\n",
        "import matplotlib.pyplot as plt\n",
        "plt.title(\"$||L||_*+\\lambda||D-L||_1$\")\n",
        "plt.plot(history_loss_inexact, label=\"ADMM-type application backward by prox\")\n",
        "#plt.plot(history_loss_prox, label=\"RPCA with backward by prox\")\n",
        "plt.plot(history_loss_prox, label=\"ISTA with backward by prox\")\n",
        "plt.legend()\n",
        "plt.figure()\n",
        "plt.hist(abs(S.cpu().data.numpy().ravel()), bins=100, range=[0,1], log=True, label='entries of S (estimated)')\n",
        "plt.hist(abs(SS.ravel()), bins=100, range=[0,1], log=True, label='entries of S (true)')\n",
        "plt.legend()"
      ],
      "execution_count": 0,
      "outputs": [
        {
          "output_type": "stream",
          "text": [
            "D = \n",
            " tensor([[-1.9078, -7.7488,  1.6149,  ...,  0.9241, -0.6018,  1.0441],\n",
            "        [ 2.3948,  1.0600,  3.6488,  ...,  1.2157,  2.8473,  2.5703],\n",
            "        [-4.2848, -3.4934, -2.7512,  ...,  0.1583, -1.2561,  0.0852],\n",
            "        ...,\n",
            "        [ 2.3009, -4.9701, -5.0886,  ...,  9.2245, -4.1329, -4.1057],\n",
            "        [-2.0504, -1.4911,  0.8353,  ..., -3.6806, -4.8151,  1.3233],\n",
            "        [-3.3348, -1.8457, -0.9671,  ...,  2.3730, -6.6186,  0.1779]],\n",
            "       device='cuda:0')\n",
            "[ 80/800]: loss = 11556.1043,  \n",
            "[160/800]: loss = 10486.0916,  \n",
            "[240/800]: loss = 9463.0465,  \n",
            "[320/800]: loss = 8515.0701,  \n",
            "[400/800]: loss = 7817.1689,  \n",
            "[480/800]: loss = 7675.6509,  \n",
            "[560/800]: loss = 7648.0435,  \n",
            "[640/800]: loss = 7634.8557,  \n",
            "[720/800]: loss = 7627.9900,  \n",
            "[800/800]: loss = 7624.0065,  \n",
            "9221.010208129883  [ms]\n",
            "L = \n",
            " [[-1.90784113 -7.74878444  1.61491485 ...  0.92411368 -0.60183474\n",
            "   1.04409228]\n",
            " [ 2.39482888  1.06002676  3.64876465 ...  1.21573597  2.8473001\n",
            "   2.57034605]\n",
            " [-4.28483543 -3.49340388 -2.75116351 ...  0.15832979 -1.25606086\n",
            "   0.08524032]\n",
            " ...\n",
            " [ 2.30087391 -4.97013108 -5.08857471 ...  9.22445818 -4.13291681\n",
            "  -4.10566007]\n",
            " [-2.05035428 -1.49109238  0.83529654 ... -3.68057046 -4.8150633\n",
            "   1.32327762]\n",
            " [-3.33478428 -1.84572191 -0.96705129 ...  2.37295459 -6.61856924\n",
            "   0.17785633]]\n",
            "Estimated L = \n",
            " tensor([[-1.9049, -7.7369,  1.6127,  ...,  0.9220, -0.6006,  1.0432],\n",
            "        [ 2.3915,  1.0598,  3.6447,  ...,  1.2119,  2.8421,  2.5677],\n",
            "        [-4.2770, -3.4882, -2.7476,  ...,  0.1583, -1.2564,  0.0848],\n",
            "        ...,\n",
            "        [ 2.2984, -4.9639, -5.0811,  ...,  9.2099, -4.1204, -4.0985],\n",
            "        [-2.0480, -1.4874,  0.8335,  ..., -3.6740, -4.8073,  1.3215],\n",
            "        [-3.3276, -1.8446, -0.9648,  ...,  2.3661, -6.6081,  0.1790]],\n",
            "       device='cuda:0')\n",
            "MSE of L:  2.023341807036327  [%]\n",
            "Its singular values = \n",
            " tensor([9.4486e+02, 8.8100e+02, 7.9838e+02, 7.0893e+02, 6.8770e+02, 6.3552e+02,\n",
            "        6.0190e+02, 5.6160e+02, 4.8430e+02, 4.5212e+02, 1.2501e-04, 1.1640e-04,\n",
            "        1.0000e-04, 9.0994e-05, 7.9868e-05, 6.4268e-05, 5.6386e-05, 5.2035e-05,\n",
            "        5.1043e-05, 5.0684e-05, 4.9946e-05, 4.9946e-05, 4.9946e-05, 4.9946e-05,\n",
            "        4.9946e-05, 4.9946e-05, 4.9946e-05, 4.9946e-05, 4.9946e-05, 4.9946e-05,\n",
            "        4.9946e-05, 4.9946e-05, 4.9946e-05, 4.9946e-05, 4.9946e-05, 4.9946e-05,\n",
            "        4.9946e-05, 4.9946e-05, 4.9946e-05, 4.9946e-05, 4.9946e-05, 4.9946e-05,\n",
            "        4.9946e-05, 4.9946e-05, 4.9946e-05, 4.9946e-05, 4.9946e-05, 3.8581e-05,\n",
            "        3.3197e-05, 2.5814e-05], device='cuda:0', grad_fn=<SvdBackward>)\n",
            "S = \n",
            " [[0. 0. 0. ... 0. 0. 0.]\n",
            " [0. 0. 0. ... 0. 0. 0.]\n",
            " [0. 0. 0. ... 0. 0. 0.]\n",
            " ...\n",
            " [0. 0. 0. ... 0. 0. 0.]\n",
            " [0. 0. 0. ... 0. 0. 0.]\n",
            " [0. 0. 0. ... 0. 0. 0.]]\n",
            "Estimated S = \n",
            " tensor([[ 0.0000, -0.0019,  0.0000,  ...,  0.0000,  0.0000,  0.0000],\n",
            "        [ 0.0000,  0.0000,  0.0000,  ...,  0.0000,  0.0000,  0.0000],\n",
            "        [ 0.0000,  0.0000,  0.0000,  ...,  0.0000,  0.0000,  0.0000],\n",
            "        ...,\n",
            "        [ 0.0000,  0.0000,  0.0000,  ...,  0.0046, -0.0026,  0.0000],\n",
            "        [ 0.0000,  0.0000,  0.0000,  ...,  0.0000,  0.0000,  0.0000],\n",
            "        [ 0.0000,  0.0000,  0.0000,  ...,  0.0000, -0.0004,  0.0000]],\n",
            "       device='cuda:0')\n",
            "MSE of S:  4.37042356787219  [%]\n"
          ],
          "name": "stdout"
        },
        {
          "output_type": "execute_result",
          "data": {
            "text/plain": [
              "<matplotlib.legend.Legend at 0x7f0e7165a240>"
            ]
          },
          "metadata": {
            "tags": []
          },
          "execution_count": 6
        },
        {
          "output_type": "display_data",
          "data": {
            "image/png": "[encoded data removed]",
            "text/plain": [
              "<Figure size 432x288 with 1 Axes>"
            ]
          },
          "metadata": {
            "tags": []
          }
        },
        {
          "output_type": "display_data",
          "data": {
            "image/png": "[encoded data removed]",
            "text/plain": [
              "<Figure size 432x288 with 1 Axes>"
            ]
          },
          "metadata": {
            "tags": []
          }
        }
      ]
    },
    {
      "cell_type": "markdown",
      "metadata": {
        "id": "cIKpX9uI1NwK",
        "colab_type": "text"
      },
      "source": [
        "### Best practice: Adam followed by SGD"
      ]
    },
    {
      "cell_type": "code",
      "metadata": {
        "id": "MlvsqvEM4Q05",
        "colab_type": "code",
        "outputId": "254c85dd-552d-4e41-c7fe-cf58b5747243",
        "colab": {
          "base_uri": "https://localhost:8080/",
          "height": 1000
        }
      },
      "source": [
        "D = torch.from_numpy(DD.astype(np.float32)).to(device)\n",
        "print('D = \\n', D)\n",
        "\n",
        "#model = dummyUnet()\n",
        "model = dummyUnet(w=torch.zeros_like(D, device=device, requires_grad=True))\n",
        "optimizerM = torch.optim.Adam(model.parameters(), lr = 1e0)\n",
        "\n",
        "\n",
        "ln = 1.\n",
        "alpha = 0.5\n",
        "# Using L1Loss with prox\n",
        "nucloss = NuclearLoss(lw=torch.tensor(alpha*ln))\n",
        "l1loss = L1Loss(lw=torch.tensor(alpha*ls))\n",
        "\n",
        "anucloss = lambda x: torch.sum(torch.svd(x)[1])*alpha*ln\n",
        "al1loss = lambda x: torch.sum(torch.abs(x)*alpha*ls)\n",
        "\n",
        "#X = torch.autograd.Variable(D, requires_grad=True)\n",
        "#S = torch.zeros_like(D, device=device, requires_grad=True)\n",
        "S = model(D)\n",
        "\n",
        "\n",
        "t = time()\n",
        "num_iter = 100\n",
        "display_step = num_iter // 10\n",
        "history_loss_prox_ISTA = []\n",
        "#optimizer = torch.optim.Adam([S], lr = 1e0)\n",
        "for iter in range(num_iter):\n",
        "\n",
        "    total_loss = 0.\n",
        "    loss = anucloss(D-S) + al1loss(S)\n",
        "    optimizerM.zero_grad()\n",
        "    loss.backward(retain_graph=True)\n",
        "    optimizerM.step()\n",
        "    total_loss += loss.item() / alpha\n",
        "\n",
        "    history_loss_prox_ISTA.append(total_loss)\n",
        "\n",
        "    if (iter+1) % display_step == 0:\n",
        "        print ('[{:3d}/{}]: loss = {:.4f},  '.format(iter+1, num_iter, total_loss))\n",
        "\n",
        "\n",
        "num_iter = 600\n",
        "display_step = num_iter // 10\n",
        "#history_loss_prox_ISTA = []\n",
        "#L = D.clone().detach()\n",
        "#optimizer = torch.optim.SGD([S], lr = 1e0)\n",
        "optimizerM = torch.optim.SGD(model.parameters(), lr = 1e0)\n",
        "for iter in range(num_iter):\n",
        "\n",
        "    total_loss = 0.\n",
        "    #Lk = L.detach()\n",
        "    with torch.no_grad():\n",
        "        Sk = model(D).detach()\n",
        "    Lk = (D-Sk).detach()\n",
        "    S = model(D)\n",
        "    #L = Lk + alpha * (D - Lk -S)\n",
        "    #L = Lk + alpha * (Sk - S)\n",
        "    #loss = nucloss(L)\n",
        "    loss = nucloss(Lk + alpha * (Sk - S))\n",
        "    optimizerM.zero_grad()\n",
        "    loss.backward(retain_graph=True)\n",
        "    optimizerM.step()\n",
        "    total_loss += loss.item() / alpha\n",
        "\n",
        "    #St = S + alpha * (D - Lk - S)\n",
        "    #loss = l1loss(St)\n",
        "    #loss = l1loss(S + alpha * (D - Lk - S))\n",
        "    loss = l1loss(S + alpha * (Sk - S))\n",
        "    #optimizer = torch.optim.SGD([W], lr = 1e0)\n",
        "    optimizerM.zero_grad()\n",
        "    loss.backward(retain_graph=True)\n",
        "    optimizerM.step()\n",
        "    total_loss += loss.item() / alpha\n",
        "    #\"\"\"\n",
        "\n",
        "    history_loss_prox_ISTA.append(total_loss)\n",
        "\n",
        "    if (iter+1) % display_step == 0:\n",
        "        print ('[{:3d}/{}]: loss = {:.4f},  '.format(iter+1, num_iter, total_loss))\n",
        "\n",
        "print((time()-t)*1000, ' [ms]')\n",
        "print('L = \\n', LL)\n",
        "print('Estimated L = \\n',L.data)\n",
        "print('MSE of L: ', np.linalg.norm(L.cpu().data.numpy()-LL)/np.linalg.norm(LL)*100, ' [%]')\n",
        "print('Its singular values = \\n', torch.svd(L)[1])\n",
        "print('S = \\n', SS)\n",
        "#S = D-L\n",
        "print('Estimated S = \\n', S.data)\n",
        "print(\"MSE of S: \", np.linalg.norm(S.cpu().data.numpy()-SS)/np.linalg.norm(SS)*100, \" [%]\")\n",
        "\n",
        "import matplotlib.pyplot as plt\n",
        "plt.title(\"$||L||_*+\\lambda||D-L||_1$\")\n",
        "plt.plot(history_loss_inexact, label=\"ADMM-type application backward by prox\")\n",
        "plt.plot(history_loss_prox, label=\"ISTA(E) with backward by prox\")\n",
        "plt.plot(history_loss_prox_ISTA, label=\"ISTA(S) with backward by prox\")\n",
        "plt.legend()\n",
        "plt.figure()\n",
        "plt.hist(abs(S.cpu().data.numpy().ravel()), bins=100, range=[0,1], log=True, label='entries of S (estimated)')\n",
        "plt.hist(abs(SS.ravel()), bins=100, range=[0,1], log=True, label='entries of S (true)')\n",
        "plt.legend()"
      ],
      "execution_count": 0,
      "outputs": [
        {
          "output_type": "stream",
          "text": [
            "D = \n",
            " tensor([[-1.9078, -7.7488,  1.6149,  ...,  0.9241, -0.6018,  1.0441],\n",
            "        [ 2.3948,  1.0600,  3.6488,  ...,  1.2157,  2.8473,  2.5703],\n",
            "        [-4.2848, -3.4934, -2.7512,  ...,  0.1583, -1.2561,  0.0852],\n",
            "        ...,\n",
            "        [ 2.3009, -4.9701, -5.0886,  ...,  9.2245, -4.1329, -4.1057],\n",
            "        [-2.0504, -1.4911,  0.8353,  ..., -3.6806, -4.8151,  1.3233],\n",
            "        [-3.3348, -1.8457, -0.9671,  ...,  2.3730, -6.6186,  0.1779]],\n",
            "       device='cuda:0')\n",
            "[ 10/100]: loss = 11265.5771,  \n",
            "[ 20/100]: loss = 9203.7207,  \n",
            "[ 30/100]: loss = 8658.0137,  \n",
            "[ 40/100]: loss = 8401.0020,  \n",
            "[ 50/100]: loss = 8291.2607,  \n",
            "[ 60/100]: loss = 8240.5977,  \n",
            "[ 70/100]: loss = 8215.6758,  \n",
            "[ 80/100]: loss = 8201.4209,  \n",
            "[ 90/100]: loss = 8191.4131,  \n",
            "[100/100]: loss = 8184.2969,  \n",
            "[ 60/600]: loss = 7666.3894,  \n",
            "[120/600]: loss = 7634.9919,  \n",
            "[180/600]: loss = 7621.8963,  \n",
            "[240/600]: loss = 7614.1964,  \n",
            "[300/600]: loss = 7609.7657,  \n",
            "[360/600]: loss = 7607.2249,  \n",
            "[420/600]: loss = 7605.5828,  \n",
            "[480/600]: loss = 7604.3235,  \n",
            "[540/600]: loss = 7603.3243,  \n",
            "[600/600]: loss = 7602.6537,  \n",
            "8108.145475387573  [ms]\n",
            "L = \n",
            " [[-1.90784113 -7.74878444  1.61491485 ...  0.92411368 -0.60183474\n",
            "   1.04409228]\n",
            " [ 2.39482888  1.06002676  3.64876465 ...  1.21573597  2.8473001\n",
            "   2.57034605]\n",
            " [-4.28483543 -3.49340388 -2.75116351 ...  0.15832979 -1.25606086\n",
            "   0.08524032]\n",
            " ...\n",
            " [ 2.30087391 -4.97013108 -5.08857471 ...  9.22445818 -4.13291681\n",
            "  -4.10566007]\n",
            " [-2.05035428 -1.49109238  0.83529654 ... -3.68057046 -4.8150633\n",
            "   1.32327762]\n",
            " [-3.33478428 -1.84572191 -0.96705129 ...  2.37295459 -6.61856924\n",
            "   0.17785633]]\n",
            "Estimated L = \n",
            " tensor([[-2.1811, -7.6682,  1.3577,  ...,  1.1251, -0.3741,  0.9561],\n",
            "        [ 2.6755,  0.9228,  3.9287,  ...,  1.3189,  2.6695,  2.4229],\n",
            "        [-3.9124, -3.5738, -2.7834,  ..., -0.1223, -1.2632,  0.1444],\n",
            "        ...,\n",
            "        [ 2.0644, -5.2004, -4.7564,  ...,  9.0602, -3.9181, -3.8459],\n",
            "        [-1.9542, -1.5308,  0.6432,  ..., -3.4670, -4.9083,  1.1607],\n",
            "        [-3.3904, -1.6328, -1.0611,  ...,  2.3249, -6.0739, -0.1227]],\n",
            "       device='cuda:0')\n",
            "MSE of L:  8.815474937037054  [%]\n",
            "Its singular values = \n",
            " tensor([917.3344, 858.9037, 772.7255, 682.7727, 665.1243, 616.1593, 571.8866,\n",
            "        539.9919, 461.1515, 428.9474,  21.4752,  21.1102,  20.5922,  20.3896,\n",
            "         20.3261,  19.9652,  19.8003,  19.5979,  19.5357,  19.3430,  19.2123,\n",
            "         19.1172,  18.9526,  18.9259,  18.9106,  18.7901,  18.6644,  18.6592,\n",
            "         18.5722,  18.5361,  18.5275,  18.4634,  18.3681,  18.3275,  18.1927,\n",
            "         18.1284,  18.0485,  18.0353,  17.9699,  17.9038,  17.8792,  17.8127,\n",
            "         17.7592,  17.6463,  17.5560,  17.4716,  17.4481,  17.3904,  17.3303,\n",
            "         17.2330], device='cuda:0', grad_fn=<SvdBackward>)\n",
            "S = \n",
            " [[0. 0. 0. ... 0. 0. 0.]\n",
            " [0. 0. 0. ... 0. 0. 0.]\n",
            " [0. 0. 0. ... 0. 0. 0.]\n",
            " ...\n",
            " [0. 0. 0. ... 0. 0. 0.]\n",
            " [0. 0. 0. ... 0. 0. 0.]\n",
            " [0. 0. 0. ... 0. 0. 0.]]\n",
            "Estimated S = \n",
            " tensor([[-6.7491e-04, -4.1217e-03,  5.7185e-04,  ...,  4.6693e-04,\n",
            "         -4.1233e-04,  1.9972e-04],\n",
            "        [ 8.2713e-04,  4.4405e-05,  1.0047e-03,  ...,  9.5995e-04,\n",
            "          1.3001e-03,  6.5464e-04],\n",
            "        [-1.9393e-03, -1.2391e-03, -9.4784e-04,  ...,  8.1794e-05,\n",
            "          1.8894e-04,  8.2141e-05],\n",
            "        ...,\n",
            "        [ 6.5918e-04, -1.6118e-03, -1.8969e-03,  ...,  5.8768e-03,\n",
            "         -5.0711e-03, -1.8195e-03],\n",
            "        [-5.6018e-04, -9.6203e-04,  4.6911e-04,  ..., -1.7464e-03,\n",
            "         -2.0310e-03,  4.3877e-04],\n",
            "        [-1.7836e-03, -2.2031e-04, -5.7565e-04,  ...,  1.7318e-03,\n",
            "         -2.4978e-03, -2.8056e-04]], device='cuda:0')\n",
            "MSE of S:  3.162393383449611  [%]\n"
          ],
          "name": "stdout"
        },
        {
          "output_type": "execute_result",
          "data": {
            "text/plain": [
              "<matplotlib.legend.Legend at 0x7f0e7061eef0>"
            ]
          },
          "metadata": {
            "tags": []
          },
          "execution_count": 12
        },
        {
          "output_type": "display_data",
          "data": {
            "image/png": "[encoded data removed]",
            "text/plain": [
              "<Figure size 432x288 with 1 Axes>"
            ]
          },
          "metadata": {
            "tags": []
          }
        },
        {
          "output_type": "display_data",
          "data": {
            "image/png": "[encoded data removed]",
            "text/plain": [
              "<Figure size 432x288 with 1 Axes>"
            ]
          },
          "metadata": {
            "tags": []
          }
        }
      ]
    },
    {
      "cell_type": "markdown",
      "metadata": {
        "id": "Xj4TKEGVcclT",
        "colab_type": "text"
      },
      "source": [
        "## RPCA with alternating gradient descent using autograd\n",
        "### cannot sparsify the solution due to the nondifferentiability (see the estimated S), although decrease the loss faster"
      ]
    },
    {
      "cell_type": "code",
      "metadata": {
        "id": "qXBPlWY2KC26",
        "colab_type": "code",
        "outputId": "ae077efc-7b68-4517-9ff6-8ca8a469c593",
        "colab": {
          "base_uri": "https://localhost:8080/",
          "height": 1000
        }
      },
      "source": [
        "D = torch.from_numpy(DD.astype(np.float32)).to(device)\n",
        "print('D = \\n', D)\n",
        "\n",
        "nucloss = lambda x: torch.sum(torch.svd(x)[1])\n",
        "l1loss = lambda x: torch.sum(torch.abs(x)*ls)\n",
        "\n",
        "L = torch.tensor(DD.astype(np.float32), device=device, requires_grad=True)\n",
        "optimizer = torch.optim.Adam([L], lr = 1e0)\n",
        "\n",
        "t = time()\n",
        "num_iter = 400\n",
        "display_step = num_iter // 10\n",
        "history_loss = []\n",
        "for iter in range(num_iter):\n",
        "    total_loss = 0.\n",
        "    \"\"\"\n",
        "    loss = nucloss(L) + l1loss(D-L)\n",
        "    optimizer.zero_grad()\n",
        "    loss.backward(retain_graph=True)\n",
        "    optimizer.step()\n",
        "    total_loss += loss.item()\n",
        "    \"\"\"\n",
        "    loss = nucloss(L)\n",
        "    optimizer.zero_grad()\n",
        "    loss.backward(retain_graph=True)\n",
        "    optimizer.step()\n",
        "    total_loss += loss.item()\n",
        "\n",
        "    loss = l1loss(D-L)\n",
        "    optimizer.zero_grad()\n",
        "    loss.backward(retain_graph=True)\n",
        "    optimizer.step()\n",
        "    total_loss += loss.item()\n",
        "    #\"\"\"\n",
        "\n",
        "    #total_loss = nucloss(L) + l1loss(D-L)\n",
        "    history_loss.append(total_loss)\n",
        "\n",
        "    if (iter+1) % display_step == 0:\n",
        "        print ('[{:3d}/{}]: loss = {:.4f},  '.format(iter+1, num_iter, total_loss))\n",
        "\n",
        "\n",
        "print((time()-t)*1000, ' [ms]')\n",
        "print('L = \\n', LL)\n",
        "print('Estimated L = \\n', L.data)\n",
        "print('MSE of L: ', np.linalg.norm(L.cpu().data.numpy()-LL)/np.linalg.norm(LL)*100, ' [%]')\n",
        "print('Its singular values = \\n', torch.svd(L)[1])\n",
        "print('S = \\n', SS)\n",
        "S = D-L\n",
        "print('Estimated S = \\n', S.data)\n",
        "print(\"MSE of S: \", np.linalg.norm(S.cpu().data.numpy()-SS)/np.linalg.norm(SS)*100, \" [%]\")\n",
        "\n",
        "import matplotlib.pyplot as plt\n",
        "plt.title(\"$||L||_*+\\lambda||D-L||_1$\")\n",
        "plt.plot(history_loss_inexact, label=\"ADMM-type application backward by prox\")\n",
        "#plt.plot(history_loss_prox, label=\"RPCA with backward by prox\")\n",
        "plt.plot(history_loss_prox, label=\"ISTA(E) with backward by prox\")\n",
        "plt.plot(history_loss_prox_ISTA, label=\"ISTA(S) with backward by prox\")\n",
        "plt.plot(history_loss, label=\"RPCA by alternating gradient descent using autograd\")\n",
        "plt.legend()\n",
        "plt.figure()\n",
        "plt.hist(abs(S.cpu().data.numpy().ravel()), bins=100, range=[0,1], log=True, label='entries of S (estimated)')\n",
        "plt.hist(abs(SS.ravel()), bins=100, range=[0,1], log=True, label='entries of S (true)')\n",
        "plt.legend()"
      ],
      "execution_count": 0,
      "outputs": [
        {
          "output_type": "stream",
          "text": [
            "D = \n",
            " tensor([[-1.9078, -7.7488,  1.6149,  ...,  0.9241, -0.6018,  1.0441],\n",
            "        [ 2.3948,  1.0600,  3.6488,  ...,  1.2157,  2.8473,  2.5703],\n",
            "        [-4.2848, -3.4934, -2.7512,  ...,  0.1583, -1.2561,  0.0852],\n",
            "        ...,\n",
            "        [ 2.3009, -4.9701, -5.0886,  ...,  9.2245, -4.1329, -4.1057],\n",
            "        [-2.0504, -1.4911,  0.8353,  ..., -3.6806, -4.8151,  1.3233],\n",
            "        [-3.3348, -1.8457, -0.9671,  ...,  2.3730, -6.6186,  0.1779]],\n",
            "       device='cuda:0')\n",
            "[ 40/400]: loss = 8616.1836,  \n",
            "[ 80/400]: loss = 8574.8728,  \n",
            "[120/400]: loss = 8567.8357,  \n",
            "[160/400]: loss = 8566.6306,  \n",
            "[200/400]: loss = 8566.2358,  \n",
            "[240/400]: loss = 8565.1799,  \n",
            "[280/400]: loss = 8565.8677,  \n",
            "[320/400]: loss = 8563.5602,  \n",
            "[360/400]: loss = 8562.4485,  \n",
            "[400/400]: loss = 8562.9512,  \n",
            "4504.583120346069  [ms]\n",
            "L = \n",
            " [[-1.90784113 -7.74878444  1.61491485 ...  0.92411368 -0.60183474\n",
            "   1.04409228]\n",
            " [ 2.39482888  1.06002676  3.64876465 ...  1.21573597  2.8473001\n",
            "   2.57034605]\n",
            " [-4.28483543 -3.49340388 -2.75116351 ...  0.15832979 -1.25606086\n",
            "   0.08524032]\n",
            " ...\n",
            " [ 2.30087391 -4.97013108 -5.08857471 ...  9.22445818 -4.13291681\n",
            "  -4.10566007]\n",
            " [-2.05035428 -1.49109238  0.83529654 ... -3.68057046 -4.8150633\n",
            "   1.32327762]\n",
            " [-3.33478428 -1.84572191 -0.96705129 ...  2.37295459 -6.61856924\n",
            "   0.17785633]]\n",
            "Estimated L = \n",
            " tensor([[-1.7134, -7.4278,  1.5804,  ...,  0.7751, -0.5519,  1.1302],\n",
            "        [ 2.3507,  1.0400,  3.4587,  ...,  1.1829,  2.7946,  2.5250],\n",
            "        [-4.1768, -3.5428, -2.5132,  ...,  0.1881, -1.5149, -0.0467],\n",
            "        ...,\n",
            "        [ 2.4087, -4.8815, -4.7357,  ...,  8.7738, -3.9958, -3.8608],\n",
            "        [-1.9305, -1.4754,  0.9791,  ..., -3.8139, -4.7482,  1.4823],\n",
            "        [-3.0867, -1.8528, -1.0168,  ...,  2.3559, -6.5933,  0.5255]],\n",
            "       device='cuda:0')\n",
            "MSE of L:  5.644136123681255  [%]\n",
            "Its singular values = \n",
            " tensor([928.4463, 866.0817, 782.0958, 690.6517, 672.1272, 620.5955, 581.9050,\n",
            "        545.5511, 466.6660, 433.6481,  14.8618,  14.4257,  14.2515,  13.9270,\n",
            "         13.8376,  13.7893,  13.6475,  13.5071,  13.3852,  13.2996,  13.1754,\n",
            "         13.0709,  13.0183,  12.9616,  12.8891,  12.8486,  12.7886,  12.7444,\n",
            "         12.7248,  12.6951,  12.6130,  12.5541,  12.5456,  12.5184,  12.4623,\n",
            "         12.3418,  12.3084,  12.2872,  12.2574,  12.1896,  12.1309,  12.0625,\n",
            "         12.0352,  11.9873,  11.9409,  11.9227,  11.8189,  11.6990,  11.6481,\n",
            "         11.5533], device='cuda:0', grad_fn=<SvdBackward>)\n",
            "S = \n",
            " [[0. 0. 0. ... 0. 0. 0.]\n",
            " [0. 0. 0. ... 0. 0. 0.]\n",
            " [0. 0. 0. ... 0. 0. 0.]\n",
            " ...\n",
            " [0. 0. 0. ... 0. 0. 0.]\n",
            " [0. 0. 0. ... 0. 0. 0.]\n",
            " [0. 0. 0. ... 0. 0. 0.]]\n",
            "Estimated S = \n",
            " tensor([[-0.1945, -0.3210,  0.0345,  ...,  0.1490, -0.0499, -0.0861],\n",
            "        [ 0.0441,  0.0200,  0.1901,  ...,  0.0328,  0.0527,  0.0454],\n",
            "        [-0.1080,  0.0494, -0.2380,  ..., -0.0297,  0.2589,  0.1319],\n",
            "        ...,\n",
            "        [-0.1078, -0.0886, -0.3528,  ...,  0.4506, -0.1371, -0.2448],\n",
            "        [-0.1199, -0.0157, -0.1438,  ...,  0.1333, -0.0669, -0.1590],\n",
            "        [-0.2480,  0.0071,  0.0497,  ...,  0.0170, -0.0253, -0.3476]],\n",
            "       device='cuda:0')\n",
            "MSE of S:  12.413383023709683  [%]\n"
          ],
          "name": "stdout"
        },
        {
          "output_type": "execute_result",
          "data": {
            "text/plain": [
              "<matplotlib.legend.Legend at 0x7f0e71064e80>"
            ]
          },
          "metadata": {
            "tags": []
          },
          "execution_count": 8
        },
        {
          "output_type": "display_data",
          "data": {
            "image/png": "[encoded data removed]",
            "text/plain": [
              "<Figure size 432x288 with 1 Axes>"
            ]
          },
          "metadata": {
            "tags": []
          }
        },
        {
          "output_type": "display_data",
          "data": {
            "image/png": "[encoded data removed]",
            "text/plain": [
              "<Figure size 432x288 with 1 Axes>"
            ]
          },
          "metadata": {
            "tags": []
          }
        }
      ]
    },
    {
      "cell_type": "markdown",
      "metadata": {
        "id": "8IayKVy6dTEs",
        "colab_type": "text"
      },
      "source": [
        "## RPCA by gradient descent using autograd\n",
        "### straightforward use of autograd for RPCA cannot sparsify the solution (see the estimated S)."
      ]
    },
    {
      "cell_type": "code",
      "metadata": {
        "id": "k2SFbYs0-juB",
        "colab_type": "code",
        "outputId": "0041df9a-fc8f-47e8-e229-55aa127f6713",
        "colab": {
          "base_uri": "https://localhost:8080/",
          "height": 1000
        }
      },
      "source": [
        "D = torch.from_numpy(DD.astype(np.float32)).to(device)\n",
        "print('D = \\n', D)\n",
        "\n",
        "le = 1e+6\n",
        "\n",
        "# Using sum of abs with autogradient\n",
        "nucloss = lambda x: torch.sum(torch.svd(x)[1])\n",
        "l1loss = lambda x: torch.sum(torch.abs(x)*ls)\n",
        "l2loss = lambda x: torch.sum(x**2)\n",
        "\n",
        "L = torch.tensor(DD.astype(np.float32), device=device, requires_grad=True)\n",
        "S = torch.zeros_like(D, device=device, requires_grad=True)\n",
        "\n",
        "t = time()\n",
        "num_iter = 800\n",
        "display_step = num_iter // 10\n",
        "history_loss = []\n",
        "for iter in range(num_iter):\n",
        "    total_loss = 0.\n",
        "    #\"\"\"\n",
        "    #optimizer = torch.optim.SGD([L,S], lr = 1e0)\n",
        "    #loss = nucloss(L) + l1loss(S) + l2loss((D-L-S)/(1+2*le))\n",
        "\n",
        "    #optimizer = torch.optim.SGD([L], lr = 1e0)   # SGD works better than Adam\n",
        "    optimizer = torch.optim.AdamW([L], lr = 0.3)  # Adam would disappoint you\n",
        "    loss = nucloss(L) + l1loss(D-L)\n",
        "\n",
        "    #optimizer = torch.optim.SGD([S], lr = 1e0)   # SGD works better than Adam\n",
        "    #optimizer = torch.optim.Adam([S], lr = 1e-1)  # Adam would disappoint you\n",
        "    #loss = nucloss(D-S) + l1loss(S)\n",
        "\n",
        "    optimizer.zero_grad()\n",
        "    loss.backward(retain_graph=True)\n",
        "    optimizer.step()\n",
        "    total_loss += loss.item()\n",
        "    \"\"\"\n",
        "    optimizer = torch.optim.SGD([L], lr = 1e-1)\n",
        "    loss = nucloss(L)\n",
        "    optimizer.zero_grad()\n",
        "    loss.backward(retain_graph=True)\n",
        "    optimizer.step()\n",
        "    total_loss += loss.item()\n",
        "\n",
        "    optimizer = torch.optim.SGD([S], lr = 1e-1)\n",
        "    loss = l1loss(S)\n",
        "    optimizer.zero_grad()\n",
        "    loss.backward(retain_graph=True)\n",
        "    optimizer.step()\n",
        "    total_loss += loss.item()\n",
        "\n",
        "    optimizer = torch.optim.SGD([L,S], lr = 1e-1)\n",
        "    loss = l2loss(D-L-S)\n",
        "    optimizer.zero_grad()\n",
        "    loss.backward(retain_graph=True)\n",
        "    optimizer.step()\n",
        "    total_loss += loss.item()\n",
        "    \"\"\"\n",
        "\n",
        "    #total_loss = nucloss(L) + l1loss(D-L)\n",
        "    history_loss.append(total_loss)\n",
        "\n",
        "    if (iter+1) % display_step == 0:\n",
        "        print ('[{:3d}/{}]: loss = {:.4f},  '.format(iter+1, num_iter, total_loss))\n",
        "\n",
        "S = D-L\n",
        "#L = D-S\n",
        "\n",
        "print((time()-t)*1000, ' [ms]')\n",
        "print('L = \\n', LL)\n",
        "print('Estimated L = \\n', L.data)\n",
        "print('MSE of L: ', np.linalg.norm(L.cpu().data.numpy()-LL)/np.linalg.norm(LL)*100, ' [%]')\n",
        "print('Its singular values = \\n', torch.svd(L)[1])\n",
        "print('S = \\n', SS)\n",
        "print('Estimated S = \\n', S.data)\n",
        "print(\"MSE of S: \", np.linalg.norm(S.cpu().data.numpy()-SS)/np.linalg.norm(SS)*100, \" [%]\")\n",
        "\n",
        "import matplotlib.pyplot as plt\n",
        "plt.title(\"$||L||_*+\\lambda||D-L||_1$\")\n",
        "plt.plot(history_loss_inexact, label=\"ADMM-type application backward by prox\")\n",
        "#plt.plot(history_loss_prox, label=\"RPCA with backward by prox\")\n",
        "plt.plot(history_loss_prox, label=\"ISTA(E) with backward by prox\")\n",
        "plt.plot(history_loss_prox_ISTA, label=\"ISTA(S) with backward by prox\")\n",
        "plt.plot(history_loss, label=\"RPCA by gradient descent using autograd\")\n",
        "plt.legend()\n",
        "plt.figure()\n",
        "plt.hist(abs(S.cpu().data.numpy().ravel()), bins=100, range=[0,1], log=True, label='entries of S (estimated)')\n",
        "plt.hist(abs(SS.ravel()), bins=100, range=[0,1], log=True, label='entries of S (true)')\n",
        "plt.legend()"
      ],
      "execution_count": 0,
      "outputs": [
        {
          "output_type": "stream",
          "text": [
            "D = \n",
            " tensor([[-1.9078, -7.7488,  1.6149,  ...,  0.9241, -0.6018,  1.0441],\n",
            "        [ 2.3948,  1.0600,  3.6488,  ...,  1.2157,  2.8473,  2.5703],\n",
            "        [-4.2848, -3.4934, -2.7512,  ...,  0.1583, -1.2561,  0.0852],\n",
            "        ...,\n",
            "        [ 2.3009, -4.9701, -5.0886,  ...,  9.2245, -4.1329, -4.1057],\n",
            "        [-2.0504, -1.4911,  0.8353,  ..., -3.6806, -4.8151,  1.3233],\n",
            "        [-3.3348, -1.8457, -0.9671,  ...,  2.3730, -6.6186,  0.1779]],\n",
            "       device='cuda:0')\n",
            "[ 80/800]: loss = 8914.5732,  \n",
            "[160/800]: loss = 8915.2861,  \n",
            "[240/800]: loss = 8923.0889,  \n",
            "[320/800]: loss = 8931.0225,  \n",
            "[400/800]: loss = 8933.9199,  \n",
            "[480/800]: loss = 8938.7930,  \n",
            "[560/800]: loss = 8938.7959,  \n",
            "[640/800]: loss = 8941.6592,  \n",
            "[720/800]: loss = 8945.2441,  \n",
            "[800/800]: loss = 8943.6416,  \n",
            "8765.326738357544  [ms]\n",
            "L = \n",
            " [[-1.90784113 -7.74878444  1.61491485 ...  0.92411368 -0.60183474\n",
            "   1.04409228]\n",
            " [ 2.39482888  1.06002676  3.64876465 ...  1.21573597  2.8473001\n",
            "   2.57034605]\n",
            " [-4.28483543 -3.49340388 -2.75116351 ...  0.15832979 -1.25606086\n",
            "   0.08524032]\n",
            " ...\n",
            " [ 2.30087391 -4.97013108 -5.08857471 ...  9.22445818 -4.13291681\n",
            "  -4.10566007]\n",
            " [-2.05035428 -1.49109238  0.83529654 ... -3.68057046 -4.8150633\n",
            "   1.32327762]\n",
            " [-3.33478428 -1.84572191 -0.96705129 ...  2.37295459 -6.61856924\n",
            "   0.17785633]]\n",
            "Estimated L = \n",
            " tensor([[-2.1811, -7.6682,  1.3577,  ...,  1.1251, -0.3741,  0.9561],\n",
            "        [ 2.6755,  0.9228,  3.9287,  ...,  1.3189,  2.6695,  2.4229],\n",
            "        [-3.9124, -3.5738, -2.7834,  ..., -0.1223, -1.2632,  0.1444],\n",
            "        ...,\n",
            "        [ 2.0644, -5.2004, -4.7564,  ...,  9.0602, -3.9181, -3.8459],\n",
            "        [-1.9542, -1.5308,  0.6432,  ..., -3.4670, -4.9083,  1.1607],\n",
            "        [-3.3904, -1.6328, -1.0611,  ...,  2.3249, -6.0739, -0.1227]],\n",
            "       device='cuda:0')\n",
            "MSE of L:  8.815474937037054  [%]\n",
            "Its singular values = \n",
            " tensor([917.3344, 858.9037, 772.7255, 682.7727, 665.1243, 616.1593, 571.8866,\n",
            "        539.9919, 461.1515, 428.9474,  21.4752,  21.1102,  20.5922,  20.3896,\n",
            "         20.3261,  19.9652,  19.8003,  19.5979,  19.5357,  19.3430,  19.2123,\n",
            "         19.1172,  18.9526,  18.9259,  18.9106,  18.7901,  18.6644,  18.6592,\n",
            "         18.5722,  18.5361,  18.5275,  18.4634,  18.3681,  18.3275,  18.1927,\n",
            "         18.1284,  18.0485,  18.0353,  17.9699,  17.9038,  17.8792,  17.8127,\n",
            "         17.7592,  17.6463,  17.5560,  17.4716,  17.4481,  17.3904,  17.3303,\n",
            "         17.2330], device='cuda:0', grad_fn=<SvdBackward>)\n",
            "S = \n",
            " [[0. 0. 0. ... 0. 0. 0.]\n",
            " [0. 0. 0. ... 0. 0. 0.]\n",
            " [0. 0. 0. ... 0. 0. 0.]\n",
            " ...\n",
            " [0. 0. 0. ... 0. 0. 0.]\n",
            " [0. 0. 0. ... 0. 0. 0.]\n",
            " [0. 0. 0. ... 0. 0. 0.]]\n",
            "Estimated S = \n",
            " tensor([[ 0.2732, -0.0806,  0.2572,  ..., -0.2010, -0.2277,  0.0880],\n",
            "        [-0.2807,  0.1373, -0.2799,  ..., -0.1031,  0.1778,  0.1474],\n",
            "        [-0.3724,  0.0804,  0.0323,  ...,  0.2806,  0.0072, -0.0591],\n",
            "        ...,\n",
            "        [ 0.2365,  0.2303, -0.3322,  ...,  0.1642, -0.2148, -0.2598],\n",
            "        [-0.0962,  0.0397,  0.1921,  ..., -0.2136,  0.0933,  0.1626],\n",
            "        [ 0.0556, -0.2129,  0.0941,  ...,  0.0480, -0.5447,  0.3005]],\n",
            "       device='cuda:0')\n",
            "MSE of S:  19.38824018364841  [%]\n"
          ],
          "name": "stdout"
        },
        {
          "output_type": "execute_result",
          "data": {
            "text/plain": [
              "<matplotlib.legend.Legend at 0x7f0e70cac128>"
            ]
          },
          "metadata": {
            "tags": []
          },
          "execution_count": 9
        },
        {
          "output_type": "display_data",
          "data": {
            "image/png": "[encoded data removed]",
            "text/plain": [
              "<Figure size 432x288 with 1 Axes>"
            ]
          },
          "metadata": {
            "tags": []
          }
        },
        {
          "output_type": "display_data",
          "data": {
            "image/png": "[encoded data removed]",
            "text/plain": [
              "<Figure size 432x288 with 1 Axes>"
            ]
          },
          "metadata": {
            "tags": []
          }
        }
      ]
    },
    {
      "cell_type": "code",
      "metadata": {
        "id": "62cfHX20Fm6z",
        "colab_type": "code",
        "outputId": "42219a36-f334-4595-c8bf-0f98c666041e",
        "colab": {
          "base_uri": "https://localhost:8080/",
          "height": 301
        }
      },
      "source": [
        "import matplotlib.pyplot as plt\n",
        "plt.title(\"$||L||_*+\\lambda||D-L||_1$\")\n",
        "plt.plot(history_loss_inexact, label=\"ADMM-type application backward by prox\")\n",
        "#plt.plot(history_loss_prox, label=\"RPCA with backward by prox\")\n",
        "plt.plot(history_loss_prox, label=\"ISTA(E) with backward by prox\")\n",
        "plt.plot(history_loss_prox_ISTA, label=\"ISTA(S) with backward by prox\")\n",
        "plt.plot(history_loss, label=\"RPCA by gradient descent using autograd\")\n",
        "plt.yscale('log'); plt.ylim(7.5e+3,1e+4)\n",
        "plt.legend()\n"
      ],
      "execution_count": 0,
      "outputs": [
        {
          "output_type": "execute_result",
          "data": {
            "text/plain": [
              "<matplotlib.legend.Legend at 0x7f0e709f8630>"
            ]
          },
          "metadata": {
            "tags": []
          },
          "execution_count": 10
        },
        {
          "output_type": "display_data",
          "data": {
            "image/png": "[encoded data removed]",
            "text/plain": [
              "<Figure size 432x288 with 1 Axes>"
            ]
          },
          "metadata": {
            "tags": []
          }
        }
      ]
    },
    {
      "cell_type": "code",
      "metadata": {
        "id": "K9Nsug9GnHVH",
        "colab_type": "code",
        "colab": {}
      },
      "source": [
        ""
      ],
      "execution_count": 0,
      "outputs": []
    }
  ]
}