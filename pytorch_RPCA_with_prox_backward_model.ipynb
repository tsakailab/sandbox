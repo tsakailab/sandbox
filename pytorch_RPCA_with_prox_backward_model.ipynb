{
  "nbformat": 4,
  "nbformat_minor": 0,
  "metadata": {
    "colab": {
      "name": "pytorch_RPCA_with_prox_backward_model.ipynb",
      "provenance": [],
      "collapsed_sections": [],
      "include_colab_link": true
    },
    "kernelspec": {
      "name": "python3",
      "display_name": "Python 3"
    },
    "accelerator": "GPU"
  },
  "cells": [
    {
      "cell_type": "markdown",
      "metadata": {
        "id": "view-in-github",
        "colab_type": "text"
      },
      "source": [
        "<a href=\"https://colab.research.google.com/github/tsakailab/sandbox/blob/master/pytorch_RPCA_with_prox_backward_model.ipynb\" target=\"_parent\"><img src=\"https://colab.research.google.com/assets/colab-badge.svg\" alt=\"Open In Colab\"/></a>"
      ]
    },
    {
      "cell_type": "code",
      "metadata": {
        "id": "XeRc34BqIypb",
        "colab_type": "code",
        "outputId": "de16ab7f-40c4-48d9-ff92-2bf71b518b42",
        "colab": {
          "base_uri": "https://localhost:8080/",
          "height": 72
        }
      },
      "source": [
        "import torch\n",
        "device = torch.device('cpu')\n",
        "if torch.cuda.is_available():\n",
        "    device = torch.device('cuda')\n",
        "    print(torch.cuda.get_device_name(torch.cuda.current_device()))\n",
        "    print(torch.cuda.memory_allocated())\n",
        "    print(torch.cuda.memory_cached())\n",
        "    torch.cuda.empty_cache()"
      ],
      "execution_count": 1,
      "outputs": [
        {
          "output_type": "stream",
          "text": [
            "Tesla T4\n",
            "0\n",
            "0\n"
          ],
          "name": "stdout"
        }
      ]
    },
    {
      "cell_type": "markdown",
      "metadata": {
        "id": "AYlu1Qh9BwbE",
        "colab_type": "text"
      },
      "source": [
        "# L1 and nuclear loss functions with backward by prox (soft thresholding and singular value thresholding)"
      ]
    },
    {
      "cell_type": "code",
      "metadata": {
        "id": "mFnnjF-9XmzR",
        "colab_type": "code",
        "colab": {}
      },
      "source": [
        "soft = lambda z, th: z.sign() * (z.abs() - th).max(torch.tensor(0., device=device))\n",
        "\n",
        "## L1 loss\n",
        "class L1LossFunc(torch.autograd.Function):\n",
        "    @staticmethod\n",
        "    def forward(ctx, input, lw):\n",
        "        ctx.save_for_backward(input, lw)\n",
        "        return torch.sum(torch.abs(input)*lw)\n",
        "\n",
        "    @staticmethod\n",
        "    def backward(ctx, grad_output):\n",
        "        input, lw = ctx.saved_tensors\n",
        "        grad_input = grad_output.clone()\n",
        "        return (input - soft(input, lw)) * grad_input, torch.abs(input) * grad_input\n",
        "\n",
        "class L1Loss(torch.nn.Module):\n",
        "    def __init__(self, lw=torch.tensor(1.0, device=device)):\n",
        "        super(L1Loss, self).__init__()\n",
        "        self.fn = L1LossFunc.apply\n",
        "        self.lw = torch.nn.Parameter(lw, requires_grad=lw.requires_grad)\n",
        "\n",
        "    def forward(self, input):\n",
        "        return self.fn(input, self.lw)\n",
        "\n",
        "\n",
        "## Nuclear loss\n",
        "class NuclearLossFunc(torch.autograd.Function):\n",
        "    @staticmethod\n",
        "    def forward(ctx, input, lw):\n",
        "        u, s, v = torch.svd(input)\n",
        "        ctx.save_for_backward(input, lw, u, s, v)\n",
        "        return torch.sum(s*lw)\n",
        "\n",
        "    @staticmethod\n",
        "    def backward(ctx, grad_output):\n",
        "        input, lw, u, s, v = ctx.saved_tensors\n",
        "        grad_input = grad_output.clone()\n",
        "        svt_input = torch.matmul(torch.matmul(u, torch.diag_embed(soft(s,lw))), torch.transpose(v, -2, -1))\n",
        "        return (input - svt_input) * grad_input, s * grad_input\n",
        "\n",
        "class NuclearLoss(torch.nn.Module):\n",
        "    def __init__(self, lw=torch.tensor(1.0, device=device)):\n",
        "        super(NuclearLoss, self).__init__()\n",
        "        self.fn = NuclearLossFunc.apply\n",
        "        self.lw = torch.nn.Parameter(lw, requires_grad=lw.requires_grad)\n",
        "\n",
        "    def forward(self, input):\n",
        "        return self.fn(input, self.lw)\n"
      ],
      "execution_count": 0,
      "outputs": []
    },
    {
      "cell_type": "markdown",
      "metadata": {
        "id": "tBdaQDCkxz-O",
        "colab_type": "text"
      },
      "source": [
        "# Robust PCA (Low-rank and sparse matrix approximation): $$\\textrm{Minimize}_{(L,S)}\\|L\\|_* + \\lambda_S \\|S\\|_1+\\lambda_F\\|D-(L+S)\\|_F^2$$\n",
        "### Auto differentiation vs. proximal operation\n",
        "\n"
      ]
    },
    {
      "cell_type": "code",
      "metadata": {
        "id": "RCyGhCYiIyrs",
        "colab_type": "code",
        "outputId": "6eff7ea5-6b5e-438f-cced-a95cb0bb9958",
        "colab": {
          "base_uri": "https://localhost:8080/",
          "height": 108
        }
      },
      "source": [
        "# generate a low-rank matrix L and a sparse matrix S\n",
        "from time import time\n",
        "import numpy as np\n",
        "m, n = 10000, 50\n",
        "rnk, nnz = 10, 10000\n",
        "LL = np.random.randn(m,rnk).dot(np.random.randn(rnk,n))\n",
        "SS = np.zeros((m,n))\n",
        "support = np.random.choice(m*n, nnz, replace=False)\n",
        "SS.ravel()[support] = 10.* np.random.randn(support.size)\n",
        "\n",
        "sv = np.linalg.svd(LL, compute_uv=False)\n",
        "print('singular values of L =')\n",
        "print(sv[:min(10,m,n)])\n",
        "print('mean(abs(L)) = %.2e' % (np.mean(np.abs(LL))))\n",
        "print('mean(abs(S)) = %.2e, %d nonzeros in S (%2.1f%%)' % (np.mean(np.abs(SS)),support.size,100.*support.size/(m*n)))\n",
        "\n",
        "DD = LL + SS"
      ],
      "execution_count": 20,
      "outputs": [
        {
          "output_type": "stream",
          "text": [
            "singular values of L =\n",
            "[851.61229877 836.51689816 787.76558244 731.43678478 687.23132255\n",
            " 633.2088976  606.44760949 569.14944028 553.13771181 465.06272081]\n",
            "mean(abs(L)) = 2.40e+00\n",
            "mean(abs(S)) = 1.61e-01, 10000 nonzeros in S (2.0%)\n"
          ],
          "name": "stdout"
        }
      ]
    },
    {
      "cell_type": "code",
      "metadata": {
        "id": "gsP3D-62tjHC",
        "colab_type": "code",
        "outputId": "215e76af-9bd8-461f-ddc9-8fe2944c7b82",
        "colab": {
          "base_uri": "https://localhost:8080/",
          "height": 72
        }
      },
      "source": [
        "snr = 0.003\n",
        "EE = np.sqrt(snr) * np.random.randn(m,n) / np.sqrt(m*n) * (np.linalg.norm(DD, 'fro'))\n",
        "DD += EE\n",
        "print(np.linalg.norm(DD-LL-SS, 'fro')/np.linalg.norm(LL+SS, 'fro'))\n",
        "print(np.linalg.norm(DD-LL-SS, 'fro')**2/np.linalg.norm(LL+SS, 'fro')**2)\n",
        "\n",
        "ls = 1./np.sqrt(max(m,n))\n",
        "print('lambda_S = ', ls)\n",
        "ln = 1."
      ],
      "execution_count": 21,
      "outputs": [
        {
          "output_type": "stream",
          "text": [
            "0.05477417043996979\n",
            "0.0030002097473868596\n",
            "lambda_S =  0.01\n"
          ],
          "name": "stdout"
        }
      ]
    },
    {
      "cell_type": "code",
      "metadata": {
        "id": "E0CrkmrOBBcE",
        "colab_type": "code",
        "colab": {}
      },
      "source": [
        "class dummyUnet(torch.nn.Module):\n",
        "    def __init__(self, w=torch.tensor(1.0, device=device)):\n",
        "        super(dummyUnet, self).__init__()\n",
        "        self.param = torch.nn.Parameter(w, requires_grad=True)\n",
        "\n",
        "    def forward(self, inputD):  # compute the output only from inputD!\n",
        "        return self.param\n"
      ],
      "execution_count": 0,
      "outputs": []
    },
    {
      "cell_type": "markdown",
      "metadata": {
        "id": "hZ4VGGufaeuM",
        "colab_type": "text"
      },
      "source": [
        "## ADMM-type (Inexact ALM) application of backward by prox\n",
        "### less estimation error, can clearly identify the sparse components"
      ]
    },
    {
      "cell_type": "code",
      "metadata": {
        "colab_type": "code",
        "outputId": "cf0f28ae-d2a3-417a-f1c6-c88741cea7ab",
        "id": "7KhlhTkvHRfW",
        "colab": {
          "base_uri": "https://localhost:8080/",
          "height": 1000
        }
      },
      "source": [
        "D = torch.from_numpy(DD.astype(np.float32)).to(device)\n",
        "print('D = \\n', D)\n",
        "\n",
        "le = 1e+6\n",
        "print('lambda_F = ', le)\n",
        "\n",
        "# Using L1Loss with prox\n",
        "nucloss = NuclearLoss()\n",
        "l1loss = L1Loss(lw=torch.tensor(ls))\n",
        "l2loss = lambda x: torch.sum(x**2)\n",
        "\n",
        "L = 0\n",
        "S = 0\n",
        "E = 0\n",
        "Y = 0\n",
        "\n",
        "t = time()\n",
        "num_iter = 400\n",
        "display_step = num_iter // 10\n",
        "history_loss_inexact = []\n",
        "for iter in range(num_iter):\n",
        "    total_loss = 0.\n",
        "\n",
        "    X = (D-S-E+Y).clone().detach().requires_grad_(True)\n",
        "    loss = nucloss(X)\n",
        "    optimizer = torch.optim.SGD([X], lr = 1e0)\n",
        "    optimizer.zero_grad()\n",
        "    loss.backward(retain_graph=True)\n",
        "    optimizer.step()\n",
        "    L = X.detach()\n",
        "\n",
        "    X = (D-L-E+Y).clone().detach().requires_grad_(True)\n",
        "    loss = l1loss(X)\n",
        "    optimizer = torch.optim.SGD([X], lr = 1e0)\n",
        "    optimizer.zero_grad()\n",
        "    loss.backward(retain_graph=True)\n",
        "    optimizer.step()\n",
        "    S = X.detach()\n",
        "\n",
        "    X = ((D-L-S+Y)/ (1+2*le)).clone().detach().requires_grad_(True)\n",
        "    loss = l2loss(X)\n",
        "    optimizer = torch.optim.SGD([X], lr = 1e0)\n",
        "    optimizer.zero_grad()\n",
        "    loss.backward(retain_graph=True)\n",
        "    optimizer.step()\n",
        "    E = X.detach()\n",
        "\n",
        "    Y = Y + (D-L-S-E)\n",
        "\n",
        "    total_loss = nucloss(L) + l1loss(D-L)\n",
        "\n",
        "    history_loss_inexact.append(total_loss)\n",
        "\n",
        "    if (iter+1) % display_step == 0:\n",
        "        print ('[{:3d}/{}]: loss = {:.4f},  '.format(iter+1, num_iter, total_loss))\n",
        "\n",
        "print((time()-t)*1000, ' [ms]')\n",
        "print('L = \\n', LL)\n",
        "print('Estimated L = \\n', L.data)\n",
        "print('MSE of L: ', np.linalg.norm(L.cpu().data.numpy()-LL)/np.linalg.norm(LL)*100, ' [%]')\n",
        "print('Its singular values = \\n', torch.svd(L)[1])\n",
        "print('S = \\n', SS)\n",
        "print('Estimated S = \\n', S.data)\n",
        "print(\"MSE of S: \", np.linalg.norm(S.cpu().data.numpy()-SS)/np.linalg.norm(SS)*100, \" [%]\")\n",
        "\n",
        "import matplotlib.pyplot as plt\n",
        "plt.title(\"$||L||_*+\\lambda||D-L||_1$\")\n",
        "plt.plot(history_loss_inexact, label=\"ADMM-type application backward by prox\")\n",
        "plt.legend()\n",
        "plt.figure()\n",
        "plt.hist(abs(S.cpu().data.numpy().ravel()), bins=100, range=[0,1], log=True, label='entries of S (estimated)')\n",
        "plt.hist(abs(SS.ravel()), bins=100, range=[0,1], log=True, label='entries of S (true)')\n",
        "plt.legend()"
      ],
      "execution_count": 23,
      "outputs": [
        {
          "output_type": "stream",
          "text": [
            "D = \n",
            " tensor([[-18.6831,  -2.8241,  -1.2668,  ...,  -5.4402,  -0.0629,   5.0346],\n",
            "        [  4.5984,   0.0689,   2.7869,  ...,   5.7166,  -0.4827,   0.7469],\n",
            "        [ 13.9196,   0.0842,  -0.1103,  ...,  -2.3920,  -1.6840,   4.6884],\n",
            "        ...,\n",
            "        [ -1.8243,   4.3827,   3.7430,  ...,  -6.1997,   0.1980,   3.8804],\n",
            "        [  1.0800,  -0.8962,   1.9251,  ...,  -1.8682,   2.4670,  -0.1085],\n",
            "        [  0.1348,   0.0984,   4.2954,  ...,  11.8453,   4.1310,  -2.8256]],\n",
            "       device='cuda:0')\n",
            "lambda_F =  1000000.0\n",
            "[ 40/400]: loss = 11537.9912,  \n",
            "[ 80/400]: loss = 10513.1826,  \n",
            "[120/400]: loss = 9564.2627,  \n",
            "[160/400]: loss = 8764.8564,  \n",
            "[200/400]: loss = 8270.1641,  \n",
            "[240/400]: loss = 8092.5269,  \n",
            "[280/400]: loss = 8037.8032,  \n",
            "[320/400]: loss = 8017.2197,  \n",
            "[360/400]: loss = 8010.2432,  \n",
            "[400/400]: loss = 8007.4492,  \n",
            "8439.49818611145  [ms]\n",
            "L = \n",
            " [[-1.39414735e+00 -3.05281429e+00 -1.24371651e+00 ... -5.36226365e+00\n",
            "   5.00080875e-01  5.40107276e+00]\n",
            " [ 2.91838198e+00 -2.11116383e-03  2.66048810e+00 ...  5.92775019e+00\n",
            "  -4.31205949e-01  1.01828835e+00]\n",
            " [ 3.20154867e-01  8.58301008e-02 -1.52123328e-01 ... -2.40967269e+00\n",
            "  -1.79575071e+00  4.47882155e+00]\n",
            " ...\n",
            " [-1.96525311e+00  4.46928678e+00  3.91879187e+00 ... -5.93267961e+00\n",
            "   3.21940605e-01  4.06576650e+00]\n",
            " [ 1.36566204e+00 -1.06438482e+00  1.67433428e+00 ... -1.79087902e+00\n",
            "   2.39991499e+00 -1.50640586e-01]\n",
            " [ 8.16273143e-02  3.09731200e-01  4.11423721e+00 ... -2.94726282e+00\n",
            "   3.99733269e+00 -2.70843152e+00]]\n",
            "Estimated L = \n",
            " tensor([[-1.4430, -2.9100, -1.1473,  ..., -5.1841,  0.5438,  5.0346],\n",
            "        [ 2.7138,  0.0454,  2.6928,  ...,  5.7195, -0.4006,  0.7469],\n",
            "        [ 0.5786,  0.0802, -0.1118,  ..., -2.3920, -1.6545,  4.5716],\n",
            "        ...,\n",
            "        [-1.8513,  4.3828,  3.7736,  ..., -5.6154,  0.2269,  3.8804],\n",
            "        [ 1.4191, -0.9369,  1.7373,  ..., -1.7679,  2.3517, -0.2126],\n",
            "        [ 0.0319,  0.1938,  3.8050,  ..., -2.4328,  3.5091, -2.5727]],\n",
            "       device='cuda:0')\n",
            "MSE of L:  5.853168690408757  [%]\n",
            "Its singular values = \n",
            " tensor([8.2286e+02, 8.0869e+02, 7.5824e+02, 7.0260e+02, 6.5928e+02, 6.0482e+02,\n",
            "        5.7785e+02, 5.4041e+02, 5.2442e+02, 4.3710e+02, 8.7934e-01, 5.8815e-01,\n",
            "        5.2748e-01, 3.1935e-01, 2.8528e-01, 1.2042e-01, 6.1508e-02, 1.2646e-04,\n",
            "        1.0037e-04, 6.3580e-05, 5.4546e-05, 5.4263e-05, 5.3409e-05, 5.3201e-05,\n",
            "        4.7372e-05, 4.7105e-05, 4.6137e-05, 4.5905e-05, 4.5771e-05, 4.5551e-05,\n",
            "        4.4502e-05, 4.3460e-05, 3.9216e-05, 3.9059e-05, 3.9059e-05, 3.9059e-05,\n",
            "        3.9059e-05, 3.9059e-05, 3.9059e-05, 3.9059e-05, 3.9059e-05, 3.9059e-05,\n",
            "        3.9059e-05, 3.9059e-05, 3.9059e-05, 3.9059e-05, 3.9059e-05, 3.9059e-05,\n",
            "        3.9059e-05, 3.9059e-05], device='cuda:0')\n",
            "S = \n",
            " [[-17.47557456   0.           0.         ...   0.           0.\n",
            "    0.        ]\n",
            " [  1.53140471   0.           0.         ...   0.           0.\n",
            "    0.        ]\n",
            " [ 13.56153025   0.           0.         ...   0.           0.\n",
            "    0.        ]\n",
            " ...\n",
            " [  0.           0.           0.         ...   0.           0.\n",
            "    0.        ]\n",
            " [  0.           0.           0.         ...   0.           0.\n",
            "    0.        ]\n",
            " [  0.           0.           0.         ...  14.84057553   0.\n",
            "    0.        ]]\n",
            "Estimated S = \n",
            " tensor([[-1.7240e+01,  8.5938e-02, -1.1949e-01,  ..., -2.5612e-01,\n",
            "         -6.0667e-01,  0.0000e+00],\n",
            "        [ 1.8846e+00,  2.3509e-02,  9.4135e-02,  ..., -2.8095e-03,\n",
            "         -8.2177e-02,  0.0000e+00],\n",
            "        [ 1.3341e+01,  4.0533e-03,  1.5001e-03,  ...,  0.0000e+00,\n",
            "         -2.9498e-02,  1.1686e-01],\n",
            "        ...,\n",
            "        [ 2.6976e-02,  0.0000e+00, -3.0618e-02,  ..., -5.8438e-01,\n",
            "         -2.8926e-02,  0.0000e+00],\n",
            "        [-3.3908e-01,  4.0709e-02,  1.8785e-01,  ..., -1.0030e-01,\n",
            "          1.1529e-01,  1.0410e-01],\n",
            "        [ 1.0293e-01, -9.5356e-02,  4.9040e-01,  ...,  1.4278e+01,\n",
            "          6.2193e-01, -2.5293e-01]], device='cuda:0')\n",
            "MSE of S:  16.161183611707017  [%]\n"
          ],
          "name": "stdout"
        },
        {
          "output_type": "execute_result",
          "data": {
            "text/plain": [
              "<matplotlib.legend.Legend at 0x7f9b42e3ab38>"
            ]
          },
          "metadata": {
            "tags": []
          },
          "execution_count": 23
        },
        {
          "output_type": "display_data",
          "data": {
            "image/png": "[encoded data removed]",
            "text/plain": [
              "<Figure size 432x288 with 1 Axes>"
            ]
          },
          "metadata": {
            "tags": []
          }
        },
        {
          "output_type": "display_data",
          "data": {
            "image/png": "[encoded data removed]",
            "text/plain": [
              "<Figure size 432x288 with 1 Axes>"
            ]
          },
          "metadata": {
            "tags": []
          }
        }
      ]
    },
    {
      "cell_type": "markdown",
      "metadata": {
        "id": "ture8ApnbOo5",
        "colab_type": "text"
      },
      "source": [
        "## ISTA with backward by prox\n",
        "$$ L^{(k+1)}\\gets\\textrm{SVT}(L^{(k)}+\\alpha(D-L^{(k)}-S^{(k)}),\\alpha\\lambda_L)$$\n",
        "$$ S^{(k+1)}\\gets\\textrm{soft}(S^{(k)}+\\alpha(D-L^{(k)}-S^{(k)}),\\alpha\\lambda_S)$$\n"
      ]
    },
    {
      "cell_type": "code",
      "metadata": {
        "id": "DXDJCrBRwvG1",
        "colab_type": "code",
        "outputId": "4c60798d-c783-4645-e8a8-7703402ba450",
        "colab": {
          "base_uri": "https://localhost:8080/",
          "height": 1000
        }
      },
      "source": [
        "D = torch.from_numpy(DD.astype(np.float32)).to(device)\n",
        "print('D = \\n', D)\n",
        "\n",
        "ln = 1.\n",
        "alpha = 1.\n",
        "# Using L1Loss with prox\n",
        "nucloss = NuclearLoss(lw=torch.tensor(alpha*ln))\n",
        "l1loss = L1Loss(lw=torch.tensor(alpha*ls))\n",
        "#X = torch.autograd.Variable(D, requires_grad=True)\n",
        "L = torch.tensor(DD.astype(np.float32), device=device, requires_grad=True)\n",
        "S = torch.zeros_like(L, device=device, requires_grad=True)\n",
        "#optimizer = torch.optim.SGD([L,S], lr = 1e0)\n",
        "\n",
        "t = time()\n",
        "num_iter = 800\n",
        "display_step = num_iter // 10\n",
        "history_loss_prox = []\n",
        "for iter in range(num_iter):\n",
        "    total_loss = 0.\n",
        "\n",
        "    # E = (L + S + alpha * R.T.dot(D - R.dot(L + S))).detach()\n",
        "    E = (L + S + alpha * (D - L - S)).detach()\n",
        "\n",
        "    Lk = L.detach()\n",
        "    L = (E-S).clone().detach().requires_grad_(True)\n",
        "    loss = nucloss(L)\n",
        "    optimizer = torch.optim.SGD([L], lr = 1e0)\n",
        "    optimizer.zero_grad()\n",
        "    loss.backward(retain_graph=True)\n",
        "    optimizer.step()\n",
        "    total_loss += loss.item()/alpha\n",
        "\n",
        "    S = (E-Lk).clone().detach().requires_grad_(True)\n",
        "    loss = l1loss(S)\n",
        "    optimizer = torch.optim.SGD([S], lr = 1e0)\n",
        "    optimizer.zero_grad()\n",
        "    loss.backward(retain_graph=True)\n",
        "    optimizer.step()\n",
        "    total_loss += loss.item()/alpha\n",
        "    #\"\"\"\n",
        "\n",
        "    history_loss_prox.append(total_loss)\n",
        "\n",
        "    if (iter+1) % display_step == 0:\n",
        "        print ('[{:3d}/{}]: loss = {:.4f},  '.format(iter+1, num_iter, total_loss))\n",
        "\n",
        "\n",
        "print((time()-t)*1000, ' [ms]')\n",
        "print('L = \\n', LL)\n",
        "print('Estimated L = \\n',L.data)\n",
        "print('MSE of L: ', np.linalg.norm(L.cpu().data.numpy()-LL)/np.linalg.norm(LL)*100, ' [%]')\n",
        "print('Its singular values = \\n', torch.svd(L)[1])\n",
        "print('S = \\n', SS)\n",
        "print('Estimated S = \\n', S.data)\n",
        "print(\"MSE of S: \", np.linalg.norm(S.cpu().data.numpy()-SS)/np.linalg.norm(SS)*100, \" [%]\")\n",
        "\n",
        "import matplotlib.pyplot as plt\n",
        "plt.title(\"$||L||_*+\\lambda||D-L||_1$\")\n",
        "plt.plot(history_loss_inexact, label=\"ADMM-type application backward by prox\")\n",
        "#plt.plot(history_loss_prox, label=\"RPCA with backward by prox\")\n",
        "plt.plot(history_loss_prox, label=\"ISTA with backward by prox\")\n",
        "plt.legend()\n",
        "plt.figure()\n",
        "plt.hist(abs(S.cpu().data.numpy().ravel()), bins=100, range=[0,1], log=True, label='entries of S (estimated)')\n",
        "plt.hist(abs(SS.ravel()), bins=100, range=[0,1], log=True, label='entries of S (true)')\n",
        "plt.legend()"
      ],
      "execution_count": 24,
      "outputs": [
        {
          "output_type": "stream",
          "text": [
            "D = \n",
            " tensor([[-18.6831,  -2.8241,  -1.2668,  ...,  -5.4402,  -0.0629,   5.0346],\n",
            "        [  4.5984,   0.0689,   2.7869,  ...,   5.7166,  -0.4827,   0.7469],\n",
            "        [ 13.9196,   0.0842,  -0.1103,  ...,  -2.3920,  -1.6840,   4.6884],\n",
            "        ...,\n",
            "        [ -1.8243,   4.3827,   3.7430,  ...,  -6.1997,   0.1980,   3.8804],\n",
            "        [  1.0800,  -0.8962,   1.9251,  ...,  -1.8682,   2.4670,  -0.1085],\n",
            "        [  0.1348,   0.0984,   4.2954,  ...,  11.8453,   4.1310,  -2.8256]],\n",
            "       device='cuda:0')\n",
            "[ 80/800]: loss = 11590.1276,  \n",
            "[160/800]: loss = 10564.5452,  \n",
            "[240/800]: loss = 9614.4312,  \n",
            "[320/800]: loss = 8812.7195,  \n",
            "[400/800]: loss = 8315.9692,  \n",
            "[480/800]: loss = 8139.2915,  \n",
            "[560/800]: loss = 8085.6924,  \n",
            "[640/800]: loss = 8064.9707,  \n",
            "[720/800]: loss = 8057.9072,  \n",
            "[800/800]: loss = 8055.0876,  \n",
            "8591.448068618774  [ms]\n",
            "L = \n",
            " [[-1.39414735e+00 -3.05281429e+00 -1.24371651e+00 ... -5.36226365e+00\n",
            "   5.00080875e-01  5.40107276e+00]\n",
            " [ 2.91838198e+00 -2.11116383e-03  2.66048810e+00 ...  5.92775019e+00\n",
            "  -4.31205949e-01  1.01828835e+00]\n",
            " [ 3.20154867e-01  8.58301008e-02 -1.52123328e-01 ... -2.40967269e+00\n",
            "  -1.79575071e+00  4.47882155e+00]\n",
            " ...\n",
            " [-1.96525311e+00  4.46928678e+00  3.91879187e+00 ... -5.93267961e+00\n",
            "   3.21940605e-01  4.06576650e+00]\n",
            " [ 1.36566204e+00 -1.06438482e+00  1.67433428e+00 ... -1.79087902e+00\n",
            "   2.39991499e+00 -1.50640586e-01]\n",
            " [ 8.16273143e-02  3.09731200e-01  4.11423721e+00 ... -2.94726282e+00\n",
            "   3.99733269e+00 -2.70843152e+00]]\n",
            "Estimated L = \n",
            " tensor([[-1.4390, -2.9127, -1.1382,  ..., -5.1961,  0.5490,  5.0388],\n",
            "        [ 2.7141,  0.0324,  2.6993,  ...,  5.7219, -0.3994,  0.7401],\n",
            "        [ 0.5739,  0.0772, -0.1131,  ..., -2.3995, -1.6490,  4.5648],\n",
            "        ...,\n",
            "        [-1.8507,  4.3851,  3.7726,  ..., -5.6223,  0.2330,  3.8865],\n",
            "        [ 1.4183, -0.9278,  1.7346,  ..., -1.7705,  2.3426, -0.2078],\n",
            "        [ 0.0380,  0.1900,  3.8002,  ..., -2.4332,  3.5087, -2.5573]],\n",
            "       device='cuda:0')\n",
            "MSE of L:  5.894508857616932  [%]\n",
            "Its singular values = \n",
            " tensor([8.2240e+02, 8.0820e+02, 7.5772e+02, 7.0210e+02, 6.5883e+02, 6.0436e+02,\n",
            "        5.7736e+02, 5.3992e+02, 5.2394e+02, 4.3665e+02, 2.0892e-01, 1.4902e-04,\n",
            "        1.1740e-04, 9.5760e-05, 9.2923e-05, 8.1018e-05, 6.3159e-05, 5.5967e-05,\n",
            "        5.3623e-05, 4.1643e-05, 4.1448e-05, 4.1448e-05, 4.1448e-05, 4.1448e-05,\n",
            "        4.1448e-05, 4.1448e-05, 4.1448e-05, 4.1448e-05, 4.1448e-05, 4.1448e-05,\n",
            "        4.1448e-05, 4.1448e-05, 4.1448e-05, 4.1448e-05, 4.1448e-05, 4.1448e-05,\n",
            "        4.1448e-05, 4.1448e-05, 4.1448e-05, 4.1448e-05, 4.1448e-05, 4.1448e-05,\n",
            "        4.1448e-05, 4.1448e-05, 4.1448e-05, 4.1448e-05, 4.1448e-05, 3.8321e-05,\n",
            "        2.8177e-05, 2.3258e-05], device='cuda:0', grad_fn=<SvdBackward>)\n",
            "S = \n",
            " [[-17.47557456   0.           0.         ...   0.           0.\n",
            "    0.        ]\n",
            " [  1.53140471   0.           0.         ...   0.           0.\n",
            "    0.        ]\n",
            " [ 13.56153025   0.           0.         ...   0.           0.\n",
            "    0.        ]\n",
            " ...\n",
            " [  0.           0.           0.         ...   0.           0.\n",
            "    0.        ]\n",
            " [  0.           0.           0.         ...   0.           0.\n",
            "    0.        ]\n",
            " [  0.           0.           0.         ...  14.84057553   0.\n",
            "    0.        ]]\n",
            "Estimated S = \n",
            " tensor([[-1.7234e+01,  7.8459e-02, -1.1862e-01,  ..., -2.3415e-01,\n",
            "         -6.0191e-01,  0.0000e+00],\n",
            "        [ 1.8742e+00,  2.6433e-02,  7.7609e-02,  ...,  0.0000e+00,\n",
            "         -7.3285e-02,  0.0000e+00],\n",
            "        [ 1.3336e+01,  0.0000e+00,  0.0000e+00,  ...,  0.0000e+00,\n",
            "         -2.5052e-02,  1.1354e-01],\n",
            "        ...,\n",
            "        [ 1.6431e-02,  0.0000e+00, -1.9556e-02,  ..., -5.6746e-01,\n",
            "         -2.5012e-02,  0.0000e+00],\n",
            "        [-3.2826e-01,  2.1589e-02,  1.8047e-01,  ..., -8.7741e-02,\n",
            "          1.1444e-01,  8.9277e-02],\n",
            "        [ 8.6829e-02, -8.1623e-02,  4.8521e-01,  ...,  1.4269e+01,\n",
            "          6.1229e-01, -2.5835e-01]], device='cuda:0')\n",
            "MSE of S:  15.793192749386186  [%]\n"
          ],
          "name": "stdout"
        },
        {
          "output_type": "execute_result",
          "data": {
            "text/plain": [
              "<matplotlib.legend.Legend at 0x7f9b42f90358>"
            ]
          },
          "metadata": {
            "tags": []
          },
          "execution_count": 24
        },
        {
          "output_type": "display_data",
          "data": {
            "image/png": "[encoded data removed]",
            "text/plain": [
              "<Figure size 432x288 with 1 Axes>"
            ]
          },
          "metadata": {
            "tags": []
          }
        },
        {
          "output_type": "display_data",
          "data": {
            "image/png": "[encoded data removed]",
            "text/plain": [
              "<Figure size 432x288 with 1 Axes>"
            ]
          },
          "metadata": {
            "tags": []
          }
        }
      ]
    },
    {
      "cell_type": "markdown",
      "metadata": {
        "id": "cIKpX9uI1NwK",
        "colab_type": "text"
      },
      "source": [
        "### Best practice: Adam followed by SGD"
      ]
    },
    {
      "cell_type": "code",
      "metadata": {
        "id": "MlvsqvEM4Q05",
        "colab_type": "code",
        "outputId": "438aa85e-694c-4f76-89d5-436b82bfea56",
        "colab": {
          "base_uri": "https://localhost:8080/",
          "height": 1000
        }
      },
      "source": [
        "D = torch.from_numpy(DD.astype(np.float32)).to(device)\n",
        "print('D = \\n', D)\n",
        "\n",
        "#model = dummyUnet()\n",
        "model = dummyUnet(w=torch.zeros_like(D, device=device, requires_grad=True))\n",
        "optimizerM = torch.optim.Adam(model.parameters(), lr = 1e0)\n",
        "\n",
        "\n",
        "ln = 1.\n",
        "alpha = 0.5\n",
        "# Using L1Loss with prox\n",
        "nucloss = NuclearLoss(lw=torch.tensor(alpha*ln))\n",
        "l1loss = L1Loss(lw=torch.tensor(alpha*ls))\n",
        "\n",
        "anucloss = lambda x: torch.sum(torch.svd(x)[1])*alpha*ln\n",
        "al1loss = lambda x: torch.sum(torch.abs(x)*alpha*ls)\n",
        "\n",
        "#X = torch.autograd.Variable(D, requires_grad=True)\n",
        "#S = torch.zeros_like(D, device=device, requires_grad=True)\n",
        "S = model(D)\n",
        "\n",
        "\n",
        "t = time()\n",
        "num_iter = 100\n",
        "display_step = num_iter // 10\n",
        "history_loss_prox_ISTA = []\n",
        "#optimizer = torch.optim.Adam([S], lr = 1e0)\n",
        "for iter in range(num_iter):\n",
        "\n",
        "    total_loss = 0.\n",
        "    loss = anucloss(D-S) + al1loss(S)\n",
        "    optimizerM.zero_grad()\n",
        "    loss.backward(retain_graph=True)\n",
        "    optimizerM.step()\n",
        "    total_loss += loss.item() / alpha\n",
        "\n",
        "    history_loss_prox_ISTA.append(total_loss)\n",
        "\n",
        "    if (iter+1) % display_step == 0:\n",
        "        print ('[{:3d}/{}]: loss = {:.4f},  '.format(iter+1, num_iter, total_loss))\n",
        "\n",
        "\n",
        "num_iter = 600\n",
        "display_step = num_iter // 10\n",
        "#history_loss_prox_ISTA = []\n",
        "#L = D.clone().detach()\n",
        "#optimizer = torch.optim.SGD([S], lr = 1e0)\n",
        "optimizerM = torch.optim.SGD(model.parameters(), lr = 1e0)\n",
        "for iter in range(num_iter):\n",
        "\n",
        "    total_loss = 0.\n",
        "    #Lk = L.detach()\n",
        "    with torch.no_grad():\n",
        "        Sk = model(D).detach()\n",
        "    Lk = (D-Sk).detach()\n",
        "    S = model(D)\n",
        "    #L = Lk + alpha * (D - Lk -S)\n",
        "    #L = Lk + alpha * (Sk - S)\n",
        "    #loss = nucloss(L)\n",
        "    loss = nucloss(Lk + alpha * (Sk - S))\n",
        "    optimizerM.zero_grad()\n",
        "    loss.backward(retain_graph=True)\n",
        "    optimizerM.step()\n",
        "    total_loss += loss.item() / alpha\n",
        "\n",
        "    #St = S + alpha * (D - Lk - S)\n",
        "    #loss = l1loss(St)\n",
        "    #loss = l1loss(S + alpha * (D - Lk - S))\n",
        "    #loss = l1loss(S + alpha * (Sk - S))           # good\n",
        "    loss = l1loss(S)                              # excellent if not noisy\n",
        "    #optimizerM = torch.optim.SGD(model.parameters(), lr = 5e-1)\n",
        "    optimizerM.zero_grad()\n",
        "    loss.backward(retain_graph=True)\n",
        "    optimizerM.step()\n",
        "    total_loss += loss.item() / alpha\n",
        "    #\"\"\"\n",
        "\n",
        "    history_loss_prox_ISTA.append(total_loss)\n",
        "\n",
        "    if (iter+1) % display_step == 0:\n",
        "        print ('[{:3d}/{}]: loss = {:.4f},  '.format(iter+1, num_iter, total_loss))\n",
        "\n",
        "print((time()-t)*1000, ' [ms]')\n",
        "print('L = \\n', LL)\n",
        "print('Estimated L = \\n',L.data)\n",
        "print('MSE of L: ', np.linalg.norm(L.cpu().data.numpy()-LL)/np.linalg.norm(LL)*100, ' [%]')\n",
        "print('Its singular values = \\n', torch.svd(L)[1])\n",
        "print('S = \\n', SS)\n",
        "#S = D-L\n",
        "print('Estimated S = \\n', S.data)\n",
        "print(\"MSE of S: \", np.linalg.norm(S.cpu().data.numpy()-SS)/np.linalg.norm(SS)*100, \" [%]\")\n",
        "\n",
        "import matplotlib.pyplot as plt\n",
        "plt.title(\"$||L||_*+\\lambda||D-L||_1$\")\n",
        "plt.plot(history_loss_inexact, label=\"ADMM-type application backward by prox\")\n",
        "plt.plot(history_loss_prox, label=\"ISTA(E) with backward by prox\")\n",
        "plt.plot(history_loss_prox_ISTA, label=\"ISTA(S) with backward by prox\")\n",
        "plt.legend()\n",
        "plt.figure()\n",
        "plt.hist(abs(S.cpu().data.numpy().ravel()), bins=100, range=[0,1], log=True, label='entries of S (estimated)')\n",
        "plt.hist(abs(SS.ravel()), bins=100, range=[0,1], log=True, label='entries of S (true)')\n",
        "plt.legend()"
      ],
      "execution_count": 26,
      "outputs": [
        {
          "output_type": "stream",
          "text": [
            "D = \n",
            " tensor([[-18.6831,  -2.8241,  -1.2668,  ...,  -5.4402,  -0.0629,   5.0346],\n",
            "        [  4.5984,   0.0689,   2.7869,  ...,   5.7166,  -0.4827,   0.7469],\n",
            "        [ 13.9196,   0.0842,  -0.1103,  ...,  -2.3920,  -1.6840,   4.6884],\n",
            "        ...,\n",
            "        [ -1.8243,   4.3827,   3.7430,  ...,  -6.1997,   0.1980,   3.8804],\n",
            "        [  1.0800,  -0.8962,   1.9251,  ...,  -1.8682,   2.4670,  -0.1085],\n",
            "        [  0.1348,   0.0984,   4.2954,  ...,  11.8453,   4.1310,  -2.8256]],\n",
            "       device='cuda:0')\n",
            "[ 10/100]: loss = 11265.2500,  \n",
            "[ 20/100]: loss = 9261.0850,  \n",
            "[ 30/100]: loss = 8760.5479,  \n",
            "[ 40/100]: loss = 8533.1523,  \n",
            "[ 50/100]: loss = 8430.1621,  \n",
            "[ 60/100]: loss = 8385.0215,  \n",
            "[ 70/100]: loss = 8363.8213,  \n",
            "[ 80/100]: loss = 8352.9873,  \n",
            "[ 90/100]: loss = 8346.3076,  \n",
            "[100/100]: loss = 8343.8027,  \n",
            "[ 60/600]: loss = 8116.7958,  \n",
            "[120/600]: loss = 8156.0969,  \n",
            "[180/600]: loss = 8186.0607,  \n",
            "[240/600]: loss = 8205.4030,  \n",
            "[300/600]: loss = 8217.4951,  \n",
            "[360/600]: loss = 8225.0153,  \n",
            "[420/600]: loss = 8229.7354,  \n",
            "[480/600]: loss = 8232.7207,  \n",
            "[540/600]: loss = 8234.6190,  \n",
            "[600/600]: loss = 8235.8380,  \n",
            "7862.175226211548  [ms]\n",
            "L = \n",
            " [[-1.39414735e+00 -3.05281429e+00 -1.24371651e+00 ... -5.36226365e+00\n",
            "   5.00080875e-01  5.40107276e+00]\n",
            " [ 2.91838198e+00 -2.11116383e-03  2.66048810e+00 ...  5.92775019e+00\n",
            "  -4.31205949e-01  1.01828835e+00]\n",
            " [ 3.20154867e-01  8.58301008e-02 -1.52123328e-01 ... -2.40967269e+00\n",
            "  -1.79575071e+00  4.47882155e+00]\n",
            " ...\n",
            " [-1.96525311e+00  4.46928678e+00  3.91879187e+00 ... -5.93267961e+00\n",
            "   3.21940605e-01  4.06576650e+00]\n",
            " [ 1.36566204e+00 -1.06438482e+00  1.67433428e+00 ... -1.79087902e+00\n",
            "   2.39991499e+00 -1.50640586e-01]\n",
            " [ 8.16273143e-02  3.09731200e-01  4.11423721e+00 ... -2.94726282e+00\n",
            "   3.99733269e+00 -2.70843152e+00]]\n",
            "Estimated L = \n",
            " tensor([[-1.4390, -2.9127, -1.1382,  ..., -5.1961,  0.5490,  5.0388],\n",
            "        [ 2.7141,  0.0324,  2.6993,  ...,  5.7219, -0.3994,  0.7401],\n",
            "        [ 0.5739,  0.0772, -0.1131,  ..., -2.3995, -1.6490,  4.5648],\n",
            "        ...,\n",
            "        [-1.8507,  4.3851,  3.7726,  ..., -5.6223,  0.2330,  3.8865],\n",
            "        [ 1.4183, -0.9278,  1.7346,  ..., -1.7705,  2.3426, -0.2078],\n",
            "        [ 0.0380,  0.1900,  3.8002,  ..., -2.4332,  3.5087, -2.5573]],\n",
            "       device='cuda:0')\n",
            "MSE of L:  5.894508857616932  [%]\n",
            "Its singular values = \n",
            " tensor([8.2240e+02, 8.0820e+02, 7.5772e+02, 7.0210e+02, 6.5883e+02, 6.0436e+02,\n",
            "        5.7736e+02, 5.3992e+02, 5.2394e+02, 4.3665e+02, 2.0892e-01, 1.4902e-04,\n",
            "        1.1740e-04, 9.5760e-05, 9.2923e-05, 8.1018e-05, 6.3159e-05, 5.5967e-05,\n",
            "        5.3623e-05, 4.1643e-05, 4.1448e-05, 4.1448e-05, 4.1448e-05, 4.1448e-05,\n",
            "        4.1448e-05, 4.1448e-05, 4.1448e-05, 4.1448e-05, 4.1448e-05, 4.1448e-05,\n",
            "        4.1448e-05, 4.1448e-05, 4.1448e-05, 4.1448e-05, 4.1448e-05, 4.1448e-05,\n",
            "        4.1448e-05, 4.1448e-05, 4.1448e-05, 4.1448e-05, 4.1448e-05, 4.1448e-05,\n",
            "        4.1448e-05, 4.1448e-05, 4.1448e-05, 4.1448e-05, 4.1448e-05, 3.8321e-05,\n",
            "        2.8177e-05, 2.3258e-05], device='cuda:0', grad_fn=<SvdBackward>)\n",
            "S = \n",
            " [[-17.47557456   0.           0.         ...   0.           0.\n",
            "    0.        ]\n",
            " [  1.53140471   0.           0.         ...   0.           0.\n",
            "    0.        ]\n",
            " [ 13.56153025   0.           0.         ...   0.           0.\n",
            "    0.        ]\n",
            " ...\n",
            " [  0.           0.           0.         ...   0.           0.\n",
            "    0.        ]\n",
            " [  0.           0.           0.         ...   0.           0.\n",
            "    0.        ]\n",
            " [  0.           0.           0.         ...  14.84057553   0.\n",
            "    0.        ]]\n",
            "Estimated S = \n",
            " tensor([[-16.8077,   0.0000,   0.0000,  ...,   0.0000,  -0.1678,   0.0000],\n",
            "        [  1.4174,   0.0000,   0.0000,  ...,   0.0000,   0.0000,   0.0000],\n",
            "        [ 12.9566,   0.0000,   0.0000,  ...,   0.0000,   0.0000,   0.0000],\n",
            "        ...,\n",
            "        [  0.0000,   0.0000,   0.0000,  ...,  -0.0931,   0.0000,   0.0000],\n",
            "        [  0.0000,   0.0000,   0.0000,  ...,   0.0000,   0.0000,   0.0000],\n",
            "        [  0.0000,   0.0000,   0.0000,  ...,  14.1934,   0.0000,   0.0000]],\n",
            "       device='cuda:0')\n",
            "MSE of S:  5.552475915033823  [%]\n"
          ],
          "name": "stdout"
        },
        {
          "output_type": "execute_result",
          "data": {
            "text/plain": [
              "<matplotlib.legend.Legend at 0x7f9b423c8ba8>"
            ]
          },
          "metadata": {
            "tags": []
          },
          "execution_count": 26
        },
        {
          "output_type": "display_data",
          "data": {
            "image/png": "[encoded data removed]",
            "text/plain": [
              "<Figure size 432x288 with 1 Axes>"
            ]
          },
          "metadata": {
            "tags": []
          }
        },
        {
          "output_type": "display_data",
          "data": {
            "image/png": "[encoded data removed]",
            "text/plain": [
              "<Figure size 432x288 with 1 Axes>"
            ]
          },
          "metadata": {
            "tags": []
          }
        }
      ]
    },
    {
      "cell_type": "markdown",
      "metadata": {
        "id": "Xj4TKEGVcclT",
        "colab_type": "text"
      },
      "source": [
        "## RPCA with alternating gradient descent using autograd\n",
        "### cannot sparsify the solution due to the nondifferentiability (see the estimated S), although decrease the loss faster"
      ]
    },
    {
      "cell_type": "code",
      "metadata": {
        "id": "qXBPlWY2KC26",
        "colab_type": "code",
        "outputId": "e399b1c9-246a-4383-dccf-d52b36c9c57c",
        "colab": {
          "base_uri": "https://localhost:8080/",
          "height": 1000
        }
      },
      "source": [
        "D = torch.from_numpy(DD.astype(np.float32)).to(device)\n",
        "print('D = \\n', D)\n",
        "\n",
        "nucloss = lambda x: torch.sum(torch.svd(x)[1])\n",
        "l1loss = lambda x: torch.sum(torch.abs(x)*ls)\n",
        "\n",
        "L = torch.tensor(DD.astype(np.float32), device=device, requires_grad=True)\n",
        "optimizer = torch.optim.Adam([L], lr = 1e0)\n",
        "\n",
        "t = time()\n",
        "num_iter = 400\n",
        "display_step = num_iter // 10\n",
        "history_loss = []\n",
        "for iter in range(num_iter):\n",
        "    total_loss = 0.\n",
        "    \"\"\"\n",
        "    loss = nucloss(L) + l1loss(D-L)\n",
        "    optimizer.zero_grad()\n",
        "    loss.backward(retain_graph=True)\n",
        "    optimizer.step()\n",
        "    total_loss += loss.item()\n",
        "    \"\"\"\n",
        "    loss = nucloss(L)\n",
        "    optimizer.zero_grad()\n",
        "    loss.backward(retain_graph=True)\n",
        "    optimizer.step()\n",
        "    total_loss += loss.item()\n",
        "\n",
        "    loss = l1loss(D-L)\n",
        "    optimizer.zero_grad()\n",
        "    loss.backward(retain_graph=True)\n",
        "    optimizer.step()\n",
        "    total_loss += loss.item()\n",
        "    #\"\"\"\n",
        "\n",
        "    #total_loss = nucloss(L) + l1loss(D-L)\n",
        "    history_loss.append(total_loss)\n",
        "\n",
        "    if (iter+1) % display_step == 0:\n",
        "        print ('[{:3d}/{}]: loss = {:.4f},  '.format(iter+1, num_iter, total_loss))\n",
        "\n",
        "\n",
        "print((time()-t)*1000, ' [ms]')\n",
        "print('L = \\n', LL)\n",
        "print('Estimated L = \\n', L.data)\n",
        "print('MSE of L: ', np.linalg.norm(L.cpu().data.numpy()-LL)/np.linalg.norm(LL)*100, ' [%]')\n",
        "print('Its singular values = \\n', torch.svd(L)[1])\n",
        "print('S = \\n', SS)\n",
        "S = D-L\n",
        "print('Estimated S = \\n', S.data)\n",
        "print(\"MSE of S: \", np.linalg.norm(S.cpu().data.numpy()-SS)/np.linalg.norm(SS)*100, \" [%]\")\n",
        "\n",
        "import matplotlib.pyplot as plt\n",
        "plt.title(\"$||L||_*+\\lambda||D-L||_1$\")\n",
        "plt.plot(history_loss_inexact, label=\"ADMM-type application backward by prox\")\n",
        "#plt.plot(history_loss_prox, label=\"RPCA with backward by prox\")\n",
        "plt.plot(history_loss_prox, label=\"ISTA(E) with backward by prox\")\n",
        "plt.plot(history_loss_prox_ISTA, label=\"ISTA(S) with backward by prox\")\n",
        "plt.plot(history_loss, label=\"RPCA by alternating gradient descent using autograd\")\n",
        "plt.legend()\n",
        "plt.figure()\n",
        "plt.hist(abs(S.cpu().data.numpy().ravel()), bins=100, range=[0,1], log=True, label='entries of S (estimated)')\n",
        "plt.hist(abs(SS.ravel()), bins=100, range=[0,1], log=True, label='entries of S (true)')\n",
        "plt.legend()"
      ],
      "execution_count": 27,
      "outputs": [
        {
          "output_type": "stream",
          "text": [
            "D = \n",
            " tensor([[-18.6831,  -2.8241,  -1.2668,  ...,  -5.4402,  -0.0629,   5.0346],\n",
            "        [  4.5984,   0.0689,   2.7869,  ...,   5.7166,  -0.4827,   0.7469],\n",
            "        [ 13.9196,   0.0842,  -0.1103,  ...,  -2.3920,  -1.6840,   4.6884],\n",
            "        ...,\n",
            "        [ -1.8243,   4.3827,   3.7430,  ...,  -6.1997,   0.1980,   3.8804],\n",
            "        [  1.0800,  -0.8962,   1.9251,  ...,  -1.8682,   2.4670,  -0.1085],\n",
            "        [  0.1348,   0.0984,   4.2954,  ...,  11.8453,   4.1310,  -2.8256]],\n",
            "       device='cuda:0')\n",
            "[ 40/400]: loss = 8740.3071,  \n",
            "[ 80/400]: loss = 8695.4763,  \n",
            "[120/400]: loss = 8689.6244,  \n",
            "[160/400]: loss = 8684.1638,  \n",
            "[200/400]: loss = 8682.9895,  \n",
            "[240/400]: loss = 8679.6567,  \n",
            "[280/400]: loss = 8678.2239,  \n",
            "[320/400]: loss = 8678.6460,  \n",
            "[360/400]: loss = 8680.0616,  \n",
            "[400/400]: loss = 8677.2305,  \n",
            "4390.380382537842  [ms]\n",
            "L = \n",
            " [[-1.39414735e+00 -3.05281429e+00 -1.24371651e+00 ... -5.36226365e+00\n",
            "   5.00080875e-01  5.40107276e+00]\n",
            " [ 2.91838198e+00 -2.11116383e-03  2.66048810e+00 ...  5.92775019e+00\n",
            "  -4.31205949e-01  1.01828835e+00]\n",
            " [ 3.20154867e-01  8.58301008e-02 -1.52123328e-01 ... -2.40967269e+00\n",
            "  -1.79575071e+00  4.47882155e+00]\n",
            " ...\n",
            " [-1.96525311e+00  4.46928678e+00  3.91879187e+00 ... -5.93267961e+00\n",
            "   3.21940605e-01  4.06576650e+00]\n",
            " [ 1.36566204e+00 -1.06438482e+00  1.67433428e+00 ... -1.79087902e+00\n",
            "   2.39991499e+00 -1.50640586e-01]\n",
            " [ 8.16273143e-02  3.09731200e-01  4.11423721e+00 ... -2.94726282e+00\n",
            "   3.99733269e+00 -2.70843152e+00]]\n",
            "Estimated L = \n",
            " tensor([[-1.6376, -2.8842, -1.3068,  ..., -5.2309,  0.4389,  4.9175],\n",
            "        [ 2.9577, -0.0691,  2.7322,  ...,  5.6423, -0.6632,  0.5776],\n",
            "        [ 0.6970,  0.1040, -0.2000,  ..., -2.5430, -1.7810,  4.5961],\n",
            "        ...,\n",
            "        [-1.7427,  4.3723,  3.6324,  ..., -5.5526,  0.2101,  3.8172],\n",
            "        [ 1.0201, -0.9979,  1.8639,  ..., -1.8597,  2.2790, -0.2923],\n",
            "        [ 0.1552,  0.2056,  4.0200,  ..., -2.5991,  3.7730, -2.8313]],\n",
            "       device='cuda:0')\n",
            "MSE of L:  7.183079614013481  [%]\n",
            "Its singular values = \n",
            " tensor([823.7919, 809.9163, 757.6409, 703.6010, 660.7097, 605.8107, 578.0010,\n",
            "        541.1304, 525.0038, 438.3122,  15.1747,  15.0475,  14.7978,  14.7382,\n",
            "         14.7221,  14.6314,  14.5908,  14.5020,  14.4691,  14.3984,  14.3779,\n",
            "         14.2998,  14.2393,  14.2138,  14.1600,  14.0927,  14.0511,  14.0268,\n",
            "         13.9951,  13.9545,  13.9410,  13.8323,  13.8106,  13.7985,  13.7262,\n",
            "         13.6456,  13.6176,  13.5823,  13.5673,  13.5329,  13.4648,  13.4053,\n",
            "         13.3443,  13.3027,  13.2935,  13.2614,  13.1681,  13.1289,  13.0767,\n",
            "         12.9489], device='cuda:0', grad_fn=<SvdBackward>)\n",
            "S = \n",
            " [[-17.47557456   0.           0.         ...   0.           0.\n",
            "    0.        ]\n",
            " [  1.53140471   0.           0.         ...   0.           0.\n",
            "    0.        ]\n",
            " [ 13.56153025   0.           0.         ...   0.           0.\n",
            "    0.        ]\n",
            " ...\n",
            " [  0.           0.           0.         ...   0.           0.\n",
            "    0.        ]\n",
            " [  0.           0.           0.         ...   0.           0.\n",
            "    0.        ]\n",
            " [  0.           0.           0.         ...  14.84057553   0.\n",
            "    0.        ]]\n",
            "Estimated S = \n",
            " tensor([[-1.7046e+01,  6.0113e-02,  3.9998e-02,  ..., -2.0934e-01,\n",
            "         -5.0178e-01,  1.1716e-01],\n",
            "        [ 1.6407e+00,  1.3800e-01,  5.4698e-02,  ...,  7.4378e-02,\n",
            "          1.8049e-01,  1.6929e-01],\n",
            "        [ 1.3223e+01, -1.9825e-02,  8.9688e-02,  ...,  1.5102e-01,\n",
            "          9.6994e-02,  9.2335e-02],\n",
            "        ...,\n",
            "        [-8.1626e-02,  1.0488e-02,  1.1056e-01,  ..., -6.4710e-01,\n",
            "         -1.2070e-02,  6.3187e-02],\n",
            "        [ 5.9934e-02,  1.0165e-01,  6.1208e-02,  ..., -8.5435e-03,\n",
            "          1.8799e-01,  1.8375e-01],\n",
            "        [-2.0358e-02, -1.0713e-01,  2.7539e-01,  ...,  1.4444e+01,\n",
            "          3.5797e-01,  5.6674e-03]], device='cuda:0')\n",
            "MSE of S:  15.683308667516439  [%]\n"
          ],
          "name": "stdout"
        },
        {
          "output_type": "execute_result",
          "data": {
            "text/plain": [
              "<matplotlib.legend.Legend at 0x7f9b42ac8c50>"
            ]
          },
          "metadata": {
            "tags": []
          },
          "execution_count": 27
        },
        {
          "output_type": "display_data",
          "data": {
            "image/png": "[encoded data removed]",
            "text/plain": [
              "<Figure size 432x288 with 1 Axes>"
            ]
          },
          "metadata": {
            "tags": []
          }
        },
        {
          "output_type": "display_data",
          "data": {
            "image/png": "[encoded data removed]",
            "text/plain": [
              "<Figure size 432x288 with 1 Axes>"
            ]
          },
          "metadata": {
            "tags": []
          }
        }
      ]
    },
    {
      "cell_type": "markdown",
      "metadata": {
        "id": "8IayKVy6dTEs",
        "colab_type": "text"
      },
      "source": [
        "## RPCA by gradient descent using autograd\n",
        "### straightforward use of autograd for RPCA cannot sparsify the solution (see the estimated S)."
      ]
    },
    {
      "cell_type": "code",
      "metadata": {
        "id": "k2SFbYs0-juB",
        "colab_type": "code",
        "outputId": "1e7bd708-894e-42f6-c69b-33fa4c21b97f",
        "colab": {
          "base_uri": "https://localhost:8080/",
          "height": 1000
        }
      },
      "source": [
        "D = torch.from_numpy(DD.astype(np.float32)).to(device)\n",
        "print('D = \\n', D)\n",
        "\n",
        "le = 1e+6\n",
        "\n",
        "# Using sum of abs with autogradient\n",
        "nucloss = lambda x: torch.sum(torch.svd(x)[1])\n",
        "l1loss = lambda x: torch.sum(torch.abs(x)*ls)\n",
        "l2loss = lambda x: torch.sum(x**2)\n",
        "\n",
        "L = torch.tensor(DD.astype(np.float32), device=device, requires_grad=True)\n",
        "S = torch.zeros_like(D, device=device, requires_grad=True)\n",
        "\n",
        "t = time()\n",
        "num_iter = 800\n",
        "display_step = num_iter // 10\n",
        "history_loss = []\n",
        "for iter in range(num_iter):\n",
        "    total_loss = 0.\n",
        "    #\"\"\"\n",
        "    #optimizer = torch.optim.SGD([L,S], lr = 1e0)\n",
        "    #loss = nucloss(L) + l1loss(S) + l2loss((D-L-S)/(1+2*le))\n",
        "\n",
        "    #optimizer = torch.optim.SGD([L], lr = 1e0)   # SGD works better than Adam\n",
        "    optimizer = torch.optim.AdamW([L], lr = 0.3)  # Adam would disappoint you\n",
        "    loss = nucloss(L) + l1loss(D-L)\n",
        "\n",
        "    #optimizer = torch.optim.SGD([S], lr = 1e0)   # SGD works better than Adam\n",
        "    #optimizer = torch.optim.Adam([S], lr = 1e-1)  # Adam would disappoint you\n",
        "    #loss = nucloss(D-S) + l1loss(S)\n",
        "\n",
        "    optimizer.zero_grad()\n",
        "    loss.backward(retain_graph=True)\n",
        "    optimizer.step()\n",
        "    total_loss += loss.item()\n",
        "    \"\"\"\n",
        "    optimizer = torch.optim.SGD([L], lr = 1e-1)\n",
        "    loss = nucloss(L)\n",
        "    optimizer.zero_grad()\n",
        "    loss.backward(retain_graph=True)\n",
        "    optimizer.step()\n",
        "    total_loss += loss.item()\n",
        "\n",
        "    optimizer = torch.optim.SGD([S], lr = 1e-1)\n",
        "    loss = l1loss(S)\n",
        "    optimizer.zero_grad()\n",
        "    loss.backward(retain_graph=True)\n",
        "    optimizer.step()\n",
        "    total_loss += loss.item()\n",
        "\n",
        "    optimizer = torch.optim.SGD([L,S], lr = 1e-1)\n",
        "    loss = l2loss(D-L-S)\n",
        "    optimizer.zero_grad()\n",
        "    loss.backward(retain_graph=True)\n",
        "    optimizer.step()\n",
        "    total_loss += loss.item()\n",
        "    \"\"\"\n",
        "\n",
        "    #total_loss = nucloss(L) + l1loss(D-L)\n",
        "    history_loss.append(total_loss)\n",
        "\n",
        "    if (iter+1) % display_step == 0:\n",
        "        print ('[{:3d}/{}]: loss = {:.4f},  '.format(iter+1, num_iter, total_loss))\n",
        "\n",
        "S = D-L\n",
        "#L = D-S\n",
        "\n",
        "print((time()-t)*1000, ' [ms]')\n",
        "print('L = \\n', LL)\n",
        "print('Estimated L = \\n', L.data)\n",
        "print('MSE of L: ', np.linalg.norm(L.cpu().data.numpy()-LL)/np.linalg.norm(LL)*100, ' [%]')\n",
        "print('Its singular values = \\n', torch.svd(L)[1])\n",
        "print('S = \\n', SS)\n",
        "print('Estimated S = \\n', S.data)\n",
        "print(\"MSE of S: \", np.linalg.norm(S.cpu().data.numpy()-SS)/np.linalg.norm(SS)*100, \" [%]\")\n",
        "\n",
        "import matplotlib.pyplot as plt\n",
        "plt.title(\"$||L||_*+\\lambda||D-L||_1$\")\n",
        "plt.plot(history_loss_inexact, label=\"ADMM-type application backward by prox\")\n",
        "#plt.plot(history_loss_prox, label=\"RPCA with backward by prox\")\n",
        "plt.plot(history_loss_prox, label=\"ISTA(E) with backward by prox\")\n",
        "plt.plot(history_loss_prox_ISTA, label=\"ISTA(S) with backward by prox\")\n",
        "plt.plot(history_loss, label=\"RPCA by gradient descent using autograd\")\n",
        "plt.legend()\n",
        "plt.figure()\n",
        "plt.hist(abs(S.cpu().data.numpy().ravel()), bins=100, range=[0,1], log=True, label='entries of S (estimated)')\n",
        "plt.hist(abs(SS.ravel()), bins=100, range=[0,1], log=True, label='entries of S (true)')\n",
        "plt.legend()"
      ],
      "execution_count": 10,
      "outputs": [
        {
          "output_type": "stream",
          "text": [
            "D = \n",
            " tensor([[-3.5641, -4.2677,  3.8741,  ..., -0.2919, -2.3969, -1.4777],\n",
            "        [ 2.2929,  0.2683,  1.0820,  ..., -3.8903, -4.1881,  2.0317],\n",
            "        [ 1.7416, -1.1767,  7.5555,  ..., -1.7684, -1.4581, -4.5838],\n",
            "        ...,\n",
            "        [-2.2332,  1.5465,  1.6905,  ..., -2.5386, -0.8936,  5.4959],\n",
            "        [-2.6444, -1.1597, -2.9162,  ...,  1.7026,  1.7445,  1.1659],\n",
            "        [ 1.6299, -0.4537,  3.6178,  ...,  2.3127, -2.6151, -3.9228]],\n",
            "       device='cuda:0')\n",
            "[ 80/800]: loss = 9812.6426,  \n",
            "[160/800]: loss = 9811.0283,  \n",
            "[240/800]: loss = 9814.9004,  \n",
            "[320/800]: loss = 9818.3242,  \n",
            "[400/800]: loss = 9822.2500,  \n",
            "[480/800]: loss = 9823.5010,  \n",
            "[560/800]: loss = 9825.3594,  \n",
            "[640/800]: loss = 9827.9404,  \n",
            "[720/800]: loss = 9826.4346,  \n",
            "[800/800]: loss = 9828.4521,  \n",
            "8368.577241897583  [ms]\n",
            "L = \n",
            " [[-4.27366272 -4.54257463  3.79692704 ... -0.22629471 -2.39831361\n",
            "  -1.0303792 ]\n",
            " [ 2.41335441  0.35468764  1.0552176  ... -4.0317385  -4.14571712\n",
            "   2.31093026]\n",
            " [ 1.07773003 -1.2268119   7.38354604 ... -1.45123673 -1.42591016\n",
            "  -5.09196659]\n",
            " ...\n",
            " [-2.59087184  2.027355    1.40088588 ... -3.08855043 -1.08569842\n",
            "   5.4151821 ]\n",
            " [-2.01594788 -1.80912316 -3.09826179 ...  1.31567717  2.43594119\n",
            "   1.35079009]\n",
            " [ 1.77394774 -0.6097691   2.71126768 ...  1.18521271 -2.64044164\n",
            "  -3.41976918]]\n",
            "Estimated L = \n",
            " tensor([[-3.4380, -4.2601,  3.6710,  ..., -0.2416, -2.0937, -1.2746],\n",
            "        [ 2.2113,  0.2851,  0.8924,  ..., -3.7212, -3.8396,  1.9758],\n",
            "        [ 0.9822, -1.3687,  6.4757,  ..., -1.3663, -1.5771, -4.5786],\n",
            "        ...,\n",
            "        [-2.1452,  1.4537,  1.5766,  ..., -2.4670, -0.6083,  5.0720],\n",
            "        [-2.2977, -1.3219, -3.1500,  ...,  1.2804,  1.9150,  1.3834],\n",
            "        [ 1.3358, -0.5827,  2.6280,  ...,  1.1508, -2.1715, -3.0793]],\n",
            "       device='cuda:0')\n",
            "MSE of L:  14.483112868498257  [%]\n",
            "Its singular values = \n",
            " tensor([930.1583, 885.0446, 727.2979, 698.4745, 651.5190, 624.3104, 575.9703,\n",
            "        562.4008, 486.0704, 396.1751,  27.0648,  26.9747,  26.6969,  26.4004,\n",
            "         26.2793,  26.2400,  26.0724,  25.9592,  25.8738,  25.8659,  25.7161,\n",
            "         25.6697,  25.6343,  25.4608,  25.2840,  25.2549,  25.2117,  25.2006,\n",
            "         25.0904,  24.9732,  24.8981,  24.8321,  24.8032,  24.7603,  24.7258,\n",
            "         24.6045,  24.5276,  24.4064,  24.3694,  24.3370,  24.2851,  24.1971,\n",
            "         24.1017,  23.9955,  23.9329,  23.8123,  23.7734,  23.6703,  23.5385,\n",
            "         23.4512], device='cuda:0', grad_fn=<SvdBackward>)\n",
            "S = \n",
            " [[0. 0. 0. ... 0. 0. 0.]\n",
            " [0. 0. 0. ... 0. 0. 0.]\n",
            " [0. 0. 0. ... 0. 0. 0.]\n",
            " ...\n",
            " [0. 0. 0. ... 0. 0. 0.]\n",
            " [0. 0. 0. ... 0. 0. 0.]\n",
            " [0. 0. 0. ... 0. 0. 0.]]\n",
            "Estimated S = \n",
            " tensor([[-0.1260, -0.0077,  0.2031,  ..., -0.0503, -0.3032, -0.2031],\n",
            "        [ 0.0815, -0.0168,  0.1896,  ..., -0.1691, -0.3485,  0.0559],\n",
            "        [ 0.7593,  0.1921,  1.0798,  ..., -0.4021,  0.1190, -0.0052],\n",
            "        ...,\n",
            "        [-0.0880,  0.0927,  0.1139,  ..., -0.0716, -0.2853,  0.4239],\n",
            "        [-0.3467,  0.1622,  0.2338,  ...,  0.4222, -0.1704, -0.2175],\n",
            "        [ 0.2941,  0.1290,  0.9898,  ...,  1.1620, -0.4437, -0.8434]],\n",
            "       device='cuda:0')\n",
            "MSE of S:  34.580905107041495  [%]\n"
          ],
          "name": "stdout"
        },
        {
          "output_type": "execute_result",
          "data": {
            "text/plain": [
              "<matplotlib.legend.Legend at 0x7f9b48d56518>"
            ]
          },
          "metadata": {
            "tags": []
          },
          "execution_count": 10
        },
        {
          "output_type": "display_data",
          "data": {
            "image/png": "[encoded data removed]",
            "text/plain": [
              "<Figure size 432x288 with 1 Axes>"
            ]
          },
          "metadata": {
            "tags": []
          }
        },
        {
          "output_type": "display_data",
          "data": {
            "image/png": "[encoded data removed]",
            "text/plain": [
              "<Figure size 432x288 with 1 Axes>"
            ]
          },
          "metadata": {
            "tags": []
          }
        }
      ]
    },
    {
      "cell_type": "code",
      "metadata": {
        "id": "62cfHX20Fm6z",
        "colab_type": "code",
        "outputId": "3eb860eb-0233-4384-c8db-e7ce91c4a48d",
        "colab": {
          "base_uri": "https://localhost:8080/",
          "height": 301
        }
      },
      "source": [
        "import matplotlib.pyplot as plt\n",
        "plt.title(\"$||L||_*+\\lambda||D-L||_1$\")\n",
        "plt.plot(history_loss_inexact, label=\"ADMM-type application backward by prox\")\n",
        "#plt.plot(history_loss_prox, label=\"RPCA with backward by prox\")\n",
        "plt.plot(history_loss_prox, label=\"ISTA(E) with backward by prox\")\n",
        "plt.plot(history_loss_prox_ISTA, label=\"ISTA(S) with backward by prox\")\n",
        "plt.plot(history_loss, label=\"RPCA by gradient descent using autograd\")\n",
        "plt.yscale('log'); plt.ylim(7.5e+3,1e+4)\n",
        "plt.legend()\n"
      ],
      "execution_count": 11,
      "outputs": [
        {
          "output_type": "execute_result",
          "data": {
            "text/plain": [
              "<matplotlib.legend.Legend at 0x7f9b93c2d160>"
            ]
          },
          "metadata": {
            "tags": []
          },
          "execution_count": 11
        },
        {
          "output_type": "display_data",
          "data": {
            "image/png": "[encoded data removed]",
            "text/plain": [
              "<Figure size 432x288 with 1 Axes>"
            ]
          },
          "metadata": {
            "tags": []
          }
        }
      ]
    },
    {
      "cell_type": "code",
      "metadata": {
        "id": "K9Nsug9GnHVH",
        "colab_type": "code",
        "colab": {}
      },
      "source": [
        ""
      ],
      "execution_count": 0,
      "outputs": []
    }
  ]
}