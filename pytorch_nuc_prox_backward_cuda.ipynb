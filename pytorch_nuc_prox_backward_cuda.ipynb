{
  "nbformat": 4,
  "nbformat_minor": 0,
  "metadata": {
    "colab": {
      "name": "pytorch_nuc_prox_backward_cuda.ipynb",
      "provenance": [],
      "collapsed_sections": [],
      "include_colab_link": true
    },
    "kernelspec": {
      "name": "python3",
      "display_name": "Python 3"
    },
    "accelerator": "GPU"
  },
  "cells": [
    {
      "cell_type": "markdown",
      "metadata": {
        "id": "view-in-github",
        "colab_type": "text"
      },
      "source": [
        "<a href=\"https://colab.research.google.com/github/tsakailab/sandbox/blob/master/pytorch_nuc_prox_backward_cuda.ipynb\" target=\"_parent\"><img src=\"https://colab.research.google.com/assets/colab-badge.svg\" alt=\"Open In Colab\"/></a>"
      ]
    },
    {
      "cell_type": "code",
      "metadata": {
        "id": "XeRc34BqIypb",
        "colab_type": "code",
        "outputId": "6614134e-6c29-4de8-fb15-7c41c256cc01",
        "colab": {
          "base_uri": "https://localhost:8080/",
          "height": 72
        }
      },
      "source": [
        "import torch\n",
        "device = torch.device('cpu')\n",
        "if torch.cuda.is_available():\n",
        "    device = torch.device('cuda')\n",
        "    print(torch.cuda.get_device_name(torch.cuda.current_device()))\n",
        "    print(torch.cuda.memory_allocated())\n",
        "    print(torch.cuda.memory_cached())\n",
        "    torch.cuda.empty_cache()"
      ],
      "execution_count": 1,
      "outputs": [
        {
          "output_type": "stream",
          "text": [
            "Tesla P4\n",
            "0\n",
            "0\n"
          ],
          "name": "stdout"
        }
      ]
    },
    {
      "cell_type": "markdown",
      "metadata": {
        "id": "AYlu1Qh9BwbE",
        "colab_type": "text"
      },
      "source": [
        "# Nuclear Loss backward with prox (singular value thresholding)"
      ]
    },
    {
      "cell_type": "code",
      "metadata": {
        "id": "mFnnjF-9XmzR",
        "colab_type": "code",
        "colab": {}
      },
      "source": [
        "soft = lambda z, th: z.sign() * (z.abs() - th).max(torch.tensor(0., device=device))\n",
        "\n",
        "class NuclearLossFunc(torch.autograd.Function):\n",
        "    @staticmethod\n",
        "    def forward(ctx, input, lw):\n",
        "        u, s, v = torch.svd(input)\n",
        "        ctx.save_for_backward(input, lw, u, s, v)\n",
        "        return torch.sum(s*lw)\n",
        "\n",
        "    @staticmethod\n",
        "    def backward(ctx, grad_output):\n",
        "        input, lw, u, s, v = ctx.saved_tensors\n",
        "        grad_input = grad_output.clone()\n",
        "        svt_input = torch.matmul(torch.matmul(u, torch.diag_embed(soft(s,lw))), torch.transpose(v, -2, -1))\n",
        "        return (input - svt_input) * grad_input, s * grad_input\n",
        "\n",
        "\n",
        "class NuclearLoss(torch.nn.Module):\n",
        "    def __init__(self, lw=torch.tensor(1.0, device=device)):\n",
        "        super(NuclearLoss, self).__init__()\n",
        "        self.fn = NuclearLossFunc.apply\n",
        "        self.lw = torch.nn.Parameter(lw, requires_grad=lw.requires_grad)\n",
        "\n",
        "    def forward(self, input):\n",
        "        return self.fn(input, self.lw)\n"
      ],
      "execution_count": 0,
      "outputs": []
    },
    {
      "cell_type": "markdown",
      "metadata": {
        "id": "6IX_l2erCs5p",
        "colab_type": "text"
      },
      "source": [
        "# Demonstration 1: observe gradients\n",
        "### Auto differentiation vs. proximal operation"
      ]
    },
    {
      "cell_type": "code",
      "metadata": {
        "id": "RCyGhCYiIyrs",
        "colab_type": "code",
        "colab": {}
      },
      "source": [
        "torch.cuda.empty_cache()\n",
        "#D = torch.autograd.Variable(torch.randn(32,40000,60, device=device), requires_grad=True)\n",
        "D = torch.autograd.Variable(torch.randn(2,3,5, device=device), requires_grad=True)\n",
        "Dr = torch.autograd.Variable(D, requires_grad=True)"
      ],
      "execution_count": 0,
      "outputs": []
    },
    {
      "cell_type": "code",
      "metadata": {
        "id": "rWauWWDE00PZ",
        "colab_type": "code",
        "outputId": "d0455f05-e6ed-4131-9601-e2c92d659d9e",
        "colab": {
          "base_uri": "https://localhost:8080/",
          "height": 163
        }
      },
      "source": [
        "#ll = 0.5 * torch.ones(min(3,5), device=device)\n",
        "ll = torch.tensor(0.9, device=device)\n",
        "print('lambda = \\n', ll)\n",
        "#lw = ll.clone()\n",
        "lw = torch.autograd.Variable(ll, requires_grad=True)\n",
        "lwr = torch.autograd.Variable(ll, requires_grad=True)\n",
        "\n",
        "# l1 norm and its backprop\n",
        "from time import time\n",
        "t0 = time()\n",
        "\n",
        "print(\"Singular values = \\n\", torch.svd(D)[1])\n",
        "nucloss = NuclearLoss(lw=lw)\n",
        "loss = nucloss.forward(D)\n",
        "loss.backward(retain_graph=True)\n",
        "print('done in %.2fms' % ((time() - t0)*1000))\n",
        "print('nuclear loss = ', loss.item())\n",
        "\n",
        "lw_sum_sv = torch.sum(torch.svd(Dr)[1]*lwr)\n",
        "lw_sum_sv.backward(retain_graph=True)\n",
        "print('sum of singular values = ', lw_sum_sv.item())"
      ],
      "execution_count": 4,
      "outputs": [
        {
          "output_type": "stream",
          "text": [
            "lambda = \n",
            " tensor(0.9000, device='cuda:0')\n",
            "Singular values = \n",
            " tensor([[4.1567, 2.2873, 0.9343],\n",
            "        [1.8618, 1.6319, 0.8835]], device='cuda:0', grad_fn=<SvdBackward>)\n",
            "done in 29.69ms\n",
            "nuclear loss =  10.580000877380371\n",
            "sum of singular values =  10.580000877380371\n"
          ],
          "name": "stdout"
        }
      ]
    },
    {
      "cell_type": "markdown",
      "metadata": {
        "id": "XUsY6NjhZ8AD",
        "colab_type": "text"
      },
      "source": [
        "### Prox of L1 norm provides gradients that cut down (sparsify) the data entries by the weight lambda while the autorgad cannot.  Imagine the gradient descent (D$-$D.grad).\n"
      ]
    },
    {
      "cell_type": "code",
      "metadata": {
        "id": "RXUYVFEQ96PA",
        "colab_type": "code",
        "outputId": "74e0071e-2541-430e-c3fb-d9da2eeeb744",
        "colab": {
          "base_uri": "https://localhost:8080/",
          "height": 803
        }
      },
      "source": [
        "print('data = \\n', D)\n",
        "print('\\n Gradient of nuclear loss w.r.t. data by prox = \\n', D.grad)\n",
        "print('\\n Gradient of nuclear loss w.r.t. lambda = \\n', nucloss.lw.grad)\n",
        "print('\\n data = \\n', Dr)\n",
        "print('\\n Gradient of sum of singular values w.r.t. data by autograd = \\n', Dr.grad)\n",
        "print('\\n Gradient of  sum of singular values w.r.t. lambda = \\n', lwr.grad)"
      ],
      "execution_count": 5,
      "outputs": [
        {
          "output_type": "stream",
          "text": [
            "data = \n",
            " tensor([[[ 0.4597,  2.6543, -0.3760, -2.6877,  0.3359],\n",
            "         [ 1.0368,  1.2488,  0.8116, -0.6227, -0.7786],\n",
            "         [ 1.2595, -1.2605,  0.7054,  0.0130, -0.8292]],\n",
            "\n",
            "        [[-0.5750, -0.0742, -0.2057, -0.2931,  1.1085],\n",
            "         [-0.4699, -0.8836,  0.0231,  0.5880,  0.7729],\n",
            "         [ 0.6618, -1.1082, -0.2748, -1.2158,  0.2281]]], device='cuda:0',\n",
            "       requires_grad=True)\n",
            "\n",
            " Gradient of nuclear loss w.r.t. data by prox = \n",
            " tensor([[[ 0.1343,  0.4073, -0.1847, -0.7558,  0.1441],\n",
            "         [ 0.3162,  0.5459,  0.4681,  0.1578, -0.4098],\n",
            "         [ 0.5640, -0.5660,  0.1616, -0.2912, -0.2462]],\n",
            "\n",
            "        [[-0.3841,  0.1959, -0.1562, -0.3093,  0.6980],\n",
            "         [-0.2111, -0.6371,  0.0626,  0.4933,  0.3160],\n",
            "         [ 0.3578, -0.5563, -0.1278, -0.5932,  0.0642]]], device='cuda:0')\n",
            "\n",
            " Gradient of nuclear loss w.r.t. lambda = \n",
            " tensor(11.7556, device='cuda:0')\n",
            "\n",
            " data = \n",
            " tensor([[[ 0.4597,  2.6543, -0.3760, -2.6877,  0.3359],\n",
            "         [ 1.0368,  1.2488,  0.8116, -0.6227, -0.7786],\n",
            "         [ 1.2595, -1.2605,  0.7054,  0.0130, -0.8292]],\n",
            "\n",
            "        [[-0.5750, -0.0742, -0.2057, -0.2931,  1.1085],\n",
            "         [-0.4699, -0.8836,  0.0231,  0.5880,  0.7729],\n",
            "         [ 0.6618, -1.1082, -0.2748, -1.2158,  0.2281]]], device='cuda:0',\n",
            "       requires_grad=True)\n",
            "\n",
            " Gradient of sum of singular values w.r.t. data by autograd = \n",
            " tensor([[[ 0.1343,  0.4073, -0.1847, -0.7558,  0.1441],\n",
            "         [ 0.3162,  0.5459,  0.4681,  0.1578, -0.4098],\n",
            "         [ 0.5640, -0.5660,  0.1616, -0.2912, -0.2462]],\n",
            "\n",
            "        [[-0.3867,  0.2045, -0.1583, -0.3164,  0.7025],\n",
            "         [-0.2089, -0.6444,  0.0644,  0.4995,  0.3121],\n",
            "         [ 0.3581, -0.5572, -0.1276, -0.5924,  0.0637]]], device='cuda:0')\n",
            "\n",
            " Gradient of  sum of singular values w.r.t. lambda = \n",
            " tensor(11.7556, device='cuda:0')\n"
          ],
          "name": "stdout"
        }
      ]
    },
    {
      "cell_type": "markdown",
      "metadata": {
        "id": "tBdaQDCkxz-O",
        "colab_type": "text"
      },
      "source": [
        "# Demonstration 2: minimize nuclear loss $$\\mbox{Minimize}_X\\|X-D\\|_*$$\n",
        "###Note that NuclearLoss is not differentiable at low-rank matrices in a matrix space, so augograd cannot find the minimizer."
      ]
    },
    {
      "cell_type": "code",
      "metadata": {
        "id": "BK74UI5ryYGP",
        "colab_type": "code",
        "outputId": "f6001344-fa81-4619-cb95-f576f8bd1560",
        "colab": {
          "base_uri": "https://localhost:8080/",
          "height": 163
        }
      },
      "source": [
        "D = torch.randn(2,3,5, device=device)\n",
        "print('D = \\n', D)"
      ],
      "execution_count": 6,
      "outputs": [
        {
          "output_type": "stream",
          "text": [
            "D = \n",
            " tensor([[[-3.0307, -0.5427,  0.6131,  1.3066, -0.8404],\n",
            "         [ 1.4701, -1.2852, -2.6925,  0.7141, -0.4263],\n",
            "         [ 0.5010, -0.6573,  0.4081,  0.0763, -0.8680]],\n",
            "\n",
            "        [[ 0.9476, -0.1991,  0.2063,  1.0195, -1.8145],\n",
            "         [ 1.5864,  0.1531, -0.3000,  1.6152,  1.7262],\n",
            "         [ 0.3771,  0.5302, -2.4082, -0.6667,  0.8107]]], device='cuda:0')\n"
          ],
          "name": "stdout"
        }
      ]
    },
    {
      "cell_type": "code",
      "metadata": {
        "id": "DXDJCrBRwvG1",
        "colab_type": "code",
        "outputId": "84bd7684-3fad-4c22-e81d-b7ff11ec2a95",
        "colab": {
          "base_uri": "https://localhost:8080/",
          "height": 1000
        }
      },
      "source": [
        "#ll = 0.5 * torch.ones(3,5, device=device)\n",
        "ll = 0.5\n",
        "print('lambda = \\n', ll)\n",
        "\n",
        "# Using L1Loss with prox\n",
        "nucloss = NuclearLoss(lw=torch.tensor(ll))\n",
        "X = torch.autograd.Variable(torch.randn(D.shape, device=device), requires_grad=True)\n",
        "optimizer = torch.optim.SGD([X], lr = 1e0)\n",
        "\n",
        "t0 = time()\n",
        "num_iter = 30\n",
        "display_step = 1\n",
        "history_loss_prox = []\n",
        "for iter in range(num_iter):\n",
        "    loss = nucloss(X - D)\n",
        "    optimizer.zero_grad()\n",
        "    loss.backward(retain_graph=True)\n",
        "    optimizer.step()\n",
        "    history_loss_prox.append(loss.item())\n",
        "\n",
        "    if (iter+1) % display_step == 0:\n",
        "        print ('[{:3d}/{}]: loss = {:.4f},  '.format(iter+1, num_iter, loss.item()))\n",
        "\n",
        "print('D = \\n', D)\n",
        "print('X = \\n', X)\n",
        "import matplotlib.pyplot as plt\n",
        "plt.plot(history_loss_prox)"
      ],
      "execution_count": 7,
      "outputs": [
        {
          "output_type": "stream",
          "text": [
            "lambda = \n",
            " 0.5\n",
            "[  1/30]: loss = 10.2600,  \n",
            "[  2/30]: loss = 8.7600,  \n",
            "[  3/30]: loss = 7.2600,  \n",
            "[  4/30]: loss = 5.7600,  \n",
            "[  5/30]: loss = 4.6387,  \n",
            "[  6/30]: loss = 3.8887,  \n",
            "[  7/30]: loss = 3.1387,  \n",
            "[  8/30]: loss = 2.3887,  \n",
            "[  9/30]: loss = 1.7672,  \n",
            "[ 10/30]: loss = 1.2672,  \n",
            "[ 11/30]: loss = 0.7672,  \n",
            "[ 12/30]: loss = 0.2672,  \n",
            "[ 13/30]: loss = 0.0040,  \n",
            "[ 14/30]: loss = 0.0000,  \n",
            "[ 15/30]: loss = 0.0000,  \n",
            "[ 16/30]: loss = 0.0000,  \n",
            "[ 17/30]: loss = 0.0000,  \n",
            "[ 18/30]: loss = 0.0000,  \n",
            "[ 19/30]: loss = 0.0000,  \n",
            "[ 20/30]: loss = 0.0000,  \n",
            "[ 21/30]: loss = 0.0000,  \n",
            "[ 22/30]: loss = 0.0000,  \n",
            "[ 23/30]: loss = 0.0000,  \n",
            "[ 24/30]: loss = 0.0000,  \n",
            "[ 25/30]: loss = 0.0000,  \n",
            "[ 26/30]: loss = 0.0000,  \n",
            "[ 27/30]: loss = 0.0000,  \n",
            "[ 28/30]: loss = 0.0000,  \n",
            "[ 29/30]: loss = 0.0000,  \n",
            "[ 30/30]: loss = 0.0000,  \n",
            "D = \n",
            " tensor([[[-3.0307, -0.5427,  0.6131,  1.3066, -0.8404],\n",
            "         [ 1.4701, -1.2852, -2.6925,  0.7141, -0.4263],\n",
            "         [ 0.5010, -0.6573,  0.4081,  0.0763, -0.8680]],\n",
            "\n",
            "        [[ 0.9476, -0.1991,  0.2063,  1.0195, -1.8145],\n",
            "         [ 1.5864,  0.1531, -0.3000,  1.6152,  1.7262],\n",
            "         [ 0.3771,  0.5302, -2.4082, -0.6667,  0.8107]]], device='cuda:0')\n",
            "X = \n",
            " tensor([[[-3.0307, -0.5427,  0.6131,  1.3066, -0.8404],\n",
            "         [ 1.4701, -1.2852, -2.6925,  0.7141, -0.4263],\n",
            "         [ 0.5010, -0.6573,  0.4081,  0.0763, -0.8680]],\n",
            "\n",
            "        [[ 0.9476, -0.1991,  0.2063,  1.0195, -1.8145],\n",
            "         [ 1.5864,  0.1531, -0.3000,  1.6152,  1.7262],\n",
            "         [ 0.3771,  0.5302, -2.4082, -0.6667,  0.8107]]], device='cuda:0',\n",
            "       requires_grad=True)\n"
          ],
          "name": "stdout"
        },
        {
          "output_type": "execute_result",
          "data": {
            "text/plain": [
              "[<matplotlib.lines.Line2D at 0x7f639c3b28d0>]"
            ]
          },
          "metadata": {
            "tags": []
          },
          "execution_count": 7
        },
        {
          "output_type": "display_data",
          "data": {
            "image/png": "[encoded data removed]",
            "text/plain": [
              "<Figure size 432x288 with 1 Axes>"
            ]
          },
          "metadata": {
            "tags": []
          }
        }
      ]
    },
    {
      "cell_type": "code",
      "metadata": {
        "id": "qXBPlWY2KC26",
        "colab_type": "code",
        "outputId": "448371af-e1c2-45ee-bf3f-154def34c1fd",
        "colab": {
          "base_uri": "https://localhost:8080/",
          "height": 1000
        }
      },
      "source": [
        "#ll = 0.5 * torch.ones(3,5, device=device)\n",
        "ll = 0.5\n",
        "print('lambda = \\n', ll)\n",
        "\n",
        "# Using sum of abs with autogradient\n",
        "nucloss = lambda x: torch.sum(torch.svd(x)[1]*ll)\n",
        "X = torch.autograd.Variable(torch.randn(D.shape, device=device), requires_grad=True)\n",
        "optimizer = torch.optim.SGD([X], lr = 1e0)\n",
        "\n",
        "t0 = time()\n",
        "num_iter = 30\n",
        "display_step = 1\n",
        "history_loss = []\n",
        "for iter in range(num_iter):\n",
        "    loss = nucloss(X - D)\n",
        "    optimizer.zero_grad()\n",
        "    loss.backward(retain_graph=True)\n",
        "    optimizer.step()\n",
        "    history_loss.append(loss.item())\n",
        "\n",
        "    if (iter+1) % display_step == 0:\n",
        "        print ('[{:3d}/{}]: loss = {:.4f},  '.format(iter+1, num_iter, loss.item()))\n",
        "\n",
        "print('D = \\n', D)\n",
        "print('X = \\n', X)\n",
        "import matplotlib.pyplot as plt\n",
        "plt.figure()\n",
        "plt.plot(history_loss_prox)\n",
        "plt.plot(history_loss)"
      ],
      "execution_count": 8,
      "outputs": [
        {
          "output_type": "stream",
          "text": [
            "lambda = \n",
            " 0.5\n",
            "[  1/30]: loss = 10.8450,  \n",
            "[  2/30]: loss = 9.3450,  \n",
            "[  3/30]: loss = 7.8450,  \n",
            "[  4/30]: loss = 6.3450,  \n",
            "[  5/30]: loss = 4.9625,  \n",
            "[  6/30]: loss = 4.1064,  \n",
            "[  7/30]: loss = 2.9625,  \n",
            "[  8/30]: loss = 2.5004,  \n",
            "[  9/30]: loss = 1.4625,  \n",
            "[ 10/30]: loss = 1.0142,  \n",
            "[ 11/30]: loss = 0.5947,  \n",
            "[ 12/30]: loss = 0.9053,  \n",
            "[ 13/30]: loss = 0.5947,  \n",
            "[ 14/30]: loss = 0.9053,  \n",
            "[ 15/30]: loss = 0.5947,  \n",
            "[ 16/30]: loss = 0.9053,  \n",
            "[ 17/30]: loss = 0.5947,  \n",
            "[ 18/30]: loss = 0.9053,  \n",
            "[ 19/30]: loss = 0.5947,  \n",
            "[ 20/30]: loss = 0.9053,  \n",
            "[ 21/30]: loss = 0.5947,  \n",
            "[ 22/30]: loss = 0.9053,  \n",
            "[ 23/30]: loss = 0.5947,  \n",
            "[ 24/30]: loss = 0.9053,  \n",
            "[ 25/30]: loss = 0.5947,  \n",
            "[ 26/30]: loss = 0.9053,  \n",
            "[ 27/30]: loss = 0.5947,  \n",
            "[ 28/30]: loss = 0.9053,  \n",
            "[ 29/30]: loss = 0.5947,  \n",
            "[ 30/30]: loss = 0.9053,  \n",
            "D = \n",
            " tensor([[[-3.0307, -0.5427,  0.6131,  1.3066, -0.8404],\n",
            "         [ 1.4701, -1.2852, -2.6925,  0.7141, -0.4263],\n",
            "         [ 0.5010, -0.6573,  0.4081,  0.0763, -0.8680]],\n",
            "\n",
            "        [[ 0.9476, -0.1991,  0.2063,  1.0195, -1.8145],\n",
            "         [ 1.5864,  0.1531, -0.3000,  1.6152,  1.7262],\n",
            "         [ 0.3771,  0.5302, -2.4082, -0.6667,  0.8107]]], device='cuda:0')\n",
            "X = \n",
            " tensor([[[-2.9394, -0.5730,  0.3693,  1.1344, -0.6608],\n",
            "         [ 1.2918, -1.2964, -2.5003,  0.8245, -0.4814],\n",
            "         [ 0.5805, -0.6139,  0.3397, -0.1011, -0.8127]],\n",
            "\n",
            "        [[ 0.9056, -0.3362,  0.1591,  0.8832, -1.7306],\n",
            "         [ 1.6030,  0.0494, -0.2530,  1.6646,  1.7776],\n",
            "         [ 0.3231,  0.4521, -2.3888, -0.7344,  0.7405]]], device='cuda:0',\n",
            "       requires_grad=True)\n"
          ],
          "name": "stdout"
        },
        {
          "output_type": "execute_result",
          "data": {
            "text/plain": [
              "[<matplotlib.lines.Line2D at 0x7f639c118550>]"
            ]
          },
          "metadata": {
            "tags": []
          },
          "execution_count": 8
        },
        {
          "output_type": "display_data",
          "data": {
            "image/png": "[encoded data removed]",
            "text/plain": [
              "<Figure size 432x288 with 1 Axes>"
            ]
          },
          "metadata": {
            "tags": []
          }
        }
      ]
    },
    {
      "cell_type": "code",
      "metadata": {
        "id": "jup6iCVgOeDK",
        "colab_type": "code",
        "colab": {}
      },
      "source": [
        ""
      ],
      "execution_count": 0,
      "outputs": []
    }
  ]
}