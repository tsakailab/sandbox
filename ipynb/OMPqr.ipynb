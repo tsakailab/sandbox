{
 "cells": [
  {
   "cell_type": "code",
   "execution_count": 88,
   "metadata": {},
   "outputs": [
    {
     "name": "stdout",
     "output_type": "stream",
     "text": [
      "[[ -1.57187564e+00   5.87132899e-01   5.34025563e-02  -1.03262938e+00\n",
      "    1.22702496e+00   1.35859443e-01   1.78724297e+00   4.92126461e-01\n",
      "    3.14673271e-01  -8.79055963e-01  -3.75782891e-01   4.11946142e-01\n",
      "   -7.54006768e-01  -1.56484354e+00  -1.07411712e+00]\n",
      " [  1.34074651e+00  -3.37783969e-01   1.88692014e+00   7.25791830e-01\n",
      "   -6.15144026e-01  -1.67265228e+00   1.74614310e+00   8.38639227e-01\n",
      "   -1.46783555e+00  -2.46458520e-03  -5.83490551e-01  -1.58288560e-01\n",
      "    1.04654481e+00   1.66183872e-01  -2.64882078e-01]\n",
      " [ -6.76732670e-01  -1.94172179e+00  -4.42885401e-01  -7.44081465e-01\n",
      "   -6.50761760e-01  -2.59251615e+00  -5.21740395e-01   3.17586404e-01\n",
      "   -3.77536747e-01  -1.70980419e-01  -2.06287881e-01  -1.55645498e-01\n",
      "   -9.64112636e-02   1.01810334e+00   4.76501564e-01]\n",
      " [ -1.08863495e+00  -9.76084902e-01  -7.17468095e-01  -9.59997415e-01\n",
      "   -3.58459293e-01   1.25171443e+00  -6.22922214e-01  -2.07672226e+00\n",
      "    2.06076231e+00   1.93312131e+00   1.76285490e+00   1.90171803e-01\n",
      "   -1.84432406e+00   6.45733072e-01   1.99501406e+00]\n",
      " [  9.78491584e-01  -6.79530269e-01  -6.12960734e-01  -5.84490767e-01\n",
      "    9.19898544e-01   1.00165025e+00   1.24022168e+00  -4.28230511e-01\n",
      "   -6.86944040e-02  -1.71529896e+00  -8.56975557e-02   5.99611211e-02\n",
      "    1.20886781e+00  -2.57899057e-01  -1.55133309e+00]\n",
      " [ -9.85130241e-01   1.10357722e+00   1.28943733e+00  -1.53384922e+00\n",
      "    4.51176128e-01  -1.04170060e+00  -2.08104576e+00  -2.74460829e-01\n",
      "   -5.14902823e-02  -1.29678070e+00  -1.11391948e+00   4.99979058e-01\n",
      "   -3.55950170e-01  -1.73452559e+00  -6.58010390e-02]\n",
      " [  6.00325817e-01   1.03146493e-02  -8.54276046e-01   1.58793361e-01\n",
      "   -1.69565697e+00   3.68132646e-01  -8.55574145e-01  -3.07895044e-01\n",
      "    8.51079197e-01   1.69051575e-02   4.14749938e-02   8.79323110e-02\n",
      "    1.86839539e-01   1.21279710e+00  -1.18378436e+00]\n",
      " [ -1.59023628e+00   1.79472205e+00   8.67905161e-01   6.77660066e-01\n",
      "   -5.19558103e-01  -1.46452647e+00  -8.68775620e-02   3.16318326e-01\n",
      "    7.93174342e-01   1.07029399e+00  -6.85281678e-01   6.76308429e-01\n",
      "   -2.28914802e-02  -1.81259589e-01   5.93055223e-01]\n",
      " [ -1.24355585e+00   4.90150351e-01   4.59624845e-01   1.97551812e+00\n",
      "    7.43548915e-01  -3.13714758e-03   1.38069356e+00  -4.32808687e-01\n",
      "   -1.38584282e+00   1.07007958e+00  -8.16366062e-01  -2.72454427e-01\n",
      "   -1.93375800e+00  -1.70920810e-02  -4.76270508e-02]\n",
      " [  1.40853054e+00   1.25619917e+00  -1.13180270e+00   5.25376080e-01\n",
      "    1.72364348e+00  -1.02083949e+00  -3.65297161e-02  -4.42015470e-01\n",
      "    1.96286366e+00   2.73890564e-01   1.41565698e+00   1.33612149e+00\n",
      "   -4.01492454e-01  -2.30864413e-01   2.05358144e+00]]\n",
      "[ 1.1  1.2  1.3  0.   0.   0.   0.   0.   0.   0.   0.   0.   0.   0.   0. ]\n",
      "[-0.9550804   3.52247658 -3.65022311 -3.30150885 -0.53594453  1.91691793\n",
      " -0.43782288  1.53268326 -0.18221872  1.58547909]\n"
     ]
    }
   ],
   "source": [
    "import numpy as np\n",
    "from scipy import linalg\n",
    "A = np.random.randn(10,15)\n",
    "m, n = A.shape\n",
    "print(A)\n",
    "x = np.zeros(n)\n",
    "x[:3] = [1.1,1.2,1.3]\n",
    "print(x)\n",
    "b = A.dot(x)\n",
    "print(b)"
   ]
  },
  {
   "cell_type": "code",
   "execution_count": 193,
   "metadata": {},
   "outputs": [],
   "source": [
    "# Orthogonal matching pursuit (OMP)\n",
    "def OMP(A, b, tol=1e-5, maxnnz=np.inf):\n",
    "    m, n = A.shape\n",
    "    supp = []\n",
    "    x = np.zeros(n)\n",
    "    r = b.copy()\n",
    "    while len(supp) < maxnnz and linalg.norm(r) > tol:\n",
    "        s = np.argmax(np.abs( A.T.dot(r) ))\n",
    "        supp.append(s)\n",
    "        Asupp = A[:,supp]\n",
    "        x[supp] = linalg.lstsq(Asupp, b)[0]\n",
    "        r = b - Asupp.dot(x[supp])\n",
    "    return x"
   ]
  },
  {
   "cell_type": "code",
   "execution_count": 123,
   "metadata": {},
   "outputs": [
    {
     "name": "stdout",
     "output_type": "stream",
     "text": [
      "[ 1.1  1.2  1.3  0.   0.   0.   0.   0.   0.   0.   0.   0.   0.   0.   0. ]\n",
      "1000 loops, best of 3: 526 µs per loop\n"
     ]
    }
   ],
   "source": [
    "print(OMP(A,b,maxnnz=5))\n",
    "%timeit OMP(A,b,maxnnz=5)\n"
   ]
  },
  {
   "cell_type": "code",
   "execution_count": 127,
   "metadata": {},
   "outputs": [
    {
     "name": "stdout",
     "output_type": "stream",
     "text": [
      "1\n",
      "(10, 1) (1, 1)\n",
      "[[ 0.17019482]\n",
      " [-0.09791494]\n",
      " [-0.56285551]\n",
      " [-0.28294206]\n",
      " [-0.19697845]\n",
      " [ 0.31989883]\n",
      " [ 0.00298995]\n",
      " [ 0.52024405]\n",
      " [ 0.14208206]\n",
      " [ 0.36414003]]\n",
      "[[ 3.44976952]]\n",
      "5.090547312217371\n"
     ]
    }
   ],
   "source": [
    "supp = []\n",
    "z = []\n",
    "r = b.copy()\n",
    "s = np.argmax(np.abs( A.T.dot(r) ))\n",
    "supp.append(s)\n",
    "print(s)\n",
    "#Q, R = linalg.qr_insert(np.empty((m,0)),np.empty((0,0)),A[:,s],Q.shape[1],which='col')\n",
    "R = np.atleast_2d(linalg.norm(A[:,s]))\n",
    "Q = np.atleast_2d(A[:,s] / R).T\n",
    "zi = Q[:,0].dot(b)\n",
    "z.append(zi)\n",
    "r -= zi*Q[:,0]\n",
    "print(Q.shape, R.shape)\n",
    "print(Q)\n",
    "print(R)\n",
    "print(linalg.norm(r))"
   ]
  },
  {
   "cell_type": "code",
   "execution_count": 129,
   "metadata": {},
   "outputs": [
    {
     "name": "stdout",
     "output_type": "stream",
     "text": [
      "2\n",
      "(10, 3) (3, 3)\n",
      "[[ 0.17019482 -0.39132082 -0.10009993]\n",
      " [-0.09791494  0.34278841  0.74539389]\n",
      " [-0.56285551 -0.28973135 -0.02329284]\n",
      " [-0.28294206 -0.34741977 -0.21749584]\n",
      " [-0.19697845  0.22624455 -0.11367282]\n",
      " [ 0.31989883 -0.2046034   0.31395438]\n",
      " [ 0.00298995  0.16241219 -0.27188366]\n",
      " [ 0.52024405 -0.32954491  0.08272049]\n",
      " [ 0.14208206 -0.30816766  0.06415145]\n",
      " [ 0.36414003  0.44913845 -0.43606568]]\n",
      "[[ 3.44976952 -0.70706527  0.91198113]\n",
      " [ 0.          3.70932682 -0.47374128]\n",
      " [ 0.          0.          2.86910017]]\n",
      "1.1541114112329936e-15\n"
     ]
    }
   ],
   "source": [
    "s = np.argmax(np.abs( A.T.dot(r) ))\n",
    "supp.append(s)\n",
    "print(s)\n",
    "Q, R = linalg.qr_insert(Q,R,A[:,s],Q.shape[1],which='col')\n",
    "zi = Q[:,-1].dot(b)\n",
    "z.append(zi)\n",
    "r -= zi*Q[:,-1]\n",
    "print(Q.shape, R.shape)\n",
    "print(Q)\n",
    "print(R)\n",
    "print(linalg.norm(r))"
   ]
  },
  {
   "cell_type": "code",
   "execution_count": 132,
   "metadata": {},
   "outputs": [],
   "source": [
    "def spvec(n, nz):\n",
    "    v = np.zeros(n)\n",
    "    v[nz[1]] = nz[0] #np.array(nz[0]).ravel()\n",
    "    return v"
   ]
  },
  {
   "cell_type": "code",
   "execution_count": 133,
   "metadata": {},
   "outputs": [
    {
     "name": "stdout",
     "output_type": "stream",
     "text": [
      "[ 1.1  1.2  1.3  0.   0.   0.   0.   0.   0.   0.   0.   0.   0.   0.   0. ]\n"
     ]
    }
   ],
   "source": [
    "xest = spvec(n, (linalg.solve_triangular(R, z), supp))\n",
    "print(xest)"
   ]
  },
  {
   "cell_type": "code",
   "execution_count": 194,
   "metadata": {},
   "outputs": [],
   "source": [
    "# Orthogonal matching pursuit with QR factorization (OMPqr)\n",
    "def OMPqr(A, b, tol=1e-5, maxnnz=np.inf):\n",
    "    m, n = A.shape\n",
    "    supp = []\n",
    "    xnz = []\n",
    "    r = b.copy()\n",
    "\n",
    "    # find the 1st atom and orthonormal basis\n",
    "    s = np.argmax(np.abs( A.T.dot(r) ))\n",
    "    supp.append(s)\n",
    "    R = np.atleast_2d(linalg.norm(A[:,s]))\n",
    "    Q = np.atleast_2d(A[:,s] / R).T\n",
    "    xi = Q[:,-1].dot(b)\n",
    "    xnz.append(xi)\n",
    "    r -= xi * Q[:,-1]\n",
    "\n",
    "    while len(supp) < maxnnz and linalg.norm(r) > tol:\n",
    "        s = np.argmax(np.abs( A.T.dot(r) ))\n",
    "        supp.append(s)\n",
    "        Q, R = linalg.qr_insert(Q, R, A[:,s], Q.shape[1], which='col')\n",
    "        xi = Q[:,-1].dot(b)\n",
    "        xnz.append(xi)\n",
    "        r -= xi * Q[:,-1]\n",
    "\n",
    "    xnz = linalg.solve_triangular(R, xnz)\n",
    "    x = np.zeros(n)\n",
    "    x[supp] = xnz\n",
    "    return x"
   ]
  },
  {
   "cell_type": "code",
   "execution_count": 135,
   "metadata": {},
   "outputs": [
    {
     "name": "stdout",
     "output_type": "stream",
     "text": [
      "[ 1.1  1.2  1.3  0.   0.   0.   0.   0.   0.   0.   0.   0.   0.   0.   0. ]\n",
      "The slowest run took 4.54 times longer than the fastest. This could mean that an intermediate result is being cached.\n",
      "1000 loops, best of 3: 254 µs per loop\n"
     ]
    }
   ],
   "source": [
    "print(OMPqr(A,b,maxnnz=5))\n",
    "%timeit OMPqr(A,b,maxnnz=5)\n"
   ]
  },
  {
   "cell_type": "code",
   "execution_count": 195,
   "metadata": {},
   "outputs": [],
   "source": [
    "# Generalized orthogonal matching pursuit with QR factorization (gOMPqr)\n",
    "def gOMPqr(A, b, N=3, tol=1e-5, maxnnz=np.inf):\n",
    "    m, n = A.shape\n",
    "    supp = []\n",
    "    xnz = []\n",
    "    r = b.copy()\n",
    "\n",
    "    # find the 1st atom group and orthonormal basis\n",
    "    s = np.argsort(-np.abs(A.T.dot(r)))\n",
    "    supp.extend(s[:N])\n",
    "    Q, R = linalg.qr(A[:,s[:N]], mode='economic')\n",
    "    xi = Q.T.dot(b)\n",
    "    xnz.extend(xi)\n",
    "    r -= Q.dot(xi)\n",
    "    \n",
    "    while len(supp) < maxnnz and linalg.norm(r) > tol:\n",
    "        s = np.argsort(-np.abs(A.T.dot(r)))\n",
    "        supp.extend(s[:N])\n",
    "        Q, R = linalg.qr_insert(Q, R, A[:,s[:N]], Q.shape[1], which='col')\n",
    "        xi = Q[:,-N:].T.dot(b)\n",
    "        xnz.extend(xi)\n",
    "        r -= Q[:,-N:].dot(xi)\n",
    "\n",
    "    xnz = linalg.solve_triangular(R, xnz)\n",
    "    x = np.zeros(n)\n",
    "    x[supp] = xnz\n",
    "    return x"
   ]
  },
  {
   "cell_type": "code",
   "execution_count": 187,
   "metadata": {},
   "outputs": [
    {
     "name": "stdout",
     "output_type": "stream",
     "text": [
      "[1.1]\n"
     ]
    }
   ],
   "source": [
    "cl = []\n",
    "cl.extend([1.1])\n",
    "print(cl)"
   ]
  },
  {
   "cell_type": "code",
   "execution_count": 196,
   "metadata": {},
   "outputs": [
    {
     "name": "stdout",
     "output_type": "stream",
     "text": [
      "Running OMP..\n",
      "done in 11.07s.\n",
      "Predicted supprt of 406 nonzeros = \n",
      "[   8   40   63   65   73  102  117  130  132  134  136  151  161  167  169\n",
      "  175  178  182  185  188  189  195  204  209  212  229  237  241  246  254\n",
      "  265  294  301  303  308  315  316  319  324  329  334  338  347  349  353\n",
      "  374  392  397  400  408  412  420  434  447  448  449  451  463  474  482\n",
      "  484  486  493  503  516  524  528  538  543  559  565  575  582  585  586\n",
      "  590  596  601  605  616  642  646  650  651  654  663  664  668  669  682\n",
      "  694  695  704  705  708  716  727  736  742  745  746  749  750  766  767\n",
      "  793  805  810  830  838  846  848  859  879  884  898  901  911  912  916\n",
      "  920  925  942  944  948  970  975  984  985  991 1004 1006 1044 1059 1066\n",
      " 1085 1091 1115 1119 1124 1138 1140 1144 1161 1171 1175 1176 1219 1228 1242\n",
      " 1246 1270 1288 1295 1309 1315 1324 1326 1341 1347 1348 1356 1367 1372 1383\n",
      " 1387 1403 1412 1425 1453 1461 1467 1471 1477 1478 1482 1485 1487 1493 1499\n",
      " 1545 1547 1569 1576 1601 1607 1610 1634 1669 1671 1674 1690 1698 1700 1735\n",
      " 1747 1749 1750 1759 1762 1772 1779 1783 1786 1799 1800 1810 1812 1854 1857\n",
      " 1859 1873 1876 1894 1896 1905 1913 1918 1928 1931 1932 1985 2001 2015 2020\n",
      " 2024 2030 2031 2049 2055 2060 2066 2079 2087 2088 2090 2091 2098 2123 2135\n",
      " 2145 2150 2155 2162 2163 2167 2210 2215 2228 2245 2254 2272 2297 2299 2302\n",
      " 2324 2336 2345 2379 2397 2398 2399 2403 2410 2433 2434 2437 2441 2443 2456\n",
      " 2463 2467 2475 2476 2496 2518 2523 2538 2541 2552 2554 2594 2601 2603 2606\n",
      " 2647 2652 2655 2667 2668 2674 2676 2686 2693 2694 2705 2731 2737 2746 2753\n",
      " 2775 2789 2799 2804 2824 2827 2832 2845 2849 2902 2915 2918 2925 2927 2928\n",
      " 2969 2973 2977 2985 3027 3050 3096 3149 3169 3192 3208 3215 3219 3228 3245\n",
      " 3267 3268 3269 3284 3285 3288 3296 3300 3304 3305 3321 3340 3365 3370 3389\n",
      " 3393 3418 3425 3457 3458 3463 3468 3479 3496 3501 3538 3544 3565 3570 3580\n",
      " 3586 3587 3601 3606 3609 3615 3640 3651 3655 3660 3668 3674 3683 3686 3689\n",
      " 3698 3701 3719 3720 3723 3731 3749 3761 3775 3782 3783 3791 3801 3814 3842\n",
      " 3856 3867 3869 3871 3891 3896 3899 3911 3914 3918 3932 3938 3944 3963 3968\n",
      " 3987]\n",
      "             precision    recall  f1-score   support\n",
      "\n",
      "      False       0.99      0.80      0.89       500\n",
      "       True       0.97      1.00      0.99      3500\n",
      "\n",
      "avg / total       0.97      0.97      0.97      4000\n",
      "\n",
      "[[ 402   98]\n",
      " [   4 3496]]\n"
     ]
    }
   ],
   "source": [
    "# OMP\n",
    "print(\"Running OMP..\")\n",
    "t0 = time()\n",
    "#x_est = OMP(A, b, maxnnz=100)\n",
    "x_est = OMP(A, b, tol=tol)\n",
    "print('done in %.2fs.' % (time() - t0))\n",
    "\n",
    "Tpred = np.nonzero(x_est)[0]\n",
    "print('Predicted supprt of %d nonzeros = ' % (np.count_nonzero(x_est)))\n",
    "print(Tpred)\n",
    "\n",
    "from sklearn import metrics\n",
    "print(metrics.classification_report(x_true == 0, x_est == 0))\n",
    "print(metrics.confusion_matrix(x_true == 0, x_est == 0))"
   ]
  },
  {
   "cell_type": "code",
   "execution_count": 168,
   "metadata": {},
   "outputs": [
    {
     "name": "stdout",
     "output_type": "stream",
     "text": [
      "True support of 500 nonzeros = \n",
      "[   8   15   40   51   63   65   69   73  102  117  130  132  134  136  151\n",
      "  161  167  169  175  178  181  182  185  188  189  195  204  209  212  228\n",
      "  229  237  241  246  250  254  265  294  301  303  308  310  315  316  319\n",
      "  321  324  329  334  338  347  349  353  354  372  374  392  397  400  408\n",
      "  412  416  420  434  436  447  448  449  451  463  474  479  482  484  486\n",
      "  493  503  515  516  524  528  538  543  551  559  564  565  573  575  582\n",
      "  585  586  590  596  601  605  616  627  646  650  651  654  663  664  668\n",
      "  669  682  695  703  704  705  708  711  716  727  736  742  745  746  747\n",
      "  749  750  751  766  767  793  795  804  805  810  830  838  846  848  859\n",
      "  877  879  880  884  895  898  901  911  912  916  920  925  942  944  948\n",
      "  953  955  970  975  984  985  991  994 1004 1006 1028 1044 1059 1066 1085\n",
      " 1091 1114 1115 1119 1124 1134 1138 1140 1144 1161 1171 1175 1176 1219 1228\n",
      " 1233 1242 1246 1265 1270 1288 1295 1309 1315 1317 1324 1326 1347 1348 1356\n",
      " 1367 1368 1372 1383 1387 1403 1412 1425 1453 1461 1467 1471 1477 1478 1482\n",
      " 1485 1487 1492 1493 1499 1539 1545 1547 1569 1576 1594 1601 1607 1610 1634\n",
      " 1648 1669 1671 1674 1682 1690 1698 1700 1735 1747 1749 1750 1759 1762 1772\n",
      " 1777 1779 1783 1786 1799 1800 1810 1812 1847 1854 1857 1859 1873 1876 1894\n",
      " 1896 1905 1913 1918 1928 1931 1932 1985 1991 2001 2008 2015 2020 2024 2030\n",
      " 2031 2049 2055 2060 2066 2079 2087 2088 2090 2091 2098 2123 2135 2145 2150\n",
      " 2155 2162 2163 2167 2179 2186 2199 2209 2210 2212 2215 2228 2245 2254 2272\n",
      " 2297 2299 2302 2324 2336 2345 2372 2379 2385 2397 2398 2399 2403 2410 2417\n",
      " 2433 2434 2437 2441 2443 2456 2463 2467 2475 2476 2485 2496 2511 2518 2523\n",
      " 2538 2541 2550 2552 2554 2559 2572 2573 2581 2594 2601 2603 2606 2647 2652\n",
      " 2663 2667 2668 2674 2676 2686 2693 2694 2705 2731 2737 2742 2746 2753 2766\n",
      " 2768 2775 2789 2790 2799 2804 2822 2824 2827 2832 2845 2847 2849 2877 2890\n",
      " 2902 2915 2918 2925 2927 2928 2938 2948 2969 2973 2977 2985 2997 3020 3027\n",
      " 3050 3096 3149 3169 3192 3208 3215 3219 3228 3233 3245 3267 3268 3269 3270\n",
      " 3284 3285 3288 3296 3300 3304 3305 3321 3332 3333 3340 3353 3365 3370 3389\n",
      " 3393 3418 3425 3439 3457 3458 3463 3466 3468 3479 3485 3492 3496 3501 3538\n",
      " 3544 3557 3565 3570 3580 3586 3587 3591 3601 3602 3606 3609 3615 3616 3640\n",
      " 3643 3651 3655 3660 3665 3668 3674 3677 3683 3686 3689 3696 3698 3701 3716\n",
      " 3719 3720 3723 3731 3742 3749 3754 3761 3771 3775 3782 3783 3791 3801 3814\n",
      " 3831 3842 3853 3856 3867 3869 3871 3889 3891 3896 3899 3911 3914 3918 3932\n",
      " 3938 3944 3963 3968 3987]\n"
     ]
    }
   ],
   "source": [
    "from time import time\n",
    "# Generate sythetic data for demo\n",
    "rng = np.random.RandomState(int(time()))\n",
    "#m, n = 512, 2048\n",
    "#m, n = 1024, 8192\n",
    "m, n = 2000, 4000\n",
    "\n",
    "# use a random matrix as a basis (design matrix)\n",
    "A = rng.randn(m, n) / np.sqrt(m)\n",
    "\n",
    "# generate a k-sparse Gaussian signal vector\n",
    "k = 500\n",
    "stdx = 1.\n",
    "snr = 10.\n",
    "\n",
    "x_true = np.zeros(n)\n",
    "T = np.sort(rng.choice(n,k,replace=False))\n",
    "print('True support of %d nonzeros = ' % (k))\n",
    "print(T)\n",
    "x_true[T] = rng.randn(k) * stdx\n",
    "\n",
    "# make the query vector\n",
    "b = A.dot(x_true)\n",
    "\n",
    "# add noise\n",
    "normb = linalg.norm(b)\n",
    "noise = rng.randn(m)\n",
    "noise = noise / linalg.norm(noise) * normb / snr\n",
    "tol = linalg.norm(noise)\n",
    "b = b + noise"
   ]
  },
  {
   "cell_type": "code",
   "execution_count": 174,
   "metadata": {},
   "outputs": [
    {
     "name": "stdout",
     "output_type": "stream",
     "text": [
      "Running OMP..\n",
      "done in 11.03s.\n",
      "Predicted supprt of 406 nonzeros = \n",
      "[   8   40   63   65   73  102  117  130  132  134  136  151  161  167  169\n",
      "  175  178  182  185  188  189  195  204  209  212  229  237  241  246  254\n",
      "  265  294  301  303  308  315  316  319  324  329  334  338  347  349  353\n",
      "  374  392  397  400  408  412  420  434  447  448  449  451  463  474  482\n",
      "  484  486  493  503  516  524  528  538  543  559  565  575  582  585  586\n",
      "  590  596  601  605  616  642  646  650  651  654  663  664  668  669  682\n",
      "  694  695  704  705  708  716  727  736  742  745  746  749  750  766  767\n",
      "  793  805  810  830  838  846  848  859  879  884  898  901  911  912  916\n",
      "  920  925  942  944  948  970  975  984  985  991 1004 1006 1044 1059 1066\n",
      " 1085 1091 1115 1119 1124 1138 1140 1144 1161 1171 1175 1176 1219 1228 1242\n",
      " 1246 1270 1288 1295 1309 1315 1324 1326 1341 1347 1348 1356 1367 1372 1383\n",
      " 1387 1403 1412 1425 1453 1461 1467 1471 1477 1478 1482 1485 1487 1493 1499\n",
      " 1545 1547 1569 1576 1601 1607 1610 1634 1669 1671 1674 1690 1698 1700 1735\n",
      " 1747 1749 1750 1759 1762 1772 1779 1783 1786 1799 1800 1810 1812 1854 1857\n",
      " 1859 1873 1876 1894 1896 1905 1913 1918 1928 1931 1932 1985 2001 2015 2020\n",
      " 2024 2030 2031 2049 2055 2060 2066 2079 2087 2088 2090 2091 2098 2123 2135\n",
      " 2145 2150 2155 2162 2163 2167 2210 2215 2228 2245 2254 2272 2297 2299 2302\n",
      " 2324 2336 2345 2379 2397 2398 2399 2403 2410 2433 2434 2437 2441 2443 2456\n",
      " 2463 2467 2475 2476 2496 2518 2523 2538 2541 2552 2554 2594 2601 2603 2606\n",
      " 2647 2652 2655 2667 2668 2674 2676 2686 2693 2694 2705 2731 2737 2746 2753\n",
      " 2775 2789 2799 2804 2824 2827 2832 2845 2849 2902 2915 2918 2925 2927 2928\n",
      " 2969 2973 2977 2985 3027 3050 3096 3149 3169 3192 3208 3215 3219 3228 3245\n",
      " 3267 3268 3269 3284 3285 3288 3296 3300 3304 3305 3321 3340 3365 3370 3389\n",
      " 3393 3418 3425 3457 3458 3463 3468 3479 3496 3501 3538 3544 3565 3570 3580\n",
      " 3586 3587 3601 3606 3609 3615 3640 3651 3655 3660 3668 3674 3683 3686 3689\n",
      " 3698 3701 3719 3720 3723 3731 3749 3761 3775 3782 3783 3791 3801 3814 3842\n",
      " 3856 3867 3869 3871 3891 3896 3899 3911 3914 3918 3932 3938 3944 3963 3968\n",
      " 3987]\n",
      "             precision    recall  f1-score   support\n",
      "\n",
      "      False       0.99      0.80      0.89       500\n",
      "       True       0.97      1.00      0.99      3500\n",
      "\n",
      "avg / total       0.97      0.97      0.97      4000\n",
      "\n",
      "[[ 402   98]\n",
      " [   4 3496]]\n"
     ]
    }
   ],
   "source": [
    "# OMP\n",
    "print(\"Running OMP..\")\n",
    "t0 = time()\n",
    "#x_est = OMP(A, b, maxnnz=100)\n",
    "x_est = OMP(A, b, tol=tol)\n",
    "print('done in %.2fs.' % (time() - t0))\n",
    "\n",
    "Tpred = np.nonzero(x_est)[0]\n",
    "print('Predicted supprt of %d nonzeros = ' % (np.count_nonzero(x_est)))\n",
    "print(Tpred)\n",
    "\n",
    "from sklearn import metrics\n",
    "print(metrics.classification_report(x_true == 0, x_est == 0))\n",
    "print(metrics.confusion_matrix(x_true == 0, x_est == 0))"
   ]
  },
  {
   "cell_type": "code",
   "execution_count": 200,
   "metadata": {},
   "outputs": [
    {
     "name": "stdout",
     "output_type": "stream",
     "text": [
      "Running OMPqr..\n",
      "done in 2.24s.\n",
      "Predicted supprt of 406 nonzeros = \n",
      "[   8   40   63   65   73  102  117  130  132  134  136  151  161  167  169\n",
      "  175  178  182  185  188  189  195  204  209  212  229  237  241  246  254\n",
      "  265  294  301  303  308  315  316  319  324  329  334  338  347  349  353\n",
      "  374  392  397  400  408  412  420  434  447  448  449  451  463  474  482\n",
      "  484  486  493  503  516  524  528  538  543  559  565  575  582  585  586\n",
      "  590  596  601  605  616  642  646  650  651  654  663  664  668  669  682\n",
      "  694  695  704  705  708  716  727  736  742  745  746  749  750  766  767\n",
      "  793  805  810  830  838  846  848  859  879  884  898  901  911  912  916\n",
      "  920  925  942  944  948  970  975  984  985  991 1004 1006 1044 1059 1066\n",
      " 1085 1091 1115 1119 1124 1138 1140 1144 1161 1171 1175 1176 1219 1228 1242\n",
      " 1246 1270 1288 1295 1309 1315 1324 1326 1341 1347 1348 1356 1367 1372 1383\n",
      " 1387 1403 1412 1425 1453 1461 1467 1471 1477 1478 1482 1485 1487 1493 1499\n",
      " 1545 1547 1569 1576 1601 1607 1610 1634 1669 1671 1674 1690 1698 1700 1735\n",
      " 1747 1749 1750 1759 1762 1772 1779 1783 1786 1799 1800 1810 1812 1854 1857\n",
      " 1859 1873 1876 1894 1896 1905 1913 1918 1928 1931 1932 1985 2001 2015 2020\n",
      " 2024 2030 2031 2049 2055 2060 2066 2079 2087 2088 2090 2091 2098 2123 2135\n",
      " 2145 2150 2155 2162 2163 2167 2210 2215 2228 2245 2254 2272 2297 2299 2302\n",
      " 2324 2336 2345 2379 2397 2398 2399 2403 2410 2433 2434 2437 2441 2443 2456\n",
      " 2463 2467 2475 2476 2496 2518 2523 2538 2541 2552 2554 2594 2601 2603 2606\n",
      " 2647 2652 2655 2667 2668 2674 2676 2686 2693 2694 2705 2731 2737 2746 2753\n",
      " 2775 2789 2799 2804 2824 2827 2832 2845 2849 2902 2915 2918 2925 2927 2928\n",
      " 2969 2973 2977 2985 3027 3050 3096 3149 3169 3192 3208 3215 3219 3228 3245\n",
      " 3267 3268 3269 3284 3285 3288 3296 3300 3304 3305 3321 3340 3365 3370 3389\n",
      " 3393 3418 3425 3457 3458 3463 3468 3479 3496 3501 3538 3544 3565 3570 3580\n",
      " 3586 3587 3601 3606 3609 3615 3640 3651 3655 3660 3668 3674 3683 3686 3689\n",
      " 3698 3701 3719 3720 3723 3731 3749 3761 3775 3782 3783 3791 3801 3814 3842\n",
      " 3856 3867 3869 3871 3891 3896 3899 3911 3914 3918 3932 3938 3944 3963 3968\n",
      " 3987]\n",
      "             precision    recall  f1-score   support\n",
      "\n",
      "      False       0.99      0.80      0.89       500\n",
      "       True       0.97      1.00      0.99      3500\n",
      "\n",
      "avg / total       0.97      0.97      0.97      4000\n",
      "\n",
      "[[ 402   98]\n",
      " [   4 3496]]\n"
     ]
    }
   ],
   "source": [
    "# OMPqr\n",
    "print(\"Running OMPqr..\")\n",
    "t0 = time()\n",
    "x_est = OMPqr(A, b, tol=tol)\n",
    "print('done in %.2fs.' % (time() - t0))\n",
    "\n",
    "Tpred = np.nonzero(x_est)[0]\n",
    "print('Predicted supprt of %d nonzeros = ' % (np.count_nonzero(x_est)))\n",
    "print(Tpred)\n",
    "\n",
    "from sklearn import metrics\n",
    "print(metrics.classification_report(x_true == 0, x_est == 0))\n",
    "print(metrics.confusion_matrix(x_true == 0, x_est == 0))"
   ]
  },
  {
   "cell_type": "code",
   "execution_count": 212,
   "metadata": {},
   "outputs": [
    {
     "name": "stdout",
     "output_type": "stream",
     "text": [
      "Running gOMPqr..\n",
      "done in 0.48s.\n",
      "Predicted supprt of 414 nonzeros = \n",
      "[   8   40   63   65   73  102  117  130  132  134  136  151  161  167  169\n",
      "  175  178  182  185  188  189  195  204  209  212  228  229  237  241  246\n",
      "  250  254  265  294  301  303  308  315  316  319  324  329  334  338  347\n",
      "  349  353  374  392  397  400  408  412  420  434  447  448  449  451  463\n",
      "  474  482  484  486  493  503  516  524  528  538  543  559  565  575  582\n",
      "  585  586  590  596  601  605  616  642  646  650  651  654  663  664  668\n",
      "  669  682  695  704  705  708  716  727  736  742  745  746  749  750  766\n",
      "  767  793  805  810  830  838  846  848  859  879  884  898  901  911  912\n",
      "  916  920  923  925  942  944  948  955  970  975  984  985  991 1004 1006\n",
      " 1044 1059 1066 1085 1091 1115 1119 1124 1138 1140 1144 1159 1161 1171 1175\n",
      " 1176 1219 1228 1242 1246 1270 1288 1295 1309 1315 1324 1326 1341 1347 1348\n",
      " 1356 1367 1372 1383 1387 1403 1412 1425 1453 1461 1467 1471 1477 1478 1482\n",
      " 1485 1487 1493 1499 1505 1547 1569 1576 1601 1607 1610 1634 1669 1671 1674\n",
      " 1690 1698 1700 1735 1747 1749 1750 1759 1762 1772 1779 1783 1786 1799 1800\n",
      " 1810 1812 1854 1857 1859 1873 1876 1894 1896 1905 1913 1918 1928 1931 1932\n",
      " 1985 2001 2015 2020 2024 2030 2031 2049 2055 2060 2066 2079 2087 2088 2090\n",
      " 2091 2098 2123 2135 2145 2150 2155 2162 2163 2167 2210 2215 2228 2245 2254\n",
      " 2272 2297 2299 2302 2324 2336 2345 2379 2397 2398 2399 2403 2410 2433 2434\n",
      " 2437 2441 2443 2456 2463 2467 2475 2476 2496 2518 2523 2538 2541 2552 2554\n",
      " 2594 2601 2603 2606 2647 2652 2655 2667 2668 2674 2676 2686 2693 2694 2705\n",
      " 2731 2737 2746 2753 2775 2789 2799 2804 2822 2824 2827 2832 2845 2849 2890\n",
      " 2902 2915 2918 2925 2927 2928 2969 2973 2977 2985 3027 3050 3096 3149 3169\n",
      " 3192 3208 3215 3219 3228 3245 3267 3268 3269 3284 3285 3288 3296 3300 3304\n",
      " 3305 3321 3340 3365 3370 3389 3393 3418 3425 3457 3458 3463 3468 3479 3496\n",
      " 3501 3538 3544 3565 3570 3580 3586 3587 3601 3606 3609 3615 3640 3651 3655\n",
      " 3660 3665 3668 3674 3683 3686 3689 3698 3701 3719 3720 3723 3731 3749 3761\n",
      " 3775 3782 3783 3787 3791 3801 3814 3842 3856 3867 3869 3871 3891 3896 3899\n",
      " 3911 3914 3918 3932 3938 3944 3963 3968 3987]\n",
      "             precision    recall  f1-score   support\n",
      "\n",
      "      False       0.98      0.81      0.89       500\n",
      "       True       0.97      1.00      0.99      3500\n",
      "\n",
      "avg / total       0.98      0.97      0.97      4000\n",
      "\n",
      "[[ 407   93]\n",
      " [   7 3493]]\n"
     ]
    }
   ],
   "source": [
    "# gOMPqr\n",
    "print(\"Running gOMPqr..\")\n",
    "t0 = time()\n",
    "x_est = gOMPqr(A, b, N=6,tol=tol)\n",
    "print('done in %.2fs.' % (time() - t0))\n",
    "\n",
    "Tpred = np.nonzero(x_est)[0]\n",
    "print('Predicted supprt of %d nonzeros = ' % (np.count_nonzero(x_est)))\n",
    "print(Tpred)\n",
    "\n",
    "from sklearn import metrics\n",
    "print(metrics.classification_report(x_true == 0, x_est == 0))\n",
    "print(metrics.confusion_matrix(x_true == 0, x_est == 0))"
   ]
  },
  {
   "cell_type": "code",
   "execution_count": 213,
   "metadata": {},
   "outputs": [
    {
     "name": "stdout",
     "output_type": "stream",
     "text": [
      "rel. error = 8.81e-02\n"
     ]
    },
    {
     "data": {
      "image/png": "[encoded data removed]",
      "text/plain": [
       "<matplotlib.figure.Figure at 0xb238978>"
      ]
     },
     "metadata": {},
     "output_type": "display_data"
    }
   ],
   "source": [
    "print('rel. error = %.2e' % (linalg.norm(x_est-x_true)/linalg.norm(x_true)))\n",
    "import matplotlib.pyplot as plt\n",
    "plt.figure()\n",
    "plt.plot(np.arange(n), x_true, 'g.', markersize=8, mec='green', label='True')\n",
    "plt.plot(np.arange(n), x_est, 'ro', mfc = 'None', markersize=8, mec='red', mew=1, label='Estimated')\n",
    "plt.legend(loc='upper right', shadow=False)\n",
    "plt.show()"
   ]
  },
  {
   "cell_type": "code",
   "execution_count": null,
   "metadata": {},
   "outputs": [],
   "source": []
  }
 ],
 "metadata": {
  "kernelspec": {
   "display_name": "Python 3",
   "language": "python",
   "name": "python3"
  },
  "language_info": {
   "codemirror_mode": {
    "name": "ipython",
    "version": 3
   },
   "file_extension": ".py",
   "mimetype": "text/x-python",
   "name": "python",
   "nbconvert_exporter": "python",
   "pygments_lexer": "ipython3",
   "version": "3.6.1"
  }
 },
 "nbformat": 4,
 "nbformat_minor": 2
}
