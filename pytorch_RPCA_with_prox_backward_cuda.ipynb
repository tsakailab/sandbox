{
  "nbformat": 4,
  "nbformat_minor": 0,
  "metadata": {
    "colab": {
      "name": "pytorch_RPCA_with_prox_backward_cuda.ipynb",
      "provenance": [],
      "collapsed_sections": [],
      "include_colab_link": true
    },
    "kernelspec": {
      "name": "python3",
      "display_name": "Python 3"
    },
    "accelerator": "GPU"
  },
  "cells": [
    {
      "cell_type": "markdown",
      "metadata": {
        "id": "view-in-github",
        "colab_type": "text"
      },
      "source": [
        "<a href=\"https://colab.research.google.com/github/tsakailab/sandbox/blob/master/pytorch_RPCA_with_prox_backward_cuda.ipynb\" target=\"_parent\"><img src=\"https://colab.research.google.com/assets/colab-badge.svg\" alt=\"Open In Colab\"/></a>"
      ]
    },
    {
      "cell_type": "code",
      "metadata": {
        "id": "XeRc34BqIypb",
        "colab_type": "code",
        "outputId": "c9e790f9-b0e0-495b-f5c3-41be36646fe7",
        "colab": {
          "base_uri": "https://localhost:8080/",
          "height": 72
        }
      },
      "source": [
        "import torch\n",
        "device = torch.device('cpu')\n",
        "if torch.cuda.is_available():\n",
        "    device = torch.device('cuda')\n",
        "    print(torch.cuda.get_device_name(torch.cuda.current_device()))\n",
        "    print(torch.cuda.memory_allocated())\n",
        "    print(torch.cuda.memory_cached())\n",
        "    torch.cuda.empty_cache()"
      ],
      "execution_count": 1,
      "outputs": [
        {
          "output_type": "stream",
          "text": [
            "Tesla P100-PCIE-16GB\n",
            "0\n",
            "0\n"
          ],
          "name": "stdout"
        }
      ]
    },
    {
      "cell_type": "markdown",
      "metadata": {
        "id": "AYlu1Qh9BwbE",
        "colab_type": "text"
      },
      "source": [
        "# L1 and nuclear loss functions with backward by prox (soft thresholding and singular value thresholding)"
      ]
    },
    {
      "cell_type": "code",
      "metadata": {
        "id": "mFnnjF-9XmzR",
        "colab_type": "code",
        "colab": {}
      },
      "source": [
        "soft = lambda z, th: z.sign() * (z.abs() - th).max(torch.tensor(0., device=device))\n",
        "\n",
        "## L1 loss\n",
        "class L1LossFunc(torch.autograd.Function):\n",
        "    @staticmethod\n",
        "    def forward(ctx, input, lw):\n",
        "        ctx.save_for_backward(input, lw)\n",
        "        return torch.sum(torch.abs(input)*lw)\n",
        "\n",
        "    @staticmethod\n",
        "    def backward(ctx, grad_output):\n",
        "        input, lw = ctx.saved_tensors\n",
        "        grad_input = grad_output.clone()\n",
        "        return (input - soft(input, lw)) * grad_input, torch.abs(input) * grad_input\n",
        "\n",
        "class L1Loss(torch.nn.Module):\n",
        "    def __init__(self, lw=torch.tensor(1.0, device=device)):\n",
        "        super(L1Loss, self).__init__()\n",
        "        self.fn = L1LossFunc.apply\n",
        "        self.lw = torch.nn.Parameter(lw, requires_grad=lw.requires_grad)\n",
        "\n",
        "    def forward(self, input):\n",
        "        return self.fn(input, self.lw)\n",
        "\n",
        "\n",
        "## Nuclear loss\n",
        "class NuclearLossFunc(torch.autograd.Function):\n",
        "    @staticmethod\n",
        "    def forward(ctx, input, lw):\n",
        "        u, s, v = torch.svd(input)\n",
        "        ctx.save_for_backward(input, lw, u, s, v)\n",
        "        return torch.sum(s*lw)\n",
        "\n",
        "    @staticmethod\n",
        "    def backward(ctx, grad_output):\n",
        "        input, lw, u, s, v = ctx.saved_tensors\n",
        "        grad_input = grad_output.clone()\n",
        "        svt_input = torch.matmul(torch.matmul(u, torch.diag_embed(soft(s,lw))), torch.transpose(v, -2, -1))\n",
        "        return (input - svt_input) * grad_input, s * grad_input\n",
        "\n",
        "class NuclearLoss(torch.nn.Module):\n",
        "    def __init__(self, lw=torch.tensor(1.0, device=device)):\n",
        "        super(NuclearLoss, self).__init__()\n",
        "        self.fn = NuclearLossFunc.apply\n",
        "        self.lw = torch.nn.Parameter(lw, requires_grad=lw.requires_grad)\n",
        "\n",
        "    def forward(self, input):\n",
        "        return self.fn(input, self.lw)\n"
      ],
      "execution_count": 0,
      "outputs": []
    },
    {
      "cell_type": "markdown",
      "metadata": {
        "id": "tBdaQDCkxz-O",
        "colab_type": "text"
      },
      "source": [
        "# Robust PCA (Low-rank and sparse matrix approximation): $$\\textrm{Minimize}_{(L,S)}\\|L\\|_* + \\lambda_S \\|S\\|_1+\\lambda_F\\|D-(L+S)\\|_F^2$$\n",
        "### Auto differentiation vs. proximal operation\n",
        "\n"
      ]
    },
    {
      "cell_type": "code",
      "metadata": {
        "id": "RCyGhCYiIyrs",
        "colab_type": "code",
        "outputId": "11c10081-675e-466f-ec9c-32ff93da3ec4",
        "colab": {
          "base_uri": "https://localhost:8080/",
          "height": 127
        }
      },
      "source": [
        "# generate a low-rank matrix L and a sparse matrix S\n",
        "from time import time\n",
        "import numpy as np\n",
        "m, n = 10000, 50\n",
        "rnk, nnz = 10, 10000\n",
        "LL = np.random.randn(m,rnk).dot(np.random.randn(rnk,n))\n",
        "SS = np.zeros((m,n))\n",
        "support = np.random.choice(m*n, nnz, replace=False)\n",
        "SS.ravel()[support] = 10.* np.random.randn(support.size)\n",
        "\n",
        "sv = np.linalg.svd(LL, compute_uv=False)\n",
        "print('singular values of L =')\n",
        "print(sv[:min(10,m,n)])\n",
        "print('mean(abs(L)) = %.2e' % (np.mean(np.abs(LL))))\n",
        "print('mean(abs(S)) = %.2e, %d nonzeros in S (%2.1f%%)' % (np.mean(np.abs(SS)),support.size,100.*support.size/(m*n)))\n",
        "\n",
        "DD = LL + SS\n",
        "\n",
        "ll = 1./np.sqrt(max(m,n))\n",
        "print('lambda_S = ', ll)"
      ],
      "execution_count": 3,
      "outputs": [
        {
          "output_type": "stream",
          "text": [
            "singular values of L =\n",
            "[915.12082481 830.9768783  814.34673506 787.31777991 684.50307946\n",
            " 644.61600202 631.21207499 539.67627463 496.6614565  476.72787807]\n",
            "mean(abs(L)) = 2.45e+00\n",
            "mean(abs(S)) = 1.60e-01, 10000 nonzeros in S (2.0%)\n",
            "lambda_S =  0.01\n"
          ],
          "name": "stdout"
        }
      ]
    },
    {
      "cell_type": "markdown",
      "metadata": {
        "id": "hZ4VGGufaeuM",
        "colab_type": "text"
      },
      "source": [
        "## ADMM-type (Inexact ALM) application of backward by prox\n",
        "### less estimation error, can clearly identify the sparse components"
      ]
    },
    {
      "cell_type": "code",
      "metadata": {
        "id": "i7DL53agsrrE",
        "colab_type": "code",
        "outputId": "8fd14c10-ef16-45a4-e965-f17d286933e6",
        "colab": {
          "base_uri": "https://localhost:8080/",
          "height": 1000
        }
      },
      "source": [
        "D = torch.from_numpy(DD.astype(np.float32)).to(device)\n",
        "print('D = \\n', D)\n",
        "\n",
        "le = 1e+6\n",
        "print('lambda_F = ', le)\n",
        "\n",
        "# Using L1Loss with prox\n",
        "nucloss = NuclearLoss()\n",
        "l1loss = L1Loss(lw=torch.tensor(ll))\n",
        "l2loss = lambda x: torch.sum(x**2)\n",
        "\n",
        "L = 0\n",
        "S = 0\n",
        "E = 0\n",
        "Y = 0\n",
        "\n",
        "t = time()\n",
        "num_iter = 400\n",
        "display_step = num_iter // 10\n",
        "history_loss_inexact = []\n",
        "for iter in range(num_iter):\n",
        "    total_loss = 0.\n",
        "\n",
        "    X = (D-S-E+Y).clone().detach().requires_grad_(True)\n",
        "    loss = nucloss(X)\n",
        "    optimizer = torch.optim.SGD([X], lr = 1e0)\n",
        "    optimizer.zero_grad()\n",
        "    loss.backward(retain_graph=True)\n",
        "    optimizer.step()\n",
        "    L = X.detach()\n",
        "\n",
        "    X = (D-L-E+Y).clone().detach().requires_grad_(True)\n",
        "    loss = l1loss(X)\n",
        "    optimizer = torch.optim.SGD([X], lr = 1e0)\n",
        "    optimizer.zero_grad()\n",
        "    loss.backward(retain_graph=True)\n",
        "    optimizer.step()\n",
        "    S = X.detach()\n",
        "\n",
        "    X = ((D-L-S+Y)/ (1+2*le)).clone().detach().requires_grad_(True)\n",
        "    loss = l2loss(X)\n",
        "    optimizer = torch.optim.SGD([X], lr = 1e0)\n",
        "    optimizer.zero_grad()\n",
        "    loss.backward(retain_graph=True)\n",
        "    optimizer.step()\n",
        "    E = X.detach()\n",
        "\n",
        "    Y = Y + (D-L-S-E)\n",
        "\n",
        "    total_loss = nucloss(L) + l1loss(D-L)\n",
        "\n",
        "    history_loss_inexact.append(total_loss)\n",
        "\n",
        "    if (iter+1) % display_step == 0:\n",
        "        print ('[{:3d}/{}]: loss = {:.4f},  '.format(iter+1, num_iter, total_loss))\n",
        "\n",
        "print((time()-t)*1000, ' [ms]')\n",
        "print('L = \\n', LL)\n",
        "print('Estimated L = \\n', L.data)\n",
        "print('MSE of L: ', np.linalg.norm(L.cpu().data.numpy()-LL)/np.linalg.norm(LL)*100, ' [%]')\n",
        "print('Its singular values = \\n', torch.svd(L)[1])\n",
        "print('S = \\n', SS)\n",
        "print('Estimated S = \\n', S.data)\n",
        "print(\"MSE of S: \", np.linalg.norm(S.cpu().data.numpy()-SS)/np.linalg.norm(SS)*100, \" [%]\")\n",
        "\n",
        "import matplotlib.pyplot as plt\n",
        "plt.title(\"$||L||_*+\\lambda||D-L||_1$\")\n",
        "plt.plot(history_loss_inexact, label=\"ADMM-type application backward by prox\")\n",
        "plt.legend()\n",
        "plt.figure()\n",
        "plt.hist(abs(S.cpu().data.numpy().ravel()), bins=100, range=[0,1], log=True, label='entries of S (estimated)')\n",
        "plt.hist(abs(SS.ravel()), bins=100, range=[0,1], log=True, label='entries of S (true)')\n",
        "plt.legend()"
      ],
      "execution_count": 4,
      "outputs": [
        {
          "output_type": "stream",
          "text": [
            "D = \n",
            " tensor([[ 0.0778,  1.9967,  2.5257,  ..., -2.6431,  1.9587,  1.0445],\n",
            "        [ 0.2846,  4.9043,  1.6836,  ...,  0.0712, 10.0185,  2.2327],\n",
            "        [ 0.9717, -2.8738, -2.6559,  ...,  4.7797, -3.2285,  3.4228],\n",
            "        ...,\n",
            "        [ 0.2105, -1.9287, -0.9627,  ..., -0.7004,  1.8635, -0.8568],\n",
            "        [ 2.3281,  3.5614, -1.7199,  ..., -1.1316, -1.2095, -2.3871],\n",
            "        [ 3.9198,  0.2734, -4.2799,  ...,  2.3160, -0.5853,  0.8559]],\n",
            "       device='cuda:0')\n",
            "lambda_F =  1000000.0\n",
            "[ 40/400]: loss = 11537.2168,  \n",
            "[ 80/400]: loss = 10472.7217,  \n",
            "[120/400]: loss = 9453.9629,  \n",
            "[160/400]: loss = 8506.1719,  \n",
            "[200/400]: loss = 7798.9785,  \n",
            "[240/400]: loss = 7667.9219,  \n",
            "[280/400]: loss = 7644.3257,  \n",
            "[320/400]: loss = 7633.4829,  \n",
            "[360/400]: loss = 7627.7930,  \n",
            "[400/400]: loss = 7624.6235,  \n",
            "9863.191843032837  [ms]\n",
            "L = \n",
            " [[ 0.07776086  1.99667033  2.52568892 ... -2.6431012   1.95871215\n",
            "   1.04446189]\n",
            " [ 0.28458009  4.9042761   1.68356404 ...  0.07119743 -1.94421336\n",
            "   2.23267166]\n",
            " [ 0.97165512 -2.87376783 -2.65590045 ...  4.7797031  -3.22853998\n",
            "   3.42277964]\n",
            " ...\n",
            " [ 0.21052909 -1.92871106 -0.96268938 ... -0.70040815  1.86352032\n",
            "  -0.85677049]\n",
            " [ 2.32812204  3.5613758  -1.71985527 ... -1.13159228 -1.20950259\n",
            "  -2.38712846]\n",
            " [ 3.91978776  0.27337328 -4.27991149 ...  2.31600795 -0.58534198\n",
            "   0.85593414]]\n",
            "Estimated L = \n",
            " tensor([[ 0.0777,  1.9967,  2.5257,  ..., -2.6431,  1.9587,  1.0445],\n",
            "        [ 0.2846,  4.9043,  1.6836,  ...,  0.0712, -1.9442,  2.2327],\n",
            "        [ 0.9717, -2.8737, -2.6559,  ...,  4.7797, -3.2285,  3.4228],\n",
            "        ...,\n",
            "        [ 0.2105, -1.9287, -0.9627,  ..., -0.7004,  1.8635, -0.8568],\n",
            "        [ 2.3281,  3.5614, -1.7199,  ..., -1.1316, -1.2095, -2.3871],\n",
            "        [ 3.9198,  0.2734, -4.2799,  ...,  2.3160, -0.5853,  0.8559]],\n",
            "       device='cuda:0')\n",
            "MSE of L:  1.8161898070631204  [%]\n",
            "Its singular values = \n",
            " tensor([9.1281e+02, 8.2869e+02, 8.1272e+02, 7.8495e+02, 6.8262e+02, 6.4298e+02,\n",
            "        6.2911e+02, 5.3768e+02, 4.9496e+02, 4.7482e+02, 1.5108e-04, 1.3838e-04,\n",
            "        1.2297e-04, 1.1047e-04, 9.2750e-05, 7.9356e-05, 6.3271e-05, 5.5832e-05,\n",
            "        5.3054e-05, 5.2360e-05, 5.1127e-05, 4.5805e-05, 4.5805e-05, 4.5805e-05,\n",
            "        4.5805e-05, 4.5805e-05, 4.5805e-05, 4.5805e-05, 4.5805e-05, 4.5805e-05,\n",
            "        4.5805e-05, 4.5805e-05, 4.5805e-05, 4.5805e-05, 4.5805e-05, 4.5805e-05,\n",
            "        4.5805e-05, 4.5805e-05, 4.5805e-05, 4.5805e-05, 4.5805e-05, 4.5805e-05,\n",
            "        4.5805e-05, 4.5805e-05, 4.5805e-05, 4.5805e-05, 4.5805e-05, 4.5376e-05,\n",
            "        2.8998e-05, 1.6880e-05], device='cuda:0')\n",
            "S = \n",
            " [[ 0.          0.          0.         ...  0.          0.\n",
            "   0.        ]\n",
            " [ 0.          0.          0.         ...  0.         11.96275972\n",
            "   0.        ]\n",
            " [ 0.          0.          0.         ...  0.          0.\n",
            "   0.        ]\n",
            " ...\n",
            " [ 0.          0.          0.         ...  0.          0.\n",
            "   0.        ]\n",
            " [ 0.          0.          0.         ...  0.          0.\n",
            "   0.        ]\n",
            " [ 0.          0.          0.         ...  0.          0.\n",
            "   0.        ]]\n",
            "Estimated S = \n",
            " tensor([[ 0.0000,  0.0000,  0.0000,  ...,  0.0000,  0.0000,  0.0000],\n",
            "        [ 0.0000,  0.0000,  0.0000,  ...,  0.0000, 11.9628,  0.0000],\n",
            "        [ 0.0000,  0.0000,  0.0000,  ...,  0.0000,  0.0000,  0.0000],\n",
            "        ...,\n",
            "        [ 0.0000,  0.0000,  0.0000,  ...,  0.0000,  0.0000,  0.0000],\n",
            "        [ 0.0000,  0.0000,  0.0000,  ...,  0.0000,  0.0000,  0.0000],\n",
            "        [ 0.0000,  0.0000,  0.0000,  ...,  0.0000,  0.0000,  0.0000]],\n",
            "       device='cuda:0')\n",
            "MSE of S:  3.9955349446701165  [%]\n"
          ],
          "name": "stdout"
        },
        {
          "output_type": "execute_result",
          "data": {
            "text/plain": [
              "<matplotlib.legend.Legend at 0x7f58fc1938d0>"
            ]
          },
          "metadata": {
            "tags": []
          },
          "execution_count": 4
        },
        {
          "output_type": "display_data",
          "data": {
            "image/png": "[encoded data removed]",
            "text/plain": [
              "<Figure size 432x288 with 1 Axes>"
            ]
          },
          "metadata": {
            "tags": []
          }
        },
        {
          "output_type": "display_data",
          "data": {
            "image/png": "[encoded data removed]",
            "text/plain": [
              "<Figure size 432x288 with 1 Axes>"
            ]
          },
          "metadata": {
            "tags": []
          }
        }
      ]
    },
    {
      "cell_type": "markdown",
      "metadata": {
        "id": "s1VWEwDWJSfT",
        "colab_type": "text"
      },
      "source": [
        "### Robust PCA: $$\\textrm{Minimize}_{L}\\|L\\|_* + \\lambda \\|D-L\\|_1$$\n",
        "### using auto differentiation\n"
      ]
    },
    {
      "cell_type": "markdown",
      "metadata": {
        "id": "ture8ApnbOo5",
        "colab_type": "text"
      },
      "source": [
        "## Alternating-projection-like application of backward by prox\n",
        "### can find subotptimal solution, clearly identify the nonzeros"
      ]
    },
    {
      "cell_type": "code",
      "metadata": {
        "id": "DXDJCrBRwvG1",
        "colab_type": "code",
        "outputId": "df965316-c53f-4822-cbec-b84620551315",
        "colab": {
          "base_uri": "https://localhost:8080/",
          "height": 1000
        }
      },
      "source": [
        "D = torch.from_numpy(DD.astype(np.float32)).to(device)\n",
        "print('D = \\n', D)\n",
        "\n",
        "# Using L1Loss with prox\n",
        "nucloss = NuclearLoss()\n",
        "l1loss = L1Loss(lw=torch.tensor(ll))\n",
        "#X = torch.autograd.Variable(D, requires_grad=True)\n",
        "L = torch.tensor(DD.astype(np.float32), device=device, requires_grad=True)\n",
        "optimizer = torch.optim.SGD([L], lr = 1e0)\n",
        "\n",
        "t = time()\n",
        "num_iter = 400\n",
        "display_step = num_iter // 10\n",
        "history_loss_prox = []\n",
        "for iter in range(num_iter):\n",
        "    total_loss = 0.\n",
        "    \"\"\"\n",
        "    loss = nucloss(L) + l1loss(D - L)\n",
        "    optimizer.zero_grad()\n",
        "    loss.backward(retain_graph=True)\n",
        "    optimizer.step()\n",
        "    total_loss += loss.item()\n",
        "    \"\"\"\n",
        "    loss = nucloss(L)\n",
        "    optimizer.zero_grad()\n",
        "    loss.backward(retain_graph=True)\n",
        "    optimizer.step()\n",
        "    total_loss += loss.item()\n",
        "\n",
        "    loss = l1loss(D - L)\n",
        "    optimizer.zero_grad()\n",
        "    loss.backward(retain_graph=True)\n",
        "    optimizer.step()\n",
        "    total_loss += loss.item()\n",
        "    #\"\"\"\n",
        "\n",
        "    history_loss_prox.append(total_loss)\n",
        "\n",
        "    if (iter+1) % display_step == 0:\n",
        "        print ('[{:3d}/{}]: loss = {:.4f},  '.format(iter+1, num_iter, total_loss))\n",
        "\n",
        "\n",
        "print((time()-t)*1000, ' [ms]')\n",
        "print('L = \\n', LL)\n",
        "print('Estimated L = \\n',L.data)\n",
        "print('MSE of L: ', np.linalg.norm(L.cpu().data.numpy()-LL)/np.linalg.norm(LL)*100, ' [%]')\n",
        "print('Its singular values = \\n', torch.svd(L)[1])\n",
        "print('S = \\n', SS)\n",
        "S = D-L\n",
        "print('Estimated S = \\n', S.data)\n",
        "print(\"MSE of S: \", np.linalg.norm(S.cpu().data.numpy()-SS)/np.linalg.norm(SS)*100, \" [%]\")\n",
        "\n",
        "import matplotlib.pyplot as plt\n",
        "plt.title(\"$||L||_*+\\lambda||D-L||_1$\")\n",
        "plt.plot(history_loss_inexact, label=\"ADMM-type application backward by prox\")\n",
        "#plt.plot(history_loss_prox, label=\"RPCA with backward by prox\")\n",
        "plt.plot(history_loss_prox, label=\"Alternating-projection-like application of backward by prox\")\n",
        "plt.legend()\n",
        "plt.figure()\n",
        "plt.hist(abs(S.cpu().data.numpy().ravel()), bins=100, range=[0,1], log=True, label='entries of S (estimated)')\n",
        "plt.hist(abs(SS.ravel()), bins=100, range=[0,1], log=True, label='entries of S (true)')\n",
        "plt.legend()"
      ],
      "execution_count": 5,
      "outputs": [
        {
          "output_type": "stream",
          "text": [
            "D = \n",
            " tensor([[ 0.0778,  1.9967,  2.5257,  ..., -2.6431,  1.9587,  1.0445],\n",
            "        [ 0.2846,  4.9043,  1.6836,  ...,  0.0712, 10.0185,  2.2327],\n",
            "        [ 0.9717, -2.8738, -2.6559,  ...,  4.7797, -3.2285,  3.4228],\n",
            "        ...,\n",
            "        [ 0.2105, -1.9287, -0.9627,  ..., -0.7004,  1.8635, -0.8568],\n",
            "        [ 2.3281,  3.5614, -1.7199,  ..., -1.1316, -1.2095, -2.3871],\n",
            "        [ 3.9198,  0.2734, -4.2799,  ...,  2.3160, -0.5853,  0.8559]],\n",
            "       device='cuda:0')\n",
            "[ 40/400]: loss = 11589.5213,  \n",
            "[ 80/400]: loss = 10524.5037,  \n",
            "[120/400]: loss = 9505.1547,  \n",
            "[160/400]: loss = 8556.5188,  \n",
            "[200/400]: loss = 7840.7762,  \n",
            "[240/400]: loss = 7700.0211,  \n",
            "[280/400]: loss = 7673.9948,  \n",
            "[320/400]: loss = 7661.9396,  \n",
            "[360/400]: loss = 7655.4977,  \n",
            "[400/400]: loss = 7651.8382,  \n",
            "5281.09335899353  [ms]\n",
            "L = \n",
            " [[ 0.07776086  1.99667033  2.52568892 ... -2.6431012   1.95871215\n",
            "   1.04446189]\n",
            " [ 0.28458009  4.9042761   1.68356404 ...  0.07119743 -1.94421336\n",
            "   2.23267166]\n",
            " [ 0.97165512 -2.87376783 -2.65590045 ...  4.7797031  -3.22853998\n",
            "   3.42277964]\n",
            " ...\n",
            " [ 0.21052909 -1.92871106 -0.96268938 ... -0.70040815  1.86352032\n",
            "  -0.85677049]\n",
            " [ 2.32812204  3.5613758  -1.71985527 ... -1.13159228 -1.20950259\n",
            "  -2.38712846]\n",
            " [ 3.91978776  0.27337328 -4.27991149 ...  2.31600795 -0.58534198\n",
            "   0.85593414]]\n",
            "Estimated L = \n",
            " tensor([[ 0.0778,  1.9967,  2.5257,  ..., -2.6431,  1.9587,  1.0445],\n",
            "        [ 0.2846,  4.9043,  1.6836,  ...,  0.0712, -1.9292,  2.2327],\n",
            "        [ 0.9717, -2.8738, -2.6559,  ...,  4.7797, -3.2285,  3.4228],\n",
            "        ...,\n",
            "        [ 0.2105, -1.9287, -0.9627,  ..., -0.7004,  1.8635, -0.8568],\n",
            "        [ 2.3281,  3.5614, -1.7199,  ..., -1.1316, -1.2095, -2.3871],\n",
            "        [ 3.9198,  0.2734, -4.2799,  ...,  2.3160, -0.5853,  0.8559]],\n",
            "       device='cuda:0')\n",
            "MSE of L:  1.8184012570962729  [%]\n",
            "Its singular values = \n",
            " tensor([9.1267e+02, 8.2853e+02, 8.1260e+02, 7.8476e+02, 6.8251e+02, 6.4286e+02,\n",
            "        6.2894e+02, 5.3752e+02, 4.9479e+02, 4.7468e+02, 3.6427e-01, 3.3083e-01,\n",
            "        3.0790e-01, 3.0011e-01, 2.9565e-01, 2.8529e-01, 2.7713e-01, 2.7452e-01,\n",
            "        2.7189e-01, 2.6749e-01, 2.6282e-01, 2.6002e-01, 2.5654e-01, 2.5433e-01,\n",
            "        2.4890e-01, 2.4545e-01, 2.4384e-01, 2.4233e-01, 2.3936e-01, 2.3457e-01,\n",
            "        2.3377e-01, 2.3161e-01, 2.2945e-01, 2.2633e-01, 2.2387e-01, 2.2238e-01,\n",
            "        2.2095e-01, 2.1852e-01, 2.1739e-01, 2.1618e-01, 2.1400e-01, 2.1207e-01,\n",
            "        2.1103e-01, 2.0590e-01, 2.0489e-01, 2.0344e-01, 2.0101e-01, 2.0068e-01,\n",
            "        1.9375e-01, 1.8948e-01], device='cuda:0', grad_fn=<SvdBackward>)\n",
            "S = \n",
            " [[ 0.          0.          0.         ...  0.          0.\n",
            "   0.        ]\n",
            " [ 0.          0.          0.         ...  0.         11.96275972\n",
            "   0.        ]\n",
            " [ 0.          0.          0.         ...  0.          0.\n",
            "   0.        ]\n",
            " ...\n",
            " [ 0.          0.          0.         ...  0.          0.\n",
            "   0.        ]\n",
            " [ 0.          0.          0.         ...  0.          0.\n",
            "   0.        ]\n",
            " [ 0.          0.          0.         ...  0.          0.\n",
            "   0.        ]]\n",
            "Estimated S = \n",
            " tensor([[ 0.0000,  0.0000,  0.0000,  ...,  0.0000,  0.0000,  0.0000],\n",
            "        [ 0.0000,  0.0000,  0.0000,  ...,  0.0000, 11.9478,  0.0000],\n",
            "        [ 0.0000,  0.0000,  0.0000,  ...,  0.0000,  0.0000,  0.0000],\n",
            "        ...,\n",
            "        [ 0.0000,  0.0000,  0.0000,  ...,  0.0000,  0.0000,  0.0000],\n",
            "        [ 0.0000,  0.0000,  0.0000,  ...,  0.0000,  0.0000,  0.0000],\n",
            "        [ 0.0000,  0.0000,  0.0000,  ...,  0.0000,  0.0000,  0.0000]],\n",
            "       device='cuda:0')\n",
            "MSE of S:  4.000400781759728  [%]\n"
          ],
          "name": "stdout"
        },
        {
          "output_type": "execute_result",
          "data": {
            "text/plain": [
              "<matplotlib.legend.Legend at 0x7f58f0e87ef0>"
            ]
          },
          "metadata": {
            "tags": []
          },
          "execution_count": 5
        },
        {
          "output_type": "display_data",
          "data": {
            "image/png": "[encoded data removed]",
            "text/plain": [
              "<Figure size 432x288 with 1 Axes>"
            ]
          },
          "metadata": {
            "tags": []
          }
        },
        {
          "output_type": "display_data",
          "data": {
            "image/png": "[encoded data removed]",
            "text/plain": [
              "<Figure size 432x288 with 1 Axes>"
            ]
          },
          "metadata": {
            "tags": []
          }
        }
      ]
    },
    {
      "cell_type": "markdown",
      "metadata": {
        "id": "Xj4TKEGVcclT",
        "colab_type": "text"
      },
      "source": [
        "## RPCA with alternating gradient descent using autograd\n",
        "### cannot find sparsify the solution due to the nondifferentiability (see the estimated S), although decrease the loss faster"
      ]
    },
    {
      "cell_type": "code",
      "metadata": {
        "id": "qXBPlWY2KC26",
        "colab_type": "code",
        "outputId": "173e1aeb-2ad2-499e-b5d7-18f7e5faa8c5",
        "colab": {
          "base_uri": "https://localhost:8080/",
          "height": 1000
        }
      },
      "source": [
        "D = torch.from_numpy(DD.astype(np.float32)).to(device)\n",
        "print('D = \\n', D)\n",
        "\n",
        "ll = 1./np.sqrt(max(m,n))\n",
        "print('lambda = \\n', ll)\n",
        "\n",
        "nucloss = lambda x: torch.sum(torch.svd(x)[1])\n",
        "l1loss = lambda x: torch.sum(torch.abs(x)*ll)\n",
        "\n",
        "L = torch.tensor(DD.astype(np.float32), device=device, requires_grad=True)\n",
        "optimizer = torch.optim.Adam([L], lr = 1e0)\n",
        "\n",
        "t = time()\n",
        "num_iter = 400\n",
        "display_step = num_iter // 10\n",
        "history_loss = []\n",
        "for iter in range(num_iter):\n",
        "    total_loss = 0.\n",
        "    \"\"\"\n",
        "    loss = nucloss(L) + l1loss(D-L)\n",
        "    optimizer.zero_grad()\n",
        "    loss.backward(retain_graph=True)\n",
        "    optimizer.step()\n",
        "    total_loss += loss.item()\n",
        "    \"\"\"\n",
        "    loss = nucloss(L)\n",
        "    optimizer.zero_grad()\n",
        "    loss.backward(retain_graph=True)\n",
        "    optimizer.step()\n",
        "    total_loss += loss.item()\n",
        "\n",
        "    loss = l1loss(D-L)\n",
        "    optimizer.zero_grad()\n",
        "    loss.backward(retain_graph=True)\n",
        "    optimizer.step()\n",
        "    total_loss += loss.item()\n",
        "    #\"\"\"\n",
        "\n",
        "    #total_loss = nucloss(L) + l1loss(D-L)\n",
        "    history_loss.append(total_loss)\n",
        "\n",
        "    if (iter+1) % display_step == 0:\n",
        "        print ('[{:3d}/{}]: loss = {:.4f},  '.format(iter+1, num_iter, total_loss))\n",
        "\n",
        "\n",
        "print((time()-t)*1000, ' [ms]')\n",
        "print('L = \\n', LL)\n",
        "print('Estimated L = \\n', L.data)\n",
        "print('MSE of L: ', np.linalg.norm(L.cpu().data.numpy()-LL)/np.linalg.norm(LL)*100, ' [%]')\n",
        "print('Its singular values = \\n', torch.svd(L)[1])\n",
        "print('S = \\n', SS)\n",
        "S = D-L\n",
        "print('Estimated S = \\n', S.data)\n",
        "print(\"MSE of S: \", np.linalg.norm(S.cpu().data.numpy()-SS)/np.linalg.norm(SS)*100, \" [%]\")\n",
        "\n",
        "import matplotlib.pyplot as plt\n",
        "plt.title(\"$||L||_*+\\lambda||D-L||_1$\")\n",
        "plt.plot(history_loss_inexact, label=\"ADMM-type application backward by prox\")\n",
        "#plt.plot(history_loss_prox, label=\"RPCA with backward by prox\")\n",
        "plt.plot(history_loss_prox, label=\"Alternating-projection-like application of backward by prox\")\n",
        "plt.plot(history_loss, label=\"RPCA by alternating gradient descent using autograd\")\n",
        "plt.legend()\n",
        "plt.figure()\n",
        "plt.hist(abs(S.cpu().data.numpy().ravel()), bins=100, range=[0,1], log=True, label='entries of S (estimated)')\n",
        "plt.hist(abs(SS.ravel()), bins=100, range=[0,1], log=True, label='entries of S (true)')\n",
        "plt.legend()"
      ],
      "execution_count": 6,
      "outputs": [
        {
          "output_type": "stream",
          "text": [
            "D = \n",
            " tensor([[ 0.0778,  1.9967,  2.5257,  ..., -2.6431,  1.9587,  1.0445],\n",
            "        [ 0.2846,  4.9043,  1.6836,  ...,  0.0712, 10.0185,  2.2327],\n",
            "        [ 0.9717, -2.8738, -2.6559,  ...,  4.7797, -3.2285,  3.4228],\n",
            "        ...,\n",
            "        [ 0.2105, -1.9287, -0.9627,  ..., -0.7004,  1.8635, -0.8568],\n",
            "        [ 2.3281,  3.5614, -1.7199,  ..., -1.1316, -1.2095, -2.3871],\n",
            "        [ 3.9198,  0.2734, -4.2799,  ...,  2.3160, -0.5853,  0.8559]],\n",
            "       device='cuda:0')\n",
            "lambda = \n",
            " 0.01\n",
            "[ 40/400]: loss = 8645.5162,  \n",
            "[ 80/400]: loss = 8603.9731,  \n",
            "[120/400]: loss = 8599.1628,  \n",
            "[160/400]: loss = 8595.9373,  \n",
            "[200/400]: loss = 8594.1865,  \n",
            "[240/400]: loss = 8593.4170,  \n",
            "[280/400]: loss = 8592.1361,  \n",
            "[320/400]: loss = 8590.2649,  \n",
            "[360/400]: loss = 8593.0312,  \n",
            "[400/400]: loss = 8592.4468,  \n",
            "5315.85693359375  [ms]\n",
            "L = \n",
            " [[ 0.07776086  1.99667033  2.52568892 ... -2.6431012   1.95871215\n",
            "   1.04446189]\n",
            " [ 0.28458009  4.9042761   1.68356404 ...  0.07119743 -1.94421336\n",
            "   2.23267166]\n",
            " [ 0.97165512 -2.87376783 -2.65590045 ...  4.7797031  -3.22853998\n",
            "   3.42277964]\n",
            " ...\n",
            " [ 0.21052909 -1.92871106 -0.96268938 ... -0.70040815  1.86352032\n",
            "  -0.85677049]\n",
            " [ 2.32812204  3.5613758  -1.71985527 ... -1.13159228 -1.20950259\n",
            "  -2.38712846]\n",
            " [ 3.91978776  0.27337328 -4.27991149 ...  2.31600795 -0.58534198\n",
            "   0.85593414]]\n",
            "Estimated L = \n",
            " tensor([[ 0.2210,  1.9417,  2.4955,  ..., -2.3678,  1.9914,  0.9958],\n",
            "        [ 0.2963,  4.9294,  1.8496,  ..., -0.2081, -1.5397,  2.2679],\n",
            "        [ 1.0409, -2.7258, -2.5653,  ...,  4.8547, -3.1766,  3.6048],\n",
            "        ...,\n",
            "        [ 0.4907, -1.7168, -1.1440,  ..., -0.6423,  1.8762, -1.1027],\n",
            "        [ 2.2138,  3.6275, -1.6668,  ..., -1.1506, -1.3521, -2.2601],\n",
            "        [ 4.1024,  0.1618, -4.0206,  ...,  2.2634, -0.7062,  1.0740]],\n",
            "       device='cuda:0')\n",
            "MSE of L:  5.423586848561468  [%]\n",
            "Its singular values = \n",
            " tensor([896.7045, 811.5876, 796.7043, 767.4321, 666.6487, 627.1566, 611.5062,\n",
            "        520.2761, 477.6280, 457.8565,  14.7599,  14.5588,  14.0779,  13.8382,\n",
            "         13.8002,  13.6805,  13.4974,  13.4369,  13.3990,  13.2889,  13.2446,\n",
            "         13.0630,  13.0418,  12.9830,  12.9058,  12.8345,  12.7692,  12.6526,\n",
            "         12.6123,  12.5833,  12.5415,  12.4375,  12.4271,  12.3968,  12.2905,\n",
            "         12.2625,  12.2283,  12.1759,  12.1428,  12.1118,  12.0372,  11.9444,\n",
            "         11.9253,  11.8915,  11.8467,  11.8148,  11.7748,  11.7175,  11.6682,\n",
            "         11.5501], device='cuda:0', grad_fn=<SvdBackward>)\n",
            "S = \n",
            " [[ 0.          0.          0.         ...  0.          0.\n",
            "   0.        ]\n",
            " [ 0.          0.          0.         ...  0.         11.96275972\n",
            "   0.        ]\n",
            " [ 0.          0.          0.         ...  0.          0.\n",
            "   0.        ]\n",
            " ...\n",
            " [ 0.          0.          0.         ...  0.          0.\n",
            "   0.        ]\n",
            " [ 0.          0.          0.         ...  0.          0.\n",
            "   0.        ]\n",
            " [ 0.          0.          0.         ...  0.          0.\n",
            "   0.        ]]\n",
            "Estimated S = \n",
            " tensor([[-0.1432,  0.0550,  0.0301,  ..., -0.2753, -0.0327,  0.0486],\n",
            "        [-0.0118, -0.0251, -0.1661,  ...,  0.2793, 11.5582, -0.0352],\n",
            "        [-0.0693, -0.1480, -0.0906,  ..., -0.0750, -0.0519, -0.1820],\n",
            "        ...,\n",
            "        [-0.2802, -0.2119,  0.1814,  ..., -0.0581, -0.0127,  0.2459],\n",
            "        [ 0.1143, -0.0662, -0.0531,  ...,  0.0190,  0.1426, -0.1270],\n",
            "        [-0.1826,  0.1116, -0.2593,  ...,  0.0526,  0.1209, -0.2180]],\n",
            "       device='cuda:0')\n",
            "MSE of S:  11.931646642478329  [%]\n"
          ],
          "name": "stdout"
        },
        {
          "output_type": "execute_result",
          "data": {
            "text/plain": [
              "<matplotlib.legend.Legend at 0x7f58f15fecf8>"
            ]
          },
          "metadata": {
            "tags": []
          },
          "execution_count": 6
        },
        {
          "output_type": "display_data",
          "data": {
            "image/png": "[encoded data removed]",
            "text/plain": [
              "<Figure size 432x288 with 1 Axes>"
            ]
          },
          "metadata": {
            "tags": []
          }
        },
        {
          "output_type": "display_data",
          "data": {
            "image/png": "[encoded data removed]",
            "text/plain": [
              "<Figure size 432x288 with 1 Axes>"
            ]
          },
          "metadata": {
            "tags": []
          }
        }
      ]
    },
    {
      "cell_type": "markdown",
      "metadata": {
        "id": "8IayKVy6dTEs",
        "colab_type": "text"
      },
      "source": [
        "## RPCA by gradient descent using autograd\n",
        "### straightforward use of autograd for RPCA cannot sparsify the solution (see the estimated S)."
      ]
    },
    {
      "cell_type": "code",
      "metadata": {
        "id": "k2SFbYs0-juB",
        "colab_type": "code",
        "colab": {
          "base_uri": "https://localhost:8080/",
          "height": 1000
        },
        "outputId": "ae45196a-5877-4fed-cc91-f70d4ed1cd11"
      },
      "source": [
        "D = torch.from_numpy(DD.astype(np.float32)).to(device)\n",
        "print('D = \\n', D)\n",
        "\n",
        "ll = 1./np.sqrt(max(m,n))\n",
        "print('lambda = \\n', ll)\n",
        "le = 1e+6\n",
        "\n",
        "# Using sum of abs with autogradient\n",
        "nucloss = lambda x: torch.sum(torch.svd(x)[1])\n",
        "l1loss = lambda x: torch.sum(torch.abs(x)*ll)\n",
        "l2loss = lambda x: torch.sum(x**2)\n",
        "\n",
        "L = torch.tensor(DD.astype(np.float32), device=device, requires_grad=True)\n",
        "S = torch.zeros_like(D, device=device, requires_grad=True)\n",
        "\n",
        "t = time()\n",
        "num_iter = 400\n",
        "display_step = num_iter // 10\n",
        "history_loss = []\n",
        "for iter in range(num_iter):\n",
        "    total_loss = 0.\n",
        "    #\"\"\"\n",
        "    #optimizer = torch.optim.SGD([L,S], lr = 1e0)\n",
        "    #loss = nucloss(L) + l1loss(S) + l2loss((D-L-S)/(1+2*le))\n",
        "\n",
        "    #optimizer = torch.optim.SGD([L], lr = 1e0)   # SGD works better than Adam\n",
        "    optimizer = torch.optim.Adam([L], lr = 1e-1)  # Adam would disappoint you\n",
        "    loss = nucloss(L) + l1loss(D-L)\n",
        "    optimizer.zero_grad()\n",
        "    loss.backward(retain_graph=True)\n",
        "    optimizer.step()\n",
        "    total_loss += loss.item()\n",
        "    \"\"\"\n",
        "    optimizer = torch.optim.SGD([L], lr = 1e-1)\n",
        "    loss = nucloss(L)\n",
        "    optimizer.zero_grad()\n",
        "    loss.backward(retain_graph=True)\n",
        "    optimizer.step()\n",
        "    total_loss += loss.item()\n",
        "\n",
        "    optimizer = torch.optim.SGD([S], lr = 1e-1)\n",
        "    loss = l1loss(S)\n",
        "    optimizer.zero_grad()\n",
        "    loss.backward(retain_graph=True)\n",
        "    optimizer.step()\n",
        "    total_loss += loss.item()\n",
        "\n",
        "    optimizer = torch.optim.SGD([L,S], lr = 1e-1)\n",
        "    loss = l2loss(D-L-S)\n",
        "    optimizer.zero_grad()\n",
        "    loss.backward(retain_graph=True)\n",
        "    optimizer.step()\n",
        "    total_loss += loss.item()\n",
        "    \"\"\"\n",
        "\n",
        "    #total_loss = nucloss(L) + l1loss(D-L)\n",
        "    history_loss.append(total_loss)\n",
        "\n",
        "    if (iter+1) % display_step == 0:\n",
        "        print ('[{:3d}/{}]: loss = {:.4f},  '.format(iter+1, num_iter, total_loss))\n",
        "\n",
        "\n",
        "print((time()-t)*1000, ' [ms]')\n",
        "print('L = \\n', LL)\n",
        "print('Estimated L = \\n', L.data)\n",
        "print('MSE of L: ', np.linalg.norm(L.cpu().data.numpy()-LL)/np.linalg.norm(LL)*100, ' [%]')\n",
        "print('Its singular values = \\n', torch.svd(L)[1])\n",
        "print('S = \\n', SS)\n",
        "S = D-L\n",
        "print('Estimated S = \\n', S.data)\n",
        "print(\"MSE of S: \", np.linalg.norm(S.cpu().data.numpy()-SS)/np.linalg.norm(SS)*100, \" [%]\")\n",
        "\n",
        "import matplotlib.pyplot as plt\n",
        "plt.title(\"$||L||_*+\\lambda||D-L||_1$\")\n",
        "plt.plot(history_loss_inexact, label=\"ADMM-type application backward by prox\")\n",
        "#plt.plot(history_loss_prox, label=\"RPCA with backward by prox\")\n",
        "plt.plot(history_loss_prox, label=\"Alternating-projection-like application of backward by prox\")\n",
        "plt.plot(history_loss, label=\"RPCA by gradient descent using autograd\")\n",
        "plt.legend()\n",
        "plt.figure()\n",
        "plt.hist(abs(S.cpu().data.numpy().ravel()), bins=100, range=[0,1], log=True, label='entries of S (estimated)')\n",
        "plt.hist(abs(SS.ravel()), bins=100, range=[0,1], log=True, label='entries of S (true)')\n",
        "plt.legend()"
      ],
      "execution_count": 7,
      "outputs": [
        {
          "output_type": "stream",
          "text": [
            "D = \n",
            " tensor([[ 0.0778,  1.9967,  2.5257,  ..., -2.6431,  1.9587,  1.0445],\n",
            "        [ 0.2846,  4.9043,  1.6836,  ...,  0.0712, 10.0185,  2.2327],\n",
            "        [ 0.9717, -2.8738, -2.6559,  ...,  4.7797, -3.2285,  3.4228],\n",
            "        ...,\n",
            "        [ 0.2105, -1.9287, -0.9627,  ..., -0.7004,  1.8635, -0.8568],\n",
            "        [ 2.3281,  3.5614, -1.7199,  ..., -1.1316, -1.2095, -2.3871],\n",
            "        [ 3.9198,  0.2734, -4.2799,  ...,  2.3160, -0.5853,  0.8559]],\n",
            "       device='cuda:0')\n",
            "lambda = \n",
            " 0.01\n",
            "[ 40/400]: loss = 11555.1006,  \n",
            "[ 80/400]: loss = 10330.0137,  \n",
            "[120/400]: loss = 9393.5264,  \n",
            "[160/400]: loss = 8803.8340,  \n",
            "[200/400]: loss = 8515.2031,  \n",
            "[240/400]: loss = 8397.5820,  \n",
            "[280/400]: loss = 8356.4453,  \n",
            "[320/400]: loss = 8344.7178,  \n",
            "[360/400]: loss = 8341.3906,  \n",
            "[400/400]: loss = 8339.6758,  \n",
            "4965.646743774414  [ms]\n",
            "L = \n",
            " [[ 0.07776086  1.99667033  2.52568892 ... -2.6431012   1.95871215\n",
            "   1.04446189]\n",
            " [ 0.28458009  4.9042761   1.68356404 ...  0.07119743 -1.94421336\n",
            "   2.23267166]\n",
            " [ 0.97165512 -2.87376783 -2.65590045 ...  4.7797031  -3.22853998\n",
            "   3.42277964]\n",
            " ...\n",
            " [ 0.21052909 -1.92871106 -0.96268938 ... -0.70040815  1.86352032\n",
            "  -0.85677049]\n",
            " [ 2.32812204  3.5613758  -1.71985527 ... -1.13159228 -1.20950259\n",
            "  -2.38712846]\n",
            " [ 3.91978776  0.27337328 -4.27991149 ...  2.31600795 -0.58534198\n",
            "   0.85593414]]\n",
            "Estimated L = \n",
            " tensor([[ 0.0778,  1.9967,  2.5254,  ..., -2.6431,  1.9587,  1.0445],\n",
            "        [ 0.2846,  4.9044,  1.6836,  ...,  0.0729, -1.7815,  2.2327],\n",
            "        [ 0.9717, -2.6736, -2.6559,  ...,  4.7797, -3.2286,  3.4229],\n",
            "        ...,\n",
            "        [ 0.2105, -1.9287, -0.9627,  ..., -0.7004,  1.8635, -0.8567],\n",
            "        [ 2.3281,  3.5614, -1.7199,  ..., -1.1316, -1.2095, -2.3871],\n",
            "        [ 3.9198,  0.2734, -4.2799,  ...,  2.3160, -0.5854,  0.8559]],\n",
            "       device='cuda:0')\n",
            "MSE of L:  2.926829544672582  [%]\n",
            "Its singular values = \n",
            " tensor([905.5234, 820.5009, 806.1973, 776.9786, 676.9503, 637.2420, 621.8451,\n",
            "        531.2755, 488.5452, 469.3340,   6.4074,   5.6552,   5.5993,   5.5263,\n",
            "          5.2898,   5.1842,   5.1292,   4.9267,   4.9070,   4.8322,   4.6912,\n",
            "          4.5032,   4.4799,   4.4279,   4.3021,   4.2520,   4.2395,   4.1249,\n",
            "          4.0363,   3.9557,   3.9187,   3.8836,   3.8047,   3.7346,   3.6997,\n",
            "          3.6649,   3.6498,   3.6109,   3.5656,   3.5401,   3.4500,   3.4195,\n",
            "          3.3908,   3.3532,   3.2900,   3.2843,   3.1864,   3.1035,   3.0436,\n",
            "          2.9568], device='cuda:0', grad_fn=<SvdBackward>)\n",
            "S = \n",
            " [[ 0.          0.          0.         ...  0.          0.\n",
            "   0.        ]\n",
            " [ 0.          0.          0.         ...  0.         11.96275972\n",
            "   0.        ]\n",
            " [ 0.          0.          0.         ...  0.          0.\n",
            "   0.        ]\n",
            " ...\n",
            " [ 0.          0.          0.         ...  0.          0.\n",
            "   0.        ]\n",
            " [ 0.          0.          0.         ...  0.          0.\n",
            "   0.        ]\n",
            " [ 0.          0.          0.         ...  0.          0.\n",
            "   0.        ]]\n",
            "Estimated S = \n",
            " tensor([[-3.9935e-06, -1.1921e-07,  2.7275e-04,  ...,  2.3842e-07,\n",
            "          0.0000e+00,  1.1921e-07],\n",
            "        [ 9.9838e-06, -1.0109e-04,  8.4639e-06,  ..., -1.6714e-03,\n",
            "          1.1800e+01, -4.3392e-05],\n",
            "        [ 2.3842e-07, -2.0019e-01,  1.5020e-05,  ...,  2.4796e-05,\n",
            "          7.5817e-05, -1.2541e-04],\n",
            "        ...,\n",
            "        [-8.7321e-06, -3.5763e-07,  4.1723e-06,  ...,  5.9009e-06,\n",
            "         -2.0266e-06, -2.8372e-05],\n",
            "        [ 1.5497e-05,  4.0531e-06,  8.3566e-05,  ...,  7.1526e-07,\n",
            "          1.6570e-05, -9.5367e-06],\n",
            "        [ 2.3842e-07,  6.6459e-06,  4.7684e-07,  ...,  7.1526e-07,\n",
            "          2.2471e-05,  9.4771e-06]], device='cuda:0')\n",
            "MSE of S:  6.438893132163777  [%]\n"
          ],
          "name": "stdout"
        },
        {
          "output_type": "execute_result",
          "data": {
            "text/plain": [
              "<matplotlib.legend.Legend at 0x7f58f073d160>"
            ]
          },
          "metadata": {
            "tags": []
          },
          "execution_count": 7
        },
        {
          "output_type": "display_data",
          "data": {
            "image/png": "[encoded data removed]",
            "text/plain": [
              "<Figure size 432x288 with 1 Axes>"
            ]
          },
          "metadata": {
            "tags": []
          }
        },
        {
          "output_type": "display_data",
          "data": {
            "image/png": "[encoded data removed]",
            "text/plain": [
              "<Figure size 432x288 with 1 Axes>"
            ]
          },
          "metadata": {
            "tags": []
          }
        }
      ]
    },
    {
      "cell_type": "code",
      "metadata": {
        "id": "62cfHX20Fm6z",
        "colab_type": "code",
        "colab": {}
      },
      "source": [
        ""
      ],
      "execution_count": 0,
      "outputs": []
    }
  ]
}