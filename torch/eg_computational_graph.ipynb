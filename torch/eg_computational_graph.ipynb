{
  "nbformat": 4,
  "nbformat_minor": 0,
  "metadata": {
    "colab": {
      "provenance": [],
      "authorship_tag": "ABX9TyM+Jv/cHJ8gEUMcEsHfv3bA",
      "include_colab_link": true
    },
    "kernelspec": {
      "name": "python3",
      "display_name": "Python 3"
    }
  },
  "cells": [
    {
      "cell_type": "markdown",
      "metadata": {
        "id": "view-in-github",
        "colab_type": "text"
      },
      "source": [
        "<a href=\"https://colab.research.google.com/github/tsakailab/sandbox/blob/master/torch/eg_computational_graph.ipynb\" target=\"_parent\"><img src=\"https://colab.research.google.com/assets/colab-badge.svg\" alt=\"Open In Colab\"/></a>"
      ]
    },
    {
      "cell_type": "code",
      "source": [
        "import torch\n",
        "\n",
        "x = torch.tensor(2.0, requires_grad=True)\n",
        "y = torch.tensor(3.0, requires_grad=True)\n",
        "f = x*y+(x+y)\n",
        "print(f)\n",
        "\n",
        "df = torch.autograd.grad(f, [x,y])\n",
        "print(df)"
      ],
      "metadata": {
        "id": "4rY9E2tEM9pv"
      },
      "execution_count": null,
      "outputs": []
    },
    {
      "cell_type": "code",
      "source": [
        "del x, y, f"
      ],
      "metadata": {
        "id": "2c-Y61l7KF4s"
      },
      "execution_count": null,
      "outputs": []
    },
    {
      "cell_type": "code",
      "metadata": {
        "id": "N1G6pp-rAWfx"
      },
      "source": [
        "import torch\n",
        "\n",
        "x = torch.tensor(2.0, requires_grad=True)\n",
        "y = torch.tensor(3.0, requires_grad=True)\n",
        "f = x*y+(x+y)\n",
        "\n",
        "f.backward()\n",
        "print(x.grad, y.grad)\n",
        "\n",
        "f = x*y+(x+y)\n",
        "f.backward()\n",
        "print(x.grad, y.grad)"
      ],
      "execution_count": null,
      "outputs": []
    },
    {
      "cell_type": "code",
      "source": [],
      "metadata": {
        "id": "hS9z38m_V30I"
      },
      "execution_count": null,
      "outputs": []
    }
  ]
}