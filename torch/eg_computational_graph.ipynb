{
  "nbformat": 4,
  "nbformat_minor": 0,
  "metadata": {
    "colab": {
      "provenance": [],
      "authorship_tag": "ABX9TyM6CO8n/4IrtfAS9eQrqi8S",
      "include_colab_link": true
    },
    "kernelspec": {
      "name": "python3",
      "display_name": "Python 3"
    }
  },
  "cells": [
    {
      "cell_type": "markdown",
      "metadata": {
        "id": "view-in-github",
        "colab_type": "text"
      },
      "source": [
        "<a href=\"https://colab.research.google.com/github/tsakailab/sandbox/blob/master/torch/eg_computational_graph.ipynb\" target=\"_parent\"><img src=\"https://colab.research.google.com/assets/colab-badge.svg\" alt=\"Open In Colab\"/></a>"
      ]
    },
    {
      "cell_type": "code",
      "source": [
        "import torch\n",
        "\n",
        "x = torch.tensor(2.0, requires_grad=True)\n",
        "y = torch.tensor(3.0, requires_grad=True)\n",
        "f = x*y+(x+y)\n",
        "\n",
        "df = torch.autograd.grad(f, [x,y])\n",
        "print(df)"
      ],
      "metadata": {
        "colab": {
          "base_uri": "https://localhost:8080/"
        },
        "id": "4rY9E2tEM9pv",
        "outputId": "935d82b1-5666-42d1-f104-ecb91799891e"
      },
      "execution_count": 1,
      "outputs": [
        {
          "output_type": "stream",
          "name": "stdout",
          "text": [
            "(tensor(4.), tensor(3.))\n"
          ]
        }
      ]
    },
    {
      "cell_type": "code",
      "source": [
        "del x, y, f"
      ],
      "metadata": {
        "id": "2c-Y61l7KF4s"
      },
      "execution_count": 2,
      "outputs": []
    },
    {
      "cell_type": "code",
      "metadata": {
        "id": "N1G6pp-rAWfx",
        "colab": {
          "base_uri": "https://localhost:8080/"
        },
        "outputId": "5961b6f0-b856-40a5-e0b4-54e1bb3f1147"
      },
      "source": [
        "import torch\n",
        "\n",
        "x = torch.tensor(2.0, requires_grad=True)\n",
        "y = torch.tensor(3.0, requires_grad=True)\n",
        "f = x*y+(x+y)\n",
        "\n",
        "f.backward()\n",
        "print(x.grad, y.grad)\n",
        "\n",
        "f = x*y+(x+y)\n",
        "f.backward()\n",
        "print(x.grad, y.grad)"
      ],
      "execution_count": 3,
      "outputs": [
        {
          "output_type": "stream",
          "name": "stdout",
          "text": [
            "tensor(4.) tensor(3.)\n",
            "tensor(8.) tensor(6.)\n"
          ]
        }
      ]
    },
    {
      "cell_type": "code",
      "source": [],
      "metadata": {
        "id": "hS9z38m_V30I"
      },
      "execution_count": null,
      "outputs": []
    }
  ]
}