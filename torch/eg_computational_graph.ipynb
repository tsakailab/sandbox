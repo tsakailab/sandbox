{
  "nbformat": 4,
  "nbformat_minor": 0,
  "metadata": {
    "colab": {
      "provenance": [],
      "authorship_tag": "ABX9TyMi68D42BlWUHKNyN9r4SF1",
      "include_colab_link": true
    },
    "kernelspec": {
      "name": "python3",
      "display_name": "Python 3"
    }
  },
  "cells": [
    {
      "cell_type": "markdown",
      "metadata": {
        "id": "view-in-github",
        "colab_type": "text"
      },
      "source": [
        "<a href=\"https://colab.research.google.com/github/tsakailab/sandbox/blob/master/torch/eg_computational_graph.ipynb\" target=\"_parent\"><img src=\"https://colab.research.google.com/assets/colab-badge.svg\" alt=\"Open In Colab\"/></a>"
      ]
    },
    {
      "cell_type": "code",
      "source": [
        "import torch\n",
        "\n",
        "x = torch.tensor(2.0, requires_grad=True)\n",
        "y = torch.tensor(3.0, requires_grad=True)\n",
        "z = x*y+(x+y)\n",
        "\n",
        "dz = torch.autograd.grad(z, [x,y])\n",
        "print(dz)"
      ],
      "metadata": {
        "colab": {
          "base_uri": "https://localhost:8080/"
        },
        "id": "4rY9E2tEM9pv",
        "outputId": "3e83570a-f2df-4de1-a894-3d1be9ab52da"
      },
      "execution_count": null,
      "outputs": [
        {
          "output_type": "stream",
          "name": "stdout",
          "text": [
            "(tensor(4.), tensor(3.))\n",
            "(tensor(4.), tensor(3.))\n"
          ]
        }
      ]
    },
    {
      "cell_type": "code",
      "source": [
        "del x, y, z"
      ],
      "metadata": {
        "id": "2c-Y61l7KF4s"
      },
      "execution_count": null,
      "outputs": []
    },
    {
      "cell_type": "code",
      "metadata": {
        "id": "N1G6pp-rAWfx",
        "colab": {
          "base_uri": "https://localhost:8080/"
        },
        "outputId": "1cfe5880-ab9c-4989-f266-9cac3937b452"
      },
      "source": [
        "import torch\n",
        "\n",
        "x = torch.tensor(2.0, requires_grad=True)\n",
        "y = torch.tensor(3.0, requires_grad=True)\n",
        "z = x*y+(x+y)\n",
        "\n",
        "z.backward()\n",
        "print(x.grad, y.grad)\n",
        "\n",
        "z = x*y+(x+y)\n",
        "z.backward()\n",
        "print(x.grad, y.grad)"
      ],
      "execution_count": null,
      "outputs": [
        {
          "output_type": "stream",
          "name": "stdout",
          "text": [
            "tensor(4.) tensor(3.)\n",
            "tensor(8.) tensor(6.)\n"
          ]
        }
      ]
    },
    {
      "cell_type": "code",
      "source": [],
      "metadata": {
        "id": "hS9z38m_V30I"
      },
      "execution_count": null,
      "outputs": []
    }
  ]
}