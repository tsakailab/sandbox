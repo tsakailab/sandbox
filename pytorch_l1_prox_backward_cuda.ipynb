{
  "nbformat": 4,
  "nbformat_minor": 0,
  "metadata": {
    "colab": {
      "name": "pytorch_l1_prox_backward_cuda.ipynb",
      "provenance": [],
      "collapsed_sections": [],
      "include_colab_link": true
    },
    "kernelspec": {
      "name": "python3",
      "display_name": "Python 3"
    },
    "accelerator": "GPU"
  },
  "cells": [
    {
      "cell_type": "markdown",
      "metadata": {
        "id": "view-in-github",
        "colab_type": "text"
      },
      "source": [
        "<a href=\"https://colab.research.google.com/github/tsakailab/sandbox/blob/master/pytorch_l1_prox_backward_cuda.ipynb\" target=\"_parent\"><img src=\"https://colab.research.google.com/assets/colab-badge.svg\" alt=\"Open In Colab\"/></a>"
      ]
    },
    {
      "cell_type": "code",
      "metadata": {
        "id": "XeRc34BqIypb",
        "colab_type": "code",
        "outputId": "601e7d75-26ad-4d71-925f-99dc9e3d4891",
        "colab": {
          "base_uri": "https://localhost:8080/",
          "height": 70
        }
      },
      "source": [
        "import torch\n",
        "device = torch.device('cpu')\n",
        "if torch.cuda.is_available():\n",
        "    device = torch.device('cuda')\n",
        "    print(torch.cuda.get_device_name(torch.cuda.current_device()))\n",
        "    print(torch.cuda.memory_allocated())\n",
        "    print(torch.cuda.memory_cached())\n",
        "    torch.cuda.empty_cache()"
      ],
      "execution_count": 1,
      "outputs": [
        {
          "output_type": "stream",
          "text": [
            "Tesla T4\n",
            "0\n",
            "0\n"
          ],
          "name": "stdout"
        }
      ]
    },
    {
      "cell_type": "markdown",
      "metadata": {
        "id": "AYlu1Qh9BwbE",
        "colab_type": "text"
      },
      "source": [
        "# L1Loss backward with prox (soft thresholding)"
      ]
    },
    {
      "cell_type": "code",
      "metadata": {
        "id": "ey3hsv7ciBfJ",
        "colab_type": "code",
        "colab": {}
      },
      "source": [
        "soft = lambda z, th: z.sign() * (z.abs() - th).max(torch.tensor(0, device=device).float())\n",
        "\n",
        "class L1LossFunc(torch.autograd.Function):\n",
        "    @staticmethod\n",
        "    def forward(ctx, input, lw):\n",
        "        ctx.save_for_backward(input, lw)\n",
        "        return torch.sum(torch.abs(input)*lw)\n",
        "\n",
        "    @staticmethod\n",
        "    def backward(ctx, grad_output):\n",
        "        input, lw = ctx.saved_tensors\n",
        "        grad_input = grad_output.clone()\n",
        "        return (input - soft(input, lw)) * grad_input, torch.abs(input) * grad_input\n",
        "\n",
        "\n",
        "class L1Loss(torch.nn.Module):\n",
        "    def __init__(self, lw=1.):\n",
        "        super(L1Loss, self).__init__()\n",
        "        self.fn = L1LossFunc.apply\n",
        "        self.lw = torch.nn.Parameter(lw, requires_grad=lw.requires_grad)\n",
        "\n",
        "    def forward(self, input):\n",
        "        return self.fn(input, self.lw)\n"
      ],
      "execution_count": 0,
      "outputs": []
    },
    {
      "cell_type": "markdown",
      "metadata": {
        "id": "6IX_l2erCs5p",
        "colab_type": "text"
      },
      "source": [
        "# Demonstration 1: observe gradients\n",
        "### Auto differentiation vs. proximal operation"
      ]
    },
    {
      "cell_type": "code",
      "metadata": {
        "id": "RCyGhCYiIyrs",
        "colab_type": "code",
        "colab": {}
      },
      "source": [
        "torch.cuda.empty_cache()\n",
        "#D = torch.autograd.Variable(torch.randn(32,40000,60, device=device), requires_grad=True)\n",
        "D = torch.autograd.Variable(torch.randn(2,3,5, device=device), requires_grad=True)\n",
        "Dr = torch.autograd.Variable(D, requires_grad=True)"
      ],
      "execution_count": 0,
      "outputs": []
    },
    {
      "cell_type": "code",
      "metadata": {
        "id": "rWauWWDE00PZ",
        "colab_type": "code",
        "outputId": "12ff2d06-fbe2-4afa-a240-1e9a2ba49c95",
        "colab": {
          "base_uri": "https://localhost:8080/",
          "height": 140
        }
      },
      "source": [
        "ll = 0.5 * torch.ones(3,5, device=device)\n",
        "print('lambda = \\n', ll)\n",
        "#lw = ll.clone()\n",
        "lw = torch.autograd.Variable(ll, requires_grad=True)\n",
        "lwr = torch.autograd.Variable(ll, requires_grad=True)\n",
        "\n",
        "# l1 norm and its backprop\n",
        "from time import time\n",
        "t0 = time()\n",
        "\n",
        "l1loss = L1Loss(lw=lw)\n",
        "loss = l1loss.forward(D)\n",
        "loss.backward(retain_graph=True)\n",
        "print('done in %.2fms' % ((time() - t0)*1000))\n",
        "print('l1 loss = ', loss.item())\n",
        "\n",
        "lw_sum_abs = torch.sum(torch.abs(lwr*Dr))\n",
        "lw_sum_abs.backward(retain_graph=True)\n",
        "print('sum of abs = ', lw_sum_abs.item())"
      ],
      "execution_count": 4,
      "outputs": [
        {
          "output_type": "stream",
          "text": [
            "lambda = \n",
            " tensor([[0.5000, 0.5000, 0.5000, 0.5000, 0.5000],\n",
            "        [0.5000, 0.5000, 0.5000, 0.5000, 0.5000],\n",
            "        [0.5000, 0.5000, 0.5000, 0.5000, 0.5000]], device='cuda:0')\n",
            "done in 1.85ms\n",
            "l1 loss =  12.025116920471191\n",
            "sum of abs =  12.025116920471191\n"
          ],
          "name": "stdout"
        }
      ]
    },
    {
      "cell_type": "markdown",
      "metadata": {
        "id": "XUsY6NjhZ8AD",
        "colab_type": "text"
      },
      "source": [
        "### Prox of L1 norm provides gradients that cut down (sparsify) the data entries by the weight lambda while the autorgad cannot.  Imagine the gradient descent (D$-$D.grad).\n"
      ]
    },
    {
      "cell_type": "code",
      "metadata": {
        "id": "RXUYVFEQ96PA",
        "colab_type": "code",
        "outputId": "ab6da878-b1ae-466c-e9ff-1015f41cacb2",
        "colab": {
          "base_uri": "https://localhost:8080/",
          "height": 844
        }
      },
      "source": [
        "print('data = \\n', D)\n",
        "print('\\n Gradient of l1loss w.r.t. data by prox = \\n', D.grad)\n",
        "print('\\n Gradient of l1loss w.r.t. lambda = \\n', l1loss.lw.grad)\n",
        "print('\\n data = \\n', Dr)\n",
        "print('\\n Gradient of sum of abs w.r.t. data by autograd = \\n', Dr.grad)\n",
        "print('\\n Gradient of  sum of abs w.r.t. lambda = \\n', lwr.grad)"
      ],
      "execution_count": 5,
      "outputs": [
        {
          "output_type": "stream",
          "text": [
            "data = \n",
            " tensor([[[ 1.1353e+00,  1.3282e+00, -5.8815e-01,  5.7495e-01,  1.3895e-01],\n",
            "         [-1.7246e-02,  1.3266e+00, -1.6707e+00,  1.9355e+00,  8.0975e-01],\n",
            "         [-1.1734e+00,  8.0983e-01,  9.6734e-01, -7.7033e-01,  7.9404e-04]],\n",
            "\n",
            "        [[-1.4144e+00,  6.2223e-01,  1.5243e-01, -4.4070e-01, -8.2730e-01],\n",
            "         [-1.5615e+00,  1.0896e-02,  2.7142e-01,  1.4219e+00, -1.3293e+00],\n",
            "         [ 9.6895e-01,  8.0851e-01, -4.8593e-01, -4.2631e-01, -6.1392e-02]]],\n",
            "       device='cuda:0', requires_grad=True)\n",
            "\n",
            " Gradient of l1loss w.r.t. data by prox = \n",
            " tensor([[[ 0.5000,  0.5000, -0.5000,  0.5000,  0.1389],\n",
            "         [-0.0172,  0.5000, -0.5000,  0.5000,  0.5000],\n",
            "         [-0.5000,  0.5000,  0.5000, -0.5000,  0.0008]],\n",
            "\n",
            "        [[-0.5000,  0.5000,  0.1524, -0.4407, -0.5000],\n",
            "         [-0.5000,  0.0109,  0.2714,  0.5000, -0.5000],\n",
            "         [ 0.5000,  0.5000, -0.4859, -0.4263, -0.0614]]], device='cuda:0')\n",
            "\n",
            " Gradient of l1loss w.r.t. lambda = \n",
            " tensor([[2.5497, 1.9504, 0.7406, 1.0157, 0.9663],\n",
            "        [1.5788, 1.3375, 1.9421, 3.3574, 2.1391],\n",
            "        [2.1424, 1.6183, 1.4533, 1.1966, 0.0622]], device='cuda:0')\n",
            "\n",
            " data = \n",
            " tensor([[[ 1.1353e+00,  1.3282e+00, -5.8815e-01,  5.7495e-01,  1.3895e-01],\n",
            "         [-1.7246e-02,  1.3266e+00, -1.6707e+00,  1.9355e+00,  8.0975e-01],\n",
            "         [-1.1734e+00,  8.0983e-01,  9.6734e-01, -7.7033e-01,  7.9404e-04]],\n",
            "\n",
            "        [[-1.4144e+00,  6.2223e-01,  1.5243e-01, -4.4070e-01, -8.2730e-01],\n",
            "         [-1.5615e+00,  1.0896e-02,  2.7142e-01,  1.4219e+00, -1.3293e+00],\n",
            "         [ 9.6895e-01,  8.0851e-01, -4.8593e-01, -4.2631e-01, -6.1392e-02]]],\n",
            "       device='cuda:0', requires_grad=True)\n",
            "\n",
            " Gradient of sum of abs w.r.t. data by autograd = \n",
            " tensor([[[ 0.5000,  0.5000, -0.5000,  0.5000,  0.5000],\n",
            "         [-0.5000,  0.5000, -0.5000,  0.5000,  0.5000],\n",
            "         [-0.5000,  0.5000,  0.5000, -0.5000,  0.5000]],\n",
            "\n",
            "        [[-0.5000,  0.5000,  0.5000, -0.5000, -0.5000],\n",
            "         [-0.5000,  0.5000,  0.5000,  0.5000, -0.5000],\n",
            "         [ 0.5000,  0.5000, -0.5000, -0.5000, -0.5000]]], device='cuda:0')\n",
            "\n",
            " Gradient of  sum of abs w.r.t. lambda = \n",
            " tensor([[2.5497, 1.9504, 0.7406, 1.0157, 0.9663],\n",
            "        [1.5788, 1.3375, 1.9421, 3.3574, 2.1391],\n",
            "        [2.1424, 1.6183, 1.4533, 1.1966, 0.0622]], device='cuda:0')\n"
          ],
          "name": "stdout"
        }
      ]
    },
    {
      "cell_type": "markdown",
      "metadata": {
        "id": "tBdaQDCkxz-O",
        "colab_type": "text"
      },
      "source": [
        "# Demonstration 2: minimize l1 loss $$\\mbox{Minimize}_X\\|X-D\\|_1$$\n",
        "###Note that L1Loss is not differentiable at boundaries of orthants, so augograd cannot find the minimizer."
      ]
    },
    {
      "cell_type": "code",
      "metadata": {
        "id": "BK74UI5ryYGP",
        "colab_type": "code",
        "colab": {
          "base_uri": "https://localhost:8080/",
          "height": 158
        },
        "outputId": "5fdafd09-7bae-433e-e9d0-0f7d54c9c3aa"
      },
      "source": [
        "D = torch.randn(2,3,5, device=device)\n",
        "print('D = \\n', D)"
      ],
      "execution_count": 6,
      "outputs": [
        {
          "output_type": "stream",
          "text": [
            "D = \n",
            " tensor([[[ 1.0594,  0.0580, -0.5124, -1.2920, -0.4186],\n",
            "         [ 1.9617, -0.0399, -1.3206, -1.9506,  0.5958],\n",
            "         [ 0.5408,  0.5340,  0.6775,  1.4387,  0.2808]],\n",
            "\n",
            "        [[-0.4491, -0.6998, -0.4308,  0.7390, -0.1533],\n",
            "         [ 0.1365, -0.7922, -1.2757, -0.6266, -0.1521],\n",
            "         [ 0.5217,  1.4146,  2.2457, -2.2109,  0.7326]]], device='cuda:0')\n"
          ],
          "name": "stdout"
        }
      ]
    },
    {
      "cell_type": "code",
      "metadata": {
        "id": "DXDJCrBRwvG1",
        "colab_type": "code",
        "colab": {
          "base_uri": "https://localhost:8080/",
          "height": 793
        },
        "outputId": "d6ade363-0411-44ef-d7c5-4dc3b38fc92f"
      },
      "source": [
        "#ll = 0.5 * torch.ones(3,5, device=device)\n",
        "ll = 0.5\n",
        "print('lambda = \\n', ll)\n",
        "\n",
        "# Using L1Loss with prox\n",
        "l1loss = L1Loss(lw=torch.tensor(ll))\n",
        "X = torch.autograd.Variable(torch.randn(D.shape, device=device), requires_grad=True)\n",
        "optimizer = torch.optim.SGD([X], lr = 1e0)\n",
        "\n",
        "t0 = time()\n",
        "num_iter = 10\n",
        "display_step = 1\n",
        "history_loss_prox = []\n",
        "for iter in range(num_iter):\n",
        "    loss = l1loss(X - D)\n",
        "    optimizer.zero_grad()\n",
        "    loss.backward(retain_graph=True)\n",
        "    optimizer.step()\n",
        "    history_loss_prox.append(loss.item())\n",
        "\n",
        "    if (iter+1) % display_step == 0:\n",
        "        print ('[{:3d}/{}]: loss = {:.4f},  '.format(iter+1, num_iter, loss.item()))\n",
        "\n",
        "print('D = \\n', D)\n",
        "print('X = \\n', X)\n",
        "import matplotlib.pyplot as plt\n",
        "plt.plot(history_loss_prox)"
      ],
      "execution_count": 7,
      "outputs": [
        {
          "output_type": "stream",
          "text": [
            "lambda = \n",
            " 0.5\n",
            "[  1/10]: loss = 19.8762,  \n",
            "[  2/10]: loss = 13.1127,  \n",
            "[  3/10]: loss = 7.8693,  \n",
            "[  4/10]: loss = 4.2028,  \n",
            "[  5/10]: loss = 1.7742,  \n",
            "[  6/10]: loss = 0.8528,  \n",
            "[  7/10]: loss = 0.3528,  \n",
            "[  8/10]: loss = 0.0857,  \n",
            "[  9/10]: loss = 0.0000,  \n",
            "[ 10/10]: loss = 0.0000,  \n",
            "D = \n",
            " tensor([[[ 1.0594,  0.0580, -0.5124, -1.2920, -0.4186],\n",
            "         [ 1.9617, -0.0399, -1.3206, -1.9506,  0.5958],\n",
            "         [ 0.5408,  0.5340,  0.6775,  1.4387,  0.2808]],\n",
            "\n",
            "        [[-0.4491, -0.6998, -0.4308,  0.7390, -0.1533],\n",
            "         [ 0.1365, -0.7922, -1.2757, -0.6266, -0.1521],\n",
            "         [ 0.5217,  1.4146,  2.2457, -2.2109,  0.7326]]], device='cuda:0')\n",
            "X = \n",
            " tensor([[[ 1.0594,  0.0580, -0.5124, -1.2920, -0.4186],\n",
            "         [ 1.9617, -0.0399, -1.3206, -1.9506,  0.5958],\n",
            "         [ 0.5408,  0.5340,  0.6775,  1.4387,  0.2808]],\n",
            "\n",
            "        [[-0.4491, -0.6998, -0.4308,  0.7390, -0.1533],\n",
            "         [ 0.1365, -0.7922, -1.2757, -0.6266, -0.1521],\n",
            "         [ 0.5217,  1.4146,  2.2457, -2.2109,  0.7326]]], device='cuda:0',\n",
            "       requires_grad=True)\n"
          ],
          "name": "stdout"
        },
        {
          "output_type": "execute_result",
          "data": {
            "text/plain": [
              "[<matplotlib.lines.Line2D at 0x7f948a327828>]"
            ]
          },
          "metadata": {
            "tags": []
          },
          "execution_count": 7
        },
        {
          "output_type": "display_data",
          "data": {
            "image/png": "[encoded data removed]",
            "text/plain": [
              "<Figure size 432x288 with 1 Axes>"
            ]
          },
          "metadata": {
            "tags": []
          }
        }
      ]
    },
    {
      "cell_type": "code",
      "metadata": {
        "id": "qXBPlWY2KC26",
        "colab_type": "code",
        "colab": {
          "base_uri": "https://localhost:8080/",
          "height": 1000
        },
        "outputId": "912c4147-6b90-47f6-f173-cbcc8b1015b4"
      },
      "source": [
        "#ll = 0.5 * torch.ones(3,5, device=device)\n",
        "ll = 0.5\n",
        "print('lambda = \\n', ll)\n",
        "\n",
        "# Using sum of abs with autogradient\n",
        "l1loss = lambda x: torch.sum(torch.abs(x)*ll)\n",
        "X = torch.autograd.Variable(torch.randn(D.shape, device=device), requires_grad=True)\n",
        "optimizer = torch.optim.SGD([X], lr = 1e0)\n",
        "\n",
        "t0 = time()\n",
        "num_iter = 30\n",
        "display_step = 1\n",
        "history_loss = []\n",
        "for iter in range(num_iter):\n",
        "    loss = l1loss(X - D)\n",
        "    optimizer.zero_grad()\n",
        "    loss.backward(retain_graph=True)\n",
        "    optimizer.step()\n",
        "    history_loss.append(loss.item())\n",
        "\n",
        "    if (iter+1) % display_step == 0:\n",
        "        print ('[{:3d}/{}]: loss = {:.4f},  '.format(iter+1, num_iter, loss.item()))\n",
        "\n",
        "print('D = \\n', D)\n",
        "print('X = \\n', X)\n",
        "import matplotlib.pyplot as plt\n",
        "plt.figure()\n",
        "plt.plot(history_loss_prox)\n",
        "plt.plot(history_loss)"
      ],
      "execution_count": 8,
      "outputs": [
        {
          "output_type": "stream",
          "text": [
            "lambda = \n",
            " 0.5\n",
            "[  1/30]: loss = 20.9042,  \n",
            "[  2/30]: loss = 14.2056,  \n",
            "[  3/30]: loss = 9.0540,  \n",
            "[  4/30]: loss = 6.4542,  \n",
            "[  5/30]: loss = 4.6621,  \n",
            "[  6/30]: loss = 5.0203,  \n",
            "[  7/30]: loss = 3.6621,  \n",
            "[  8/30]: loss = 4.4098,  \n",
            "[  9/30]: loss = 3.1621,  \n",
            "[ 10/30]: loss = 4.3379,  \n",
            "[ 11/30]: loss = 3.1621,  \n",
            "[ 12/30]: loss = 4.3379,  \n",
            "[ 13/30]: loss = 3.1621,  \n",
            "[ 14/30]: loss = 4.3379,  \n",
            "[ 15/30]: loss = 3.1621,  \n",
            "[ 16/30]: loss = 4.3379,  \n",
            "[ 17/30]: loss = 3.1621,  \n",
            "[ 18/30]: loss = 4.3379,  \n",
            "[ 19/30]: loss = 3.1621,  \n",
            "[ 20/30]: loss = 4.3379,  \n",
            "[ 21/30]: loss = 3.1621,  \n",
            "[ 22/30]: loss = 4.3379,  \n",
            "[ 23/30]: loss = 3.1621,  \n",
            "[ 24/30]: loss = 4.3379,  \n",
            "[ 25/30]: loss = 3.1621,  \n",
            "[ 26/30]: loss = 4.3379,  \n",
            "[ 27/30]: loss = 3.1621,  \n",
            "[ 28/30]: loss = 4.3379,  \n",
            "[ 29/30]: loss = 3.1621,  \n",
            "[ 30/30]: loss = 4.3379,  \n",
            "D = \n",
            " tensor([[[ 1.0594,  0.0580, -0.5124, -1.2920, -0.4186],\n",
            "         [ 1.9617, -0.0399, -1.3206, -1.9506,  0.5958],\n",
            "         [ 0.5408,  0.5340,  0.6775,  1.4387,  0.2808]],\n",
            "\n",
            "        [[-0.4491, -0.6998, -0.4308,  0.7390, -0.1533],\n",
            "         [ 0.1365, -0.7922, -1.2757, -0.6266, -0.1521],\n",
            "         [ 0.5217,  1.4146,  2.2457, -2.2109,  0.7326]]], device='cuda:0')\n",
            "X = \n",
            " tensor([[[ 0.6993, -0.4216, -0.5564, -0.9996, -0.1438],\n",
            "         [ 1.9125, -0.3671, -1.2101, -1.5168,  0.6306],\n",
            "         [ 0.5308,  0.6815,  1.0817,  1.6854,  0.3714]],\n",
            "\n",
            "        [[-0.3042, -1.0668, -0.2756,  1.0901, -0.3136],\n",
            "         [ 0.5660, -0.9242, -1.1027, -0.9880, -0.0038],\n",
            "         [ 0.3127,  1.2833,  2.3836, -2.1390,  0.7785]]], device='cuda:0',\n",
            "       requires_grad=True)\n"
          ],
          "name": "stdout"
        },
        {
          "output_type": "execute_result",
          "data": {
            "text/plain": [
              "[<matplotlib.lines.Line2D at 0x7f948a08aeb8>]"
            ]
          },
          "metadata": {
            "tags": []
          },
          "execution_count": 8
        },
        {
          "output_type": "display_data",
          "data": {
            "image/png": "[encoded data removed]",
            "text/plain": [
              "<Figure size 432x288 with 1 Axes>"
            ]
          },
          "metadata": {
            "tags": []
          }
        }
      ]
    },
    {
      "cell_type": "code",
      "metadata": {
        "id": "jup6iCVgOeDK",
        "colab_type": "code",
        "colab": {}
      },
      "source": [
        ""
      ],
      "execution_count": 0,
      "outputs": []
    }
  ]
}