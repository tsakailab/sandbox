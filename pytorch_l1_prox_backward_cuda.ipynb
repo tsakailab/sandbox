{
  "nbformat": 4,
  "nbformat_minor": 0,
  "metadata": {
    "colab": {
      "name": "pytorch_l1_prox_backward_cuda.ipynb",
      "provenance": [],
      "collapsed_sections": [],
      "include_colab_link": true
    },
    "kernelspec": {
      "name": "python3",
      "display_name": "Python 3"
    },
    "accelerator": "GPU"
  },
  "cells": [
    {
      "cell_type": "markdown",
      "metadata": {
        "id": "view-in-github",
        "colab_type": "text"
      },
      "source": [
        "<a href=\"https://colab.research.google.com/github/tsakailab/sandbox/blob/master/pytorch_l1_prox_backward_cuda.ipynb\" target=\"_parent\"><img src=\"https://colab.research.google.com/assets/colab-badge.svg\" alt=\"Open In Colab\"/></a>"
      ]
    },
    {
      "cell_type": "code",
      "metadata": {
        "id": "XeRc34BqIypb",
        "colab_type": "code",
        "outputId": "4c0654f3-e1bb-4f21-c278-80f98ead353e",
        "colab": {
          "base_uri": "https://localhost:8080/",
          "height": 72
        }
      },
      "source": [
        "import torch\n",
        "device = torch.device('cpu')\n",
        "if torch.cuda.is_available():\n",
        "    device = torch.device('cuda')\n",
        "    print(torch.cuda.get_device_name(torch.cuda.current_device()))\n",
        "    print(torch.cuda.memory_allocated())\n",
        "    print(torch.cuda.memory_cached())\n",
        "    torch.cuda.empty_cache()"
      ],
      "execution_count": 1,
      "outputs": [
        {
          "output_type": "stream",
          "text": [
            "Tesla K80\n",
            "0\n",
            "0\n"
          ],
          "name": "stdout"
        }
      ]
    },
    {
      "cell_type": "markdown",
      "metadata": {
        "id": "AYlu1Qh9BwbE",
        "colab_type": "text"
      },
      "source": [
        "# L1Loss backward with prox (soft thresholding)"
      ]
    },
    {
      "cell_type": "code",
      "metadata": {
        "id": "ey3hsv7ciBfJ",
        "colab_type": "code",
        "colab": {}
      },
      "source": [
        "soft = lambda z, th: z.sign() * (z.abs() - th).max(torch.tensor(0., device=device))\n",
        "\n",
        "class L1LossFunc(torch.autograd.Function):\n",
        "    @staticmethod\n",
        "    def forward(ctx, input, lw):\n",
        "        ctx.save_for_backward(input, lw)\n",
        "        return torch.sum(torch.abs(input)*lw)\n",
        "\n",
        "    @staticmethod\n",
        "    def backward(ctx, grad_output):\n",
        "        input, lw = ctx.saved_tensors\n",
        "        grad_input = grad_output.clone()\n",
        "        return (input - soft(input, lw)) * grad_input, torch.abs(input) * grad_input\n",
        "\n",
        "\n",
        "class L1Loss(torch.nn.Module):\n",
        "    def __init__(self, lw=torch.tensor(1.0, device=device)):\n",
        "        super(L1Loss, self).__init__()\n",
        "        self.fn = L1LossFunc.apply\n",
        "        self.lw = torch.nn.Parameter(lw, requires_grad=lw.requires_grad)\n",
        "\n",
        "    def forward(self, input):\n",
        "        return self.fn(input, self.lw)\n"
      ],
      "execution_count": 0,
      "outputs": []
    },
    {
      "cell_type": "markdown",
      "metadata": {
        "id": "6IX_l2erCs5p",
        "colab_type": "text"
      },
      "source": [
        "# Demonstration 1: observe gradients\n",
        "### Auto differentiation vs. proximal operation"
      ]
    },
    {
      "cell_type": "code",
      "metadata": {
        "id": "RCyGhCYiIyrs",
        "colab_type": "code",
        "colab": {}
      },
      "source": [
        "torch.cuda.empty_cache()\n",
        "#D = torch.autograd.Variable(torch.randn(32,40000,60, device=device), requires_grad=True)\n",
        "D = torch.autograd.Variable(torch.randn(2,3,5, device=device), requires_grad=True)\n",
        "Dr = torch.autograd.Variable(D, requires_grad=True)"
      ],
      "execution_count": 0,
      "outputs": []
    },
    {
      "cell_type": "code",
      "metadata": {
        "id": "rWauWWDE00PZ",
        "colab_type": "code",
        "outputId": "345b6010-5ae4-4acd-9ade-ebf2830808fa",
        "colab": {
          "base_uri": "https://localhost:8080/",
          "height": 108
        }
      },
      "source": [
        "#ll = 0.5 * torch.ones(3,5, device=device)\n",
        "ll = torch.tensor(0.5, device=device)\n",
        "print('lambda = \\n', ll)\n",
        "#lw = ll.clone()\n",
        "lw = torch.autograd.Variable(ll, requires_grad=True)\n",
        "lwr = torch.autograd.Variable(ll, requires_grad=True)\n",
        "\n",
        "# l1 norm and its backprop\n",
        "from time import time\n",
        "t0 = time()\n",
        "\n",
        "l1loss = L1Loss(lw=lw)\n",
        "loss = l1loss.forward(D)\n",
        "loss.backward(retain_graph=True)\n",
        "print('done in %.2fms' % ((time() - t0)*1000))\n",
        "print('l1 loss = ', loss.item())\n",
        "\n",
        "lw_sum_abs = torch.sum(torch.abs(lwr*Dr))\n",
        "lw_sum_abs.backward(retain_graph=True)\n",
        "print('sum of abs = ', lw_sum_abs.item())"
      ],
      "execution_count": 4,
      "outputs": [
        {
          "output_type": "stream",
          "text": [
            "lambda = \n",
            " tensor(0.5000, device='cuda:0')\n",
            "done in 2.03ms\n",
            "l1 loss =  12.216056823730469\n",
            "sum of abs =  12.216056823730469\n"
          ],
          "name": "stdout"
        }
      ]
    },
    {
      "cell_type": "markdown",
      "metadata": {
        "id": "XUsY6NjhZ8AD",
        "colab_type": "text"
      },
      "source": [
        "### Prox of L1 norm provides gradients that cut down (sparsify) the data entries by the weight lambda while the autorgad cannot.  Imagine the gradient descent (D$-$D.grad).\n"
      ]
    },
    {
      "cell_type": "code",
      "metadata": {
        "id": "RXUYVFEQ96PA",
        "colab_type": "code",
        "outputId": "5eba1431-2ef6-4937-b489-8b33d72fc972",
        "colab": {
          "base_uri": "https://localhost:8080/",
          "height": 803
        }
      },
      "source": [
        "print('data = \\n', D)\n",
        "print('\\n Gradient of l1loss w.r.t. data by prox = \\n', D.grad)\n",
        "print('\\n Gradient of l1loss w.r.t. lambda = \\n', l1loss.lw.grad)\n",
        "print('\\n data = \\n', Dr)\n",
        "print('\\n Gradient of sum of abs w.r.t. data by autograd = \\n', Dr.grad)\n",
        "print('\\n Gradient of  sum of abs w.r.t. lambda = \\n', lwr.grad)"
      ],
      "execution_count": 5,
      "outputs": [
        {
          "output_type": "stream",
          "text": [
            "data = \n",
            " tensor([[[ 0.8798,  0.3375,  1.4160,  0.0515, -1.5166],\n",
            "         [-0.2043, -0.9554, -0.9130, -0.4103, -1.1863],\n",
            "         [-0.2003,  0.1033,  0.5579,  0.9536, -0.1383]],\n",
            "\n",
            "        [[ 0.6580, -1.3272,  0.4761,  1.2141, -0.5073],\n",
            "         [ 2.5621, -0.9250, -1.0919,  0.2060, -1.5793],\n",
            "         [-1.2244,  0.3846,  0.2536, -1.9909,  0.2071]]], device='cuda:0',\n",
            "       requires_grad=True)\n",
            "\n",
            " Gradient of l1loss w.r.t. data by prox = \n",
            " tensor([[[ 0.5000,  0.3375,  0.5000,  0.0515, -0.5000],\n",
            "         [-0.2043, -0.5000, -0.5000, -0.4103, -0.5000],\n",
            "         [-0.2003,  0.1033,  0.5000,  0.5000, -0.1383]],\n",
            "\n",
            "        [[ 0.5000, -0.5000,  0.4761,  0.5000, -0.5000],\n",
            "         [ 0.5000, -0.5000, -0.5000,  0.2060, -0.5000],\n",
            "         [-0.5000,  0.3846,  0.2536, -0.5000,  0.2071]]], device='cuda:0')\n",
            "\n",
            " Gradient of l1loss w.r.t. lambda = \n",
            " tensor(24.4321, device='cuda:0')\n",
            "\n",
            " data = \n",
            " tensor([[[ 0.8798,  0.3375,  1.4160,  0.0515, -1.5166],\n",
            "         [-0.2043, -0.9554, -0.9130, -0.4103, -1.1863],\n",
            "         [-0.2003,  0.1033,  0.5579,  0.9536, -0.1383]],\n",
            "\n",
            "        [[ 0.6580, -1.3272,  0.4761,  1.2141, -0.5073],\n",
            "         [ 2.5621, -0.9250, -1.0919,  0.2060, -1.5793],\n",
            "         [-1.2244,  0.3846,  0.2536, -1.9909,  0.2071]]], device='cuda:0',\n",
            "       requires_grad=True)\n",
            "\n",
            " Gradient of sum of abs w.r.t. data by autograd = \n",
            " tensor([[[ 0.5000,  0.5000,  0.5000,  0.5000, -0.5000],\n",
            "         [-0.5000, -0.5000, -0.5000, -0.5000, -0.5000],\n",
            "         [-0.5000,  0.5000,  0.5000,  0.5000, -0.5000]],\n",
            "\n",
            "        [[ 0.5000, -0.5000,  0.5000,  0.5000, -0.5000],\n",
            "         [ 0.5000, -0.5000, -0.5000,  0.5000, -0.5000],\n",
            "         [-0.5000,  0.5000,  0.5000, -0.5000,  0.5000]]], device='cuda:0')\n",
            "\n",
            " Gradient of  sum of abs w.r.t. lambda = \n",
            " tensor(24.4321, device='cuda:0')\n"
          ],
          "name": "stdout"
        }
      ]
    },
    {
      "cell_type": "markdown",
      "metadata": {
        "id": "tBdaQDCkxz-O",
        "colab_type": "text"
      },
      "source": [
        "# Demonstration 2: minimize l1 loss $$\\mbox{Minimize}_X\\|X-D\\|_1$$\n",
        "###Note that L1Loss is not differentiable at boundaries of orthants, so augograd cannot find the minimizer."
      ]
    },
    {
      "cell_type": "code",
      "metadata": {
        "id": "BK74UI5ryYGP",
        "colab_type": "code",
        "outputId": "da87df07-c0d7-4c2b-8ec6-d023e27d37c8",
        "colab": {
          "base_uri": "https://localhost:8080/",
          "height": 163
        }
      },
      "source": [
        "D = torch.randn(2,3,5, device=device)\n",
        "print('D = \\n', D)"
      ],
      "execution_count": 6,
      "outputs": [
        {
          "output_type": "stream",
          "text": [
            "D = \n",
            " tensor([[[ 1.1126,  1.0968,  1.1331,  0.5044, -0.4039],\n",
            "         [ 0.2640,  1.4964, -0.5245,  1.5746, -0.7028],\n",
            "         [ 1.2370,  0.4282,  0.1062,  2.0900, -1.0670]],\n",
            "\n",
            "        [[ 0.9694,  0.0224, -0.5494, -1.6887,  0.6238],\n",
            "         [ 0.0361, -0.5406, -0.6262, -1.1981,  0.7198],\n",
            "         [ 0.6102,  0.9520, -0.0912, -1.5640,  0.5026]]], device='cuda:0')\n"
          ],
          "name": "stdout"
        }
      ]
    },
    {
      "cell_type": "code",
      "metadata": {
        "id": "DXDJCrBRwvG1",
        "colab_type": "code",
        "outputId": "47eb71f4-cee1-41a0-c528-4bb10260c577",
        "colab": {
          "base_uri": "https://localhost:8080/",
          "height": 814
        }
      },
      "source": [
        "#ll = 0.5 * torch.ones(3,5, device=device)\n",
        "ll = 0.5\n",
        "print('lambda = \\n', ll)\n",
        "\n",
        "# Using L1Loss with prox\n",
        "l1loss = L1Loss(lw=torch.tensor(ll))\n",
        "X = torch.autograd.Variable(torch.randn(D.shape, device=device), requires_grad=True)\n",
        "optimizer = torch.optim.SGD([X], lr = 1e0)\n",
        "\n",
        "t0 = time()\n",
        "num_iter = 10\n",
        "display_step = 1\n",
        "history_loss_prox = []\n",
        "for iter in range(num_iter):\n",
        "    loss = l1loss(X - D)\n",
        "    optimizer.zero_grad()\n",
        "    loss.backward(retain_graph=True)\n",
        "    optimizer.step()\n",
        "    history_loss_prox.append(loss.item())\n",
        "\n",
        "    if (iter+1) % display_step == 0:\n",
        "        print ('[{:3d}/{}]: loss = {:.4f},  '.format(iter+1, num_iter, loss.item()))\n",
        "\n",
        "print('D = \\n', D)\n",
        "print('X = \\n', X)\n",
        "import matplotlib.pyplot as plt\n",
        "plt.plot(history_loss_prox)"
      ],
      "execution_count": 7,
      "outputs": [
        {
          "output_type": "stream",
          "text": [
            "lambda = \n",
            " 0.5\n",
            "[  1/10]: loss = 16.6619,  \n",
            "[  2/10]: loss = 9.7570,  \n",
            "[  3/10]: loss = 5.4964,  \n",
            "[  4/10]: loss = 2.6988,  \n",
            "[  5/10]: loss = 1.2219,  \n",
            "[  6/10]: loss = 0.3238,  \n",
            "[  7/10]: loss = 0.0000,  \n",
            "[  8/10]: loss = 0.0000,  \n",
            "[  9/10]: loss = 0.0000,  \n",
            "[ 10/10]: loss = 0.0000,  \n",
            "D = \n",
            " tensor([[[ 1.1126,  1.0968,  1.1331,  0.5044, -0.4039],\n",
            "         [ 0.2640,  1.4964, -0.5245,  1.5746, -0.7028],\n",
            "         [ 1.2370,  0.4282,  0.1062,  2.0900, -1.0670]],\n",
            "\n",
            "        [[ 0.9694,  0.0224, -0.5494, -1.6887,  0.6238],\n",
            "         [ 0.0361, -0.5406, -0.6262, -1.1981,  0.7198],\n",
            "         [ 0.6102,  0.9520, -0.0912, -1.5640,  0.5026]]], device='cuda:0')\n",
            "X = \n",
            " tensor([[[ 1.1126,  1.0968,  1.1331,  0.5044, -0.4039],\n",
            "         [ 0.2640,  1.4964, -0.5245,  1.5746, -0.7028],\n",
            "         [ 1.2370,  0.4282,  0.1062,  2.0900, -1.0670]],\n",
            "\n",
            "        [[ 0.9694,  0.0224, -0.5494, -1.6887,  0.6238],\n",
            "         [ 0.0361, -0.5406, -0.6262, -1.1981,  0.7198],\n",
            "         [ 0.6102,  0.9520, -0.0912, -1.5640,  0.5026]]], device='cuda:0',\n",
            "       requires_grad=True)\n"
          ],
          "name": "stdout"
        },
        {
          "output_type": "execute_result",
          "data": {
            "text/plain": [
              "[<matplotlib.lines.Line2D at 0x7f737df687b8>]"
            ]
          },
          "metadata": {
            "tags": []
          },
          "execution_count": 7
        },
        {
          "output_type": "display_data",
          "data": {
            "image/png": "[encoded data removed]",
            "text/plain": [
              "<Figure size 432x288 with 1 Axes>"
            ]
          },
          "metadata": {
            "tags": []
          }
        }
      ]
    },
    {
      "cell_type": "code",
      "metadata": {
        "id": "qXBPlWY2KC26",
        "colab_type": "code",
        "outputId": "cf0b048e-a69c-4b06-cd08-d5626c0bb5b8",
        "colab": {
          "base_uri": "https://localhost:8080/",
          "height": 1000
        }
      },
      "source": [
        "#ll = 0.5 * torch.ones(3,5, device=device)\n",
        "ll = 0.5\n",
        "print('lambda = \\n', ll)\n",
        "\n",
        "# Using sum of abs with autogradient\n",
        "l1loss = lambda x: torch.sum(torch.abs(x)*ll)\n",
        "X = torch.autograd.Variable(torch.randn(D.shape, device=device), requires_grad=True)\n",
        "optimizer = torch.optim.SGD([X], lr = 1e0)\n",
        "\n",
        "t0 = time()\n",
        "num_iter = 30\n",
        "display_step = 1\n",
        "history_loss = []\n",
        "for iter in range(num_iter):\n",
        "    loss = l1loss(X - D)\n",
        "    optimizer.zero_grad()\n",
        "    loss.backward(retain_graph=True)\n",
        "    optimizer.step()\n",
        "    history_loss.append(loss.item())\n",
        "\n",
        "    if (iter+1) % display_step == 0:\n",
        "        print ('[{:3d}/{}]: loss = {:.4f},  '.format(iter+1, num_iter, loss.item()))\n",
        "\n",
        "print('D = \\n', D)\n",
        "print('X = \\n', X)\n",
        "import matplotlib.pyplot as plt\n",
        "plt.figure()\n",
        "plt.plot(history_loss_prox)\n",
        "plt.plot(history_loss)"
      ],
      "execution_count": 8,
      "outputs": [
        {
          "output_type": "stream",
          "text": [
            "lambda = \n",
            " 0.5\n",
            "[  1/30]: loss = 18.6613,  \n",
            "[  2/30]: loss = 12.9633,  \n",
            "[  3/30]: loss = 8.0190,  \n",
            "[  4/30]: loss = 6.2384,  \n",
            "[  5/30]: loss = 3.6880,  \n",
            "[  6/30]: loss = 4.6219,  \n",
            "[  7/30]: loss = 3.1880,  \n",
            "[  8/30]: loss = 4.3120,  \n",
            "[  9/30]: loss = 3.1880,  \n",
            "[ 10/30]: loss = 4.3120,  \n",
            "[ 11/30]: loss = 3.1880,  \n",
            "[ 12/30]: loss = 4.3120,  \n",
            "[ 13/30]: loss = 3.1880,  \n",
            "[ 14/30]: loss = 4.3120,  \n",
            "[ 15/30]: loss = 3.1880,  \n",
            "[ 16/30]: loss = 4.3120,  \n",
            "[ 17/30]: loss = 3.1880,  \n",
            "[ 18/30]: loss = 4.3120,  \n",
            "[ 19/30]: loss = 3.1880,  \n",
            "[ 20/30]: loss = 4.3120,  \n",
            "[ 21/30]: loss = 3.1880,  \n",
            "[ 22/30]: loss = 4.3120,  \n",
            "[ 23/30]: loss = 3.1880,  \n",
            "[ 24/30]: loss = 4.3120,  \n",
            "[ 25/30]: loss = 3.1880,  \n",
            "[ 26/30]: loss = 4.3120,  \n",
            "[ 27/30]: loss = 3.1880,  \n",
            "[ 28/30]: loss = 4.3120,  \n",
            "[ 29/30]: loss = 3.1880,  \n",
            "[ 30/30]: loss = 4.3120,  \n",
            "D = \n",
            " tensor([[[ 1.1126,  1.0968,  1.1331,  0.5044, -0.4039],\n",
            "         [ 0.2640,  1.4964, -0.5245,  1.5746, -0.7028],\n",
            "         [ 1.2370,  0.4282,  0.1062,  2.0900, -1.0670]],\n",
            "\n",
            "        [[ 0.9694,  0.0224, -0.5494, -1.6887,  0.6238],\n",
            "         [ 0.0361, -0.5406, -0.6262, -1.1981,  0.7198],\n",
            "         [ 0.6102,  0.9520, -0.0912, -1.5640,  0.5026]]], device='cuda:0')\n",
            "X = \n",
            " tensor([[[ 1.2378,  1.0685,  1.4363,  0.7788, -0.5358],\n",
            "         [-0.0763,  1.3748, -0.1962,  1.5509, -0.8811],\n",
            "         [ 0.8505,  0.4077,  0.1710,  1.7390, -0.8608]],\n",
            "\n",
            "        [[ 1.1384, -0.1260, -0.9494, -1.9029,  0.3297],\n",
            "         [ 0.5269, -0.4802, -0.3163, -1.0218,  0.6301],\n",
            "         [ 0.4580,  1.2990,  0.2592, -1.3304,  0.5584]]], device='cuda:0',\n",
            "       requires_grad=True)\n"
          ],
          "name": "stdout"
        },
        {
          "output_type": "execute_result",
          "data": {
            "text/plain": [
              "[<matplotlib.lines.Line2D at 0x7f737db00e10>]"
            ]
          },
          "metadata": {
            "tags": []
          },
          "execution_count": 8
        },
        {
          "output_type": "display_data",
          "data": {
            "image/png": "[encoded data removed]",
            "text/plain": [
              "<Figure size 432x288 with 1 Axes>"
            ]
          },
          "metadata": {
            "tags": []
          }
        }
      ]
    }
  ]
}