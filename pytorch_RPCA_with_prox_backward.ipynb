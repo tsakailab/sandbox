{
  "nbformat": 4,
  "nbformat_minor": 0,
  "metadata": {
    "colab": {
      "name": "pytorch_RPCA_with_prox_backward.ipynb",
      "provenance": [],
      "collapsed_sections": [],
      "include_colab_link": true
    },
    "kernelspec": {
      "name": "python3",
      "display_name": "Python 3"
    },
    "accelerator": "GPU"
  },
  "cells": [
    {
      "cell_type": "markdown",
      "metadata": {
        "id": "view-in-github",
        "colab_type": "text"
      },
      "source": [
        "<a href=\"https://colab.research.google.com/github/tsakailab/sandbox/blob/master/pytorch_RPCA_with_prox_backward.ipynb\" target=\"_parent\"><img src=\"https://colab.research.google.com/assets/colab-badge.svg\" alt=\"Open In Colab\"/></a>"
      ]
    },
    {
      "cell_type": "code",
      "metadata": {
        "id": "XeRc34BqIypb",
        "colab_type": "code",
        "outputId": "3e9d33ef-797f-4216-f77e-f711067602f4",
        "colab": {
          "base_uri": "https://localhost:8080/",
          "height": 72
        }
      },
      "source": [
        "import torch\n",
        "device = torch.device('cpu')\n",
        "if torch.cuda.is_available():\n",
        "    device = torch.device('cuda')\n",
        "    print(torch.cuda.get_device_name(torch.cuda.current_device()))\n",
        "    print(torch.cuda.memory_allocated())\n",
        "    print(torch.cuda.memory_cached())\n",
        "    torch.cuda.empty_cache()"
      ],
      "execution_count": 1,
      "outputs": [
        {
          "output_type": "stream",
          "text": [
            "Tesla P100-PCIE-16GB\n",
            "0\n",
            "0\n"
          ],
          "name": "stdout"
        }
      ]
    },
    {
      "cell_type": "markdown",
      "metadata": {
        "id": "AYlu1Qh9BwbE",
        "colab_type": "text"
      },
      "source": [
        "# L1 and nuclear loss functions with backward by prox (soft thresholding and singular value thresholding)"
      ]
    },
    {
      "cell_type": "code",
      "metadata": {
        "id": "mFnnjF-9XmzR",
        "colab_type": "code",
        "colab": {}
      },
      "source": [
        "soft = lambda z, th: z.sign() * (z.abs() - th).max(torch.tensor(0., device=device))\n",
        "\n",
        "## L1 loss\n",
        "class L1LossFunc(torch.autograd.Function):\n",
        "    @staticmethod\n",
        "    def forward(ctx, input, lw):\n",
        "        ctx.save_for_backward(input, lw)\n",
        "        return torch.sum(torch.abs(input)*lw)\n",
        "\n",
        "    @staticmethod\n",
        "    def backward(ctx, grad_output):\n",
        "        input, lw = ctx.saved_tensors\n",
        "        grad_input = grad_output.clone()\n",
        "        return (input - soft(input, lw)) * grad_input, torch.abs(input) * grad_input\n",
        "\n",
        "class L1Loss(torch.nn.Module):\n",
        "    def __init__(self, lw=torch.tensor(1.0, device=device)):\n",
        "        super(L1Loss, self).__init__()\n",
        "        self.fn = L1LossFunc.apply\n",
        "        self.lw = torch.nn.Parameter(lw, requires_grad=lw.requires_grad)\n",
        "\n",
        "    def forward(self, input):\n",
        "        return self.fn(input, self.lw)\n",
        "\n",
        "\n",
        "## Nuclear loss\n",
        "class NuclearLossFunc(torch.autograd.Function):\n",
        "    @staticmethod\n",
        "    def forward(ctx, input, lw):\n",
        "        u, s, v = torch.svd(input)\n",
        "        ctx.save_for_backward(input, lw, u, s, v)\n",
        "        return torch.sum(s*lw)\n",
        "\n",
        "    @staticmethod\n",
        "    def backward(ctx, grad_output):\n",
        "        input, lw, u, s, v = ctx.saved_tensors\n",
        "        grad_input = grad_output.clone()\n",
        "        svt_input = torch.matmul(torch.matmul(u, torch.diag_embed(soft(s,lw))), torch.transpose(v, -2, -1))\n",
        "        return (input - svt_input) * grad_input, s * grad_input\n",
        "\n",
        "class NuclearLoss(torch.nn.Module):\n",
        "    def __init__(self, lw=torch.tensor(1.0, device=device)):\n",
        "        super(NuclearLoss, self).__init__()\n",
        "        self.fn = NuclearLossFunc.apply\n",
        "        self.lw = torch.nn.Parameter(lw, requires_grad=lw.requires_grad)\n",
        "\n",
        "    def forward(self, input):\n",
        "        return self.fn(input, self.lw)\n"
      ],
      "execution_count": 0,
      "outputs": []
    },
    {
      "cell_type": "markdown",
      "metadata": {
        "id": "tBdaQDCkxz-O",
        "colab_type": "text"
      },
      "source": [
        "# Robust PCA (Low-rank and sparse matrix approximation): $$\\textrm{Minimize}_{(L,S)}\\|L\\|_* + \\lambda_S \\|S\\|_1+\\lambda_F\\|D-(L+S)\\|_F^2$$\n",
        "### Auto differentiation vs. proximal operation\n",
        "\n"
      ]
    },
    {
      "cell_type": "code",
      "metadata": {
        "id": "RCyGhCYiIyrs",
        "colab_type": "code",
        "outputId": "aa64183c-7e24-4464-83dd-2f97874e6ef5",
        "colab": {
          "base_uri": "https://localhost:8080/",
          "height": 127
        }
      },
      "source": [
        "# generate a low-rank matrix L and a sparse matrix S\n",
        "from time import time\n",
        "import numpy as np\n",
        "m, n = 10000, 50\n",
        "rnk, nnz = 10, 10000\n",
        "LL = np.random.randn(m,rnk).dot(np.random.randn(rnk,n))\n",
        "SS = np.zeros((m,n))\n",
        "support = np.random.choice(m*n, nnz, replace=False)\n",
        "SS.ravel()[support] = 10.* np.random.randn(support.size)\n",
        "\n",
        "sv = np.linalg.svd(LL, compute_uv=False)\n",
        "print('singular values of L =')\n",
        "print(sv[:min(10,m,n)])\n",
        "print('mean(abs(L)) = %.2e' % (np.mean(np.abs(LL))))\n",
        "print('mean(abs(S)) = %.2e, %d nonzeros in S (%2.1f%%)' % (np.mean(np.abs(SS)),support.size,100.*support.size/(m*n)))\n",
        "\n",
        "DD = LL + SS\n",
        "\n",
        "ls = 1./np.sqrt(max(m,n))\n",
        "print('lambda_S = ', ls)"
      ],
      "execution_count": 3,
      "outputs": [
        {
          "output_type": "stream",
          "text": [
            "singular values of L =\n",
            "[972.22101917 864.99501441 826.75925651 751.78446631 712.81006712\n",
            " 660.14990118 588.65816064 543.30874109 493.46347372 470.64761508]\n",
            "mean(abs(L)) = 2.45e+00\n",
            "mean(abs(S)) = 1.59e-01, 10000 nonzeros in S (2.0%)\n",
            "lambda_S =  0.01\n"
          ],
          "name": "stdout"
        }
      ]
    },
    {
      "cell_type": "markdown",
      "metadata": {
        "id": "hZ4VGGufaeuM",
        "colab_type": "text"
      },
      "source": [
        "## ADMM-type (Inexact ALM) application of backward by prox\n",
        "### less estimation error, can clearly identify the sparse components"
      ]
    },
    {
      "cell_type": "code",
      "metadata": {
        "colab_type": "code",
        "outputId": "f10e76e9-430f-4039-9323-785a15278dc8",
        "id": "7KhlhTkvHRfW",
        "colab": {
          "base_uri": "https://localhost:8080/",
          "height": 1000
        }
      },
      "source": [
        "D = torch.from_numpy(DD.astype(np.float32)).to(device)\n",
        "print('D = \\n', D)\n",
        "\n",
        "le = 1e+6\n",
        "print('lambda_F = ', le)\n",
        "\n",
        "# Using L1Loss with prox\n",
        "nucloss = NuclearLoss()\n",
        "l1loss = L1Loss(lw=torch.tensor(ls))\n",
        "l2loss = lambda x: torch.sum(x**2)\n",
        "\n",
        "L = 0\n",
        "S = 0\n",
        "E = 0\n",
        "Y = 0\n",
        "\n",
        "t = time()\n",
        "num_iter = 400\n",
        "display_step = num_iter // 10\n",
        "history_loss_inexact = []\n",
        "for iter in range(num_iter):\n",
        "    total_loss = 0.\n",
        "\n",
        "    X = (D-S-E+Y).clone().detach().requires_grad_(True)\n",
        "    loss = nucloss(X)\n",
        "    optimizer = torch.optim.SGD([X], lr = 1e0)\n",
        "    optimizer.zero_grad()\n",
        "    loss.backward(retain_graph=True)\n",
        "    optimizer.step()\n",
        "    L = X.detach()\n",
        "\n",
        "    X = (D-L-E+Y).clone().detach().requires_grad_(True)\n",
        "    loss = l1loss(X)\n",
        "    optimizer = torch.optim.SGD([X], lr = 1e0)\n",
        "    optimizer.zero_grad()\n",
        "    loss.backward(retain_graph=True)\n",
        "    optimizer.step()\n",
        "    S = X.detach()\n",
        "\n",
        "    X = ((D-L-S+Y)/ (1+2*le)).clone().detach().requires_grad_(True)\n",
        "    loss = l2loss(X)\n",
        "    optimizer = torch.optim.SGD([X], lr = 1e0)\n",
        "    optimizer.zero_grad()\n",
        "    loss.backward(retain_graph=True)\n",
        "    optimizer.step()\n",
        "    E = X.detach()\n",
        "\n",
        "    Y = Y + (D-L-S-E)\n",
        "\n",
        "    total_loss = nucloss(L) + l1loss(D-L)\n",
        "\n",
        "    history_loss_inexact.append(total_loss)\n",
        "\n",
        "    if (iter+1) % display_step == 0:\n",
        "        print ('[{:3d}/{}]: loss = {:.4f},  '.format(iter+1, num_iter, total_loss))\n",
        "\n",
        "print((time()-t)*1000, ' [ms]')\n",
        "print('L = \\n', LL)\n",
        "print('Estimated L = \\n', L.data)\n",
        "print('MSE of L: ', np.linalg.norm(L.cpu().data.numpy()-LL)/np.linalg.norm(LL)*100, ' [%]')\n",
        "print('Its singular values = \\n', torch.svd(L)[1])\n",
        "print('S = \\n', SS)\n",
        "print('Estimated S = \\n', S.data)\n",
        "print(\"MSE of S: \", np.linalg.norm(S.cpu().data.numpy()-SS)/np.linalg.norm(SS)*100, \" [%]\")\n",
        "\n",
        "import matplotlib.pyplot as plt\n",
        "plt.title(\"$||L||_*+\\lambda||D-L||_1$\")\n",
        "plt.plot(history_loss_inexact, label=\"ADMM-type application backward by prox\")\n",
        "plt.legend()\n",
        "plt.figure()\n",
        "plt.hist(abs(S.cpu().data.numpy().ravel()), bins=100, range=[0,1], log=True, label='entries of S (estimated)')\n",
        "plt.hist(abs(SS.ravel()), bins=100, range=[0,1], log=True, label='entries of S (true)')\n",
        "plt.legend()"
      ],
      "execution_count": 4,
      "outputs": [
        {
          "output_type": "stream",
          "text": [
            "D = \n",
            " tensor([[ 7.7411e-01,  2.5867e-01,  2.8952e-03,  ...,  8.6052e-01,\n",
            "          6.1283e+00,  1.3633e+00],\n",
            "        [ 3.6791e+00,  9.4598e-01,  1.6396e+00,  ...,  4.0809e+00,\n",
            "         -3.0169e+00, -1.3127e+00],\n",
            "        [-2.1514e+00, -1.5122e+00,  7.3042e-01,  ...,  6.3701e-01,\n",
            "          4.7867e+00, -9.5565e-01],\n",
            "        ...,\n",
            "        [ 6.3101e+00,  3.0702e+00,  1.5011e+00,  ...,  3.6688e+00,\n",
            "         -7.3913e+00, -1.8108e+00],\n",
            "        [-3.3914e-01,  3.9296e-01, -2.1083e+00,  ...,  2.3015e+00,\n",
            "          4.6999e+00, -2.4151e+00],\n",
            "        [ 5.5580e+00,  8.0588e-01,  6.1523e-01,  ..., -3.2529e-02,\n",
            "         -7.1698e+00,  7.5433e-01]], device='cuda:0')\n",
            "lambda_F =  1000000.0\n",
            "[ 40/400]: loss = 11568.4668,  \n",
            "[ 80/400]: loss = 10503.5625,  \n",
            "[120/400]: loss = 9486.1064,  \n",
            "[160/400]: loss = 8544.9756,  \n",
            "[200/400]: loss = 7872.1577,  \n",
            "[240/400]: loss = 7735.4243,  \n",
            "[280/400]: loss = 7708.8901,  \n",
            "[320/400]: loss = 7696.9160,  \n",
            "[360/400]: loss = 7690.6816,  \n",
            "[400/400]: loss = 7687.2539,  \n",
            "9456.724405288696  [ms]\n",
            "L = \n",
            " [[ 7.74110808e-01  2.58666246e-01  2.89522643e-03 ...  8.60517720e-01\n",
            "   6.12833153e+00  1.36328665e+00]\n",
            " [ 3.67914412e+00  9.45978675e-01  1.63961387e+00 ...  4.08087162e+00\n",
            "  -3.01686711e+00 -1.31266612e+00]\n",
            " [-2.15144139e+00 -1.51223640e+00  7.30416997e-01 ...  6.37013412e-01\n",
            "   4.78674392e+00 -9.55648355e-01]\n",
            " ...\n",
            " [ 6.31014797e+00  3.07016964e+00  1.50112379e+00 ...  3.66879969e+00\n",
            "  -7.39134771e+00 -1.81075692e+00]\n",
            " [-3.39135712e-01  3.92955638e-01 -2.10826905e+00 ...  2.30150774e+00\n",
            "   4.69986986e+00 -2.41513953e+00]\n",
            " [ 5.55798007e+00  8.05875751e-01  6.15227066e-01 ... -3.25286307e-02\n",
            "  -7.16979780e+00  7.54325543e-01]]\n",
            "Estimated L = \n",
            " tensor([[ 7.7413e-01,  2.5867e-01,  2.9049e-03,  ...,  8.6053e-01,\n",
            "          6.1283e+00,  1.3633e+00],\n",
            "        [ 3.6792e+00,  9.4597e-01,  1.6396e+00,  ...,  4.0809e+00,\n",
            "         -3.0169e+00, -1.3126e+00],\n",
            "        [-2.1514e+00, -1.5122e+00,  7.3044e-01,  ...,  6.3701e-01,\n",
            "          4.7867e+00, -9.5565e-01],\n",
            "        ...,\n",
            "        [ 6.3102e+00,  3.0702e+00,  1.5011e+00,  ...,  3.6688e+00,\n",
            "         -7.3913e+00, -1.8108e+00],\n",
            "        [-3.3913e-01,  3.9296e-01, -2.1083e+00,  ...,  2.3015e+00,\n",
            "          4.6999e+00, -2.4151e+00],\n",
            "        [ 5.5580e+00,  8.0587e-01,  6.1522e-01,  ..., -3.2530e-02,\n",
            "         -7.1698e+00,  7.5432e-01]], device='cuda:0')\n",
            "MSE of L:  2.0543231631849643  [%]\n",
            "Its singular values = \n",
            " tensor([9.6935e+02, 8.6289e+02, 8.2391e+02, 7.4945e+02, 7.1078e+02, 6.5744e+02,\n",
            "        5.8615e+02, 5.4116e+02, 4.9149e+02, 4.6873e+02, 1.6227e-04, 1.3627e-04,\n",
            "        1.0281e-04, 8.8517e-05, 6.3821e-05, 6.3325e-05, 6.3309e-05, 5.1347e-05,\n",
            "        5.0056e-05, 4.6450e-05, 4.6450e-05, 4.6450e-05, 4.6450e-05, 4.6450e-05,\n",
            "        4.6450e-05, 4.6450e-05, 4.6450e-05, 4.6450e-05, 4.6450e-05, 4.6450e-05,\n",
            "        4.6450e-05, 4.6450e-05, 4.6450e-05, 4.6450e-05, 4.6450e-05, 4.6450e-05,\n",
            "        4.6450e-05, 4.6450e-05, 4.6450e-05, 4.6450e-05, 4.6450e-05, 4.6450e-05,\n",
            "        4.6450e-05, 4.6450e-05, 4.6450e-05, 4.6450e-05, 4.6450e-05, 4.6450e-05,\n",
            "        3.5587e-05, 2.5292e-05], device='cuda:0')\n",
            "S = \n",
            " [[0. 0. 0. ... 0. 0. 0.]\n",
            " [0. 0. 0. ... 0. 0. 0.]\n",
            " [0. 0. 0. ... 0. 0. 0.]\n",
            " ...\n",
            " [0. 0. 0. ... 0. 0. 0.]\n",
            " [0. 0. 0. ... 0. 0. 0.]\n",
            " [0. 0. 0. ... 0. 0. 0.]]\n",
            "Estimated S = \n",
            " tensor([[0., 0., 0.,  ..., 0., 0., 0.],\n",
            "        [0., 0., 0.,  ..., 0., 0., 0.],\n",
            "        [0., 0., 0.,  ..., 0., 0., 0.],\n",
            "        ...,\n",
            "        [0., 0., 0.,  ..., 0., 0., 0.],\n",
            "        [0., 0., 0.,  ..., 0., 0., 0.],\n",
            "        [0., 0., 0.,  ..., 0., 0., 0.]], device='cuda:0')\n",
            "MSE of S:  4.598545307473347  [%]\n"
          ],
          "name": "stdout"
        },
        {
          "output_type": "execute_result",
          "data": {
            "text/plain": [
              "<matplotlib.legend.Legend at 0x7f0a8a04bdd8>"
            ]
          },
          "metadata": {
            "tags": []
          },
          "execution_count": 4
        },
        {
          "output_type": "display_data",
          "data": {
            "image/png": "[encoded data removed]",
            "text/plain": [
              "<Figure size 432x288 with 1 Axes>"
            ]
          },
          "metadata": {
            "tags": []
          }
        },
        {
          "output_type": "display_data",
          "data": {
            "image/png": "[encoded data removed]",
            "text/plain": [
              "<Figure size 432x288 with 1 Axes>"
            ]
          },
          "metadata": {
            "tags": []
          }
        }
      ]
    },
    {
      "cell_type": "markdown",
      "metadata": {
        "id": "ture8ApnbOo5",
        "colab_type": "text"
      },
      "source": [
        "## ISTA with backward by prox\n",
        "$$ L^{(k+1)}\\gets\\textrm{SVT}(L^{(k)}+\\alpha(D-L^{(k)}-S^{(k)}),\\alpha\\lambda_L)$$\n",
        "$$ S^{(k+1)}\\gets\\textrm{soft}(S^{(k)}+\\alpha(D-L^{(k)}-S^{(k)}),\\alpha\\lambda_S)$$\n"
      ]
    },
    {
      "cell_type": "code",
      "metadata": {
        "id": "DXDJCrBRwvG1",
        "colab_type": "code",
        "outputId": "aeec69e6-f046-4e2f-c4b6-7d60777a3e0c",
        "colab": {
          "base_uri": "https://localhost:8080/",
          "height": 1000
        }
      },
      "source": [
        "D = torch.from_numpy(DD.astype(np.float32)).to(device)\n",
        "print('D = \\n', D)\n",
        "\n",
        "ln = 1.\n",
        "alpha = 1.\n",
        "# Using L1Loss with prox\n",
        "nucloss = NuclearLoss(lw=torch.tensor(alpha*ln))\n",
        "l1loss = L1Loss(lw=torch.tensor(alpha*ls))\n",
        "#X = torch.autograd.Variable(D, requires_grad=True)\n",
        "L = torch.tensor(DD.astype(np.float32), device=device, requires_grad=True)\n",
        "S = torch.zeros_like(L, device=device, requires_grad=True)\n",
        "#optimizer = torch.optim.SGD([L,S], lr = 1e0)\n",
        "\n",
        "t = time()\n",
        "num_iter = 800\n",
        "display_step = num_iter // 10\n",
        "history_loss_prox = []\n",
        "for iter in range(num_iter):\n",
        "    total_loss = 0.\n",
        "\n",
        "    # E = (L + S + alpha * R.T.dot(D - R.dot(L + S))).detach()\n",
        "    E = (L + S + alpha * (D - L - S)).detach()\n",
        "\n",
        "    Lk = L.detach()\n",
        "    L = (E-S).clone().detach().requires_grad_(True)\n",
        "    loss = nucloss(L)\n",
        "    optimizer = torch.optim.SGD([L], lr = 1e0)\n",
        "    optimizer.zero_grad()\n",
        "    loss.backward(retain_graph=True)\n",
        "    optimizer.step()\n",
        "    total_loss += loss.item()/alpha\n",
        "\n",
        "    S = (E-Lk).clone().detach().requires_grad_(True)\n",
        "    loss = l1loss(S)\n",
        "    optimizer = torch.optim.SGD([S], lr = 1e0)\n",
        "    optimizer.zero_grad()\n",
        "    loss.backward(retain_graph=True)\n",
        "    optimizer.step()\n",
        "    total_loss += loss.item()/alpha\n",
        "    #\"\"\"\n",
        "\n",
        "    history_loss_prox.append(total_loss)\n",
        "\n",
        "    if (iter+1) % display_step == 0:\n",
        "        print ('[{:3d}/{}]: loss = {:.4f},  '.format(iter+1, num_iter, total_loss))\n",
        "\n",
        "\n",
        "print((time()-t)*1000, ' [ms]')\n",
        "print('L = \\n', LL)\n",
        "print('Estimated L = \\n',L.data)\n",
        "print('MSE of L: ', np.linalg.norm(L.cpu().data.numpy()-LL)/np.linalg.norm(LL)*100, ' [%]')\n",
        "print('Its singular values = \\n', torch.svd(L)[1])\n",
        "print('S = \\n', SS)\n",
        "print('Estimated S = \\n', S.data)\n",
        "print(\"MSE of S: \", np.linalg.norm(S.cpu().data.numpy()-SS)/np.linalg.norm(SS)*100, \" [%]\")\n",
        "\n",
        "import matplotlib.pyplot as plt\n",
        "plt.title(\"$||L||_*+\\lambda||D-L||_1$\")\n",
        "plt.plot(history_loss_inexact, label=\"ADMM-type application backward by prox\")\n",
        "#plt.plot(history_loss_prox, label=\"RPCA with backward by prox\")\n",
        "plt.plot(history_loss_prox, label=\"ISTA with backward by prox\")\n",
        "plt.legend()\n",
        "plt.figure()\n",
        "plt.hist(abs(S.cpu().data.numpy().ravel()), bins=100, range=[0,1], log=True, label='entries of S (estimated)')\n",
        "plt.hist(abs(SS.ravel()), bins=100, range=[0,1], log=True, label='entries of S (true)')\n",
        "plt.legend()"
      ],
      "execution_count": 5,
      "outputs": [
        {
          "output_type": "stream",
          "text": [
            "D = \n",
            " tensor([[ 7.7411e-01,  2.5867e-01,  2.8952e-03,  ...,  8.6052e-01,\n",
            "          6.1283e+00,  1.3633e+00],\n",
            "        [ 3.6791e+00,  9.4598e-01,  1.6396e+00,  ...,  4.0809e+00,\n",
            "         -3.0169e+00, -1.3127e+00],\n",
            "        [-2.1514e+00, -1.5122e+00,  7.3042e-01,  ...,  6.3701e-01,\n",
            "          4.7867e+00, -9.5565e-01],\n",
            "        ...,\n",
            "        [ 6.3101e+00,  3.0702e+00,  1.5011e+00,  ...,  3.6688e+00,\n",
            "         -7.3913e+00, -1.8108e+00],\n",
            "        [-3.3914e-01,  3.9296e-01, -2.1083e+00,  ...,  2.3015e+00,\n",
            "          4.6999e+00, -2.4151e+00],\n",
            "        [ 5.5580e+00,  8.0588e-01,  6.1523e-01,  ..., -3.2529e-02,\n",
            "         -7.1698e+00,  7.5433e-01]], device='cuda:0')\n",
            "[ 80/800]: loss = 11620.6692,  \n",
            "[160/800]: loss = 10555.2297,  \n",
            "[240/800]: loss = 9537.1527,  \n",
            "[320/800]: loss = 8595.0626,  \n",
            "[400/800]: loss = 7913.8594,  \n",
            "[480/800]: loss = 7768.3881,  \n",
            "[560/800]: loss = 7739.2716,  \n",
            "[640/800]: loss = 7725.7624,  \n",
            "[720/800]: loss = 7718.6841,  \n",
            "[800/800]: loss = 7714.7680,  \n",
            "9417.274475097656  [ms]\n",
            "L = \n",
            " [[ 7.74110808e-01  2.58666246e-01  2.89522643e-03 ...  8.60517720e-01\n",
            "   6.12833153e+00  1.36328665e+00]\n",
            " [ 3.67914412e+00  9.45978675e-01  1.63961387e+00 ...  4.08087162e+00\n",
            "  -3.01686711e+00 -1.31266612e+00]\n",
            " [-2.15144139e+00 -1.51223640e+00  7.30416997e-01 ...  6.37013412e-01\n",
            "   4.78674392e+00 -9.55648355e-01]\n",
            " ...\n",
            " [ 6.31014797e+00  3.07016964e+00  1.50112379e+00 ...  3.66879969e+00\n",
            "  -7.39134771e+00 -1.81075692e+00]\n",
            " [-3.39135712e-01  3.92955638e-01 -2.10826905e+00 ...  2.30150774e+00\n",
            "   4.69986986e+00 -2.41513953e+00]\n",
            " [ 5.55798007e+00  8.05875751e-01  6.15227066e-01 ... -3.25286307e-02\n",
            "  -7.16979780e+00  7.54325543e-01]]\n",
            "Estimated L = \n",
            " tensor([[ 7.7162e-01,  2.5775e-01,  1.5031e-03,  ...,  8.5800e-01,\n",
            "          6.1165e+00,  1.3623e+00],\n",
            "        [ 3.6724e+00,  9.4403e-01,  1.6354e+00,  ...,  4.0751e+00,\n",
            "         -3.0124e+00, -1.3099e+00],\n",
            "        [-2.1502e+00, -1.5118e+00,  7.2879e-01,  ...,  6.3599e-01,\n",
            "          4.7814e+00, -9.5418e-01],\n",
            "        ...,\n",
            "        [ 6.3008e+00,  3.0676e+00,  1.5002e+00,  ...,  3.6637e+00,\n",
            "         -7.3800e+00, -1.8090e+00],\n",
            "        [-3.3996e-01,  3.9153e-01, -2.1056e+00,  ...,  2.2989e+00,\n",
            "          4.6929e+00, -2.4123e+00],\n",
            "        [ 5.5512e+00,  8.0492e-01,  6.1522e-01,  ..., -3.1788e-02,\n",
            "         -7.1584e+00,  7.5325e-01]], device='cuda:0')\n",
            "MSE of L:  2.090547939310831  [%]\n",
            "Its singular values = \n",
            " tensor([9.6811e+02, 8.6168e+02, 8.2268e+02, 7.4826e+02, 7.0961e+02, 6.5611e+02,\n",
            "        5.8487e+02, 5.3995e+02, 4.9034e+02, 4.6757e+02, 1.4100e-04, 1.2434e-04,\n",
            "        1.1479e-04, 9.7442e-05, 9.0957e-05, 5.9457e-05, 5.6221e-05, 5.5536e-05,\n",
            "        4.7638e-05, 4.7509e-05, 4.6394e-05, 4.6394e-05, 4.6394e-05, 4.6394e-05,\n",
            "        4.6394e-05, 4.6394e-05, 4.6394e-05, 4.6394e-05, 4.6394e-05, 4.6394e-05,\n",
            "        4.6394e-05, 4.6394e-05, 4.6394e-05, 4.6394e-05, 4.6394e-05, 4.6394e-05,\n",
            "        4.6394e-05, 4.6394e-05, 4.6394e-05, 4.6394e-05, 4.6394e-05, 4.6394e-05,\n",
            "        4.6394e-05, 4.6394e-05, 4.6394e-05, 4.6394e-05, 4.6394e-05, 3.9139e-05,\n",
            "        3.4693e-05, 1.9539e-05], device='cuda:0', grad_fn=<SvdBackward>)\n",
            "S = \n",
            " [[0. 0. 0. ... 0. 0. 0.]\n",
            " [0. 0. 0. ... 0. 0. 0.]\n",
            " [0. 0. 0. ... 0. 0. 0.]\n",
            " ...\n",
            " [0. 0. 0. ... 0. 0. 0.]\n",
            " [0. 0. 0. ... 0. 0. 0.]\n",
            " [0. 0. 0. ... 0. 0. 0.]]\n",
            "Estimated S = \n",
            " tensor([[ 0.0000,  0.0000,  0.0000,  ...,  0.0000,  0.0019,  0.0000],\n",
            "        [ 0.0000,  0.0000,  0.0000,  ...,  0.0000,  0.0000,  0.0000],\n",
            "        [ 0.0000,  0.0000,  0.0000,  ...,  0.0000,  0.0000,  0.0000],\n",
            "        ...,\n",
            "        [ 0.0000,  0.0000,  0.0000,  ...,  0.0000, -0.0013,  0.0000],\n",
            "        [ 0.0000,  0.0000,  0.0000,  ...,  0.0000,  0.0000,  0.0000],\n",
            "        [ 0.0000,  0.0000,  0.0000,  ...,  0.0000, -0.0013,  0.0000]],\n",
            "       device='cuda:0')\n",
            "MSE of S:  4.604447020185177  [%]\n"
          ],
          "name": "stdout"
        },
        {
          "output_type": "execute_result",
          "data": {
            "text/plain": [
              "<matplotlib.legend.Legend at 0x7f0a41e09198>"
            ]
          },
          "metadata": {
            "tags": []
          },
          "execution_count": 5
        },
        {
          "output_type": "display_data",
          "data": {
            "image/png": "[encoded data removed]",
            "text/plain": [
              "<Figure size 432x288 with 1 Axes>"
            ]
          },
          "metadata": {
            "tags": []
          }
        },
        {
          "output_type": "display_data",
          "data": {
            "image/png": "[encoded data removed]",
            "text/plain": [
              "<Figure size 432x288 with 1 Axes>"
            ]
          },
          "metadata": {
            "tags": []
          }
        }
      ]
    },
    {
      "cell_type": "markdown",
      "metadata": {
        "id": "cIKpX9uI1NwK",
        "colab_type": "text"
      },
      "source": [
        "### Best practice: Adam followed by SGD"
      ]
    },
    {
      "cell_type": "code",
      "metadata": {
        "id": "MlvsqvEM4Q05",
        "colab_type": "code",
        "outputId": "bcc7cb59-1ef5-41fd-e72f-03f30a922f14",
        "colab": {
          "base_uri": "https://localhost:8080/",
          "height": 1000
        }
      },
      "source": [
        "D = torch.from_numpy(DD.astype(np.float32)).to(device)\n",
        "print('D = \\n', D)\n",
        "\n",
        "ln = 1.\n",
        "alpha = 0.5\n",
        "# Using L1Loss with prox\n",
        "nucloss = NuclearLoss(lw=torch.tensor(alpha*ln))\n",
        "l1loss = L1Loss(lw=torch.tensor(alpha*ls))\n",
        "\n",
        "anucloss = lambda x: torch.sum(torch.svd(x)[1])*alpha*ln\n",
        "al1loss = lambda x: torch.sum(torch.abs(x)*alpha*ls)\n",
        "\n",
        "#X = torch.autograd.Variable(D, requires_grad=True)\n",
        "S = torch.zeros_like(D, device=device, requires_grad=True)\n",
        "#### S = model(input)\n",
        "\n",
        "\n",
        "t = time()\n",
        "num_iter = 100\n",
        "display_step = num_iter // 10\n",
        "history_loss_prox_ISTA = []\n",
        "optimizer = torch.optim.Adam([S], lr = 1e0)\n",
        "for iter in range(num_iter):\n",
        "\n",
        "    total_loss = 0.\n",
        "    loss = anucloss(D-S) + al1loss(S)\n",
        "    optimizer.zero_grad()\n",
        "    loss.backward(retain_graph=True)\n",
        "    optimizer.step()\n",
        "    total_loss += loss.item() / alpha\n",
        "\n",
        "    history_loss_prox_ISTA.append(total_loss)\n",
        "\n",
        "    if (iter+1) % display_step == 0:\n",
        "        print ('[{:3d}/{}]: loss = {:.4f},  '.format(iter+1, num_iter, total_loss))\n",
        "\n",
        "\n",
        "num_iter = 600\n",
        "display_step = num_iter // 10\n",
        "#history_loss_prox_ISTA = []\n",
        "#L = D.clone().detach()\n",
        "optimizer = torch.optim.SGD([S], lr = 1e0)\n",
        "for iter in range(num_iter):\n",
        "\n",
        "    total_loss = 0.\n",
        "    #Lk = L.detach()\n",
        "    Lk = (D-S).detach()\n",
        "    L = Lk + alpha * (D - Lk - S)\n",
        "    loss = nucloss(L)\n",
        "    optimizer.zero_grad()\n",
        "    loss.backward(retain_graph=True)\n",
        "    optimizer.step()\n",
        "    total_loss += loss.item() / alpha\n",
        "\n",
        "    St = S + alpha * (D - Lk - S)\n",
        "    loss = l1loss(St)\n",
        "    #loss = l1loss(S + alpha * (D - Lk - S))\n",
        "    #optimizer = torch.optim.SGD([W], lr = 1e0)\n",
        "    optimizer.zero_grad()\n",
        "    loss.backward(retain_graph=True)\n",
        "    optimizer.step()\n",
        "    total_loss += loss.item() / alpha\n",
        "    #\"\"\"\n",
        "\n",
        "    history_loss_prox_ISTA.append(total_loss)\n",
        "\n",
        "    if (iter+1) % display_step == 0:\n",
        "        print ('[{:3d}/{}]: loss = {:.4f},  '.format(iter+1, num_iter, total_loss))\n",
        "\n",
        "print((time()-t)*1000, ' [ms]')\n",
        "print('L = \\n', LL)\n",
        "print('Estimated L = \\n',L.data)\n",
        "print('MSE of L: ', np.linalg.norm(L.cpu().data.numpy()-LL)/np.linalg.norm(LL)*100, ' [%]')\n",
        "print('Its singular values = \\n', torch.svd(L)[1])\n",
        "print('S = \\n', SS)\n",
        "#S = D-L\n",
        "print('Estimated S = \\n', S.data)\n",
        "print(\"MSE of S: \", np.linalg.norm(S.cpu().data.numpy()-SS)/np.linalg.norm(SS)*100, \" [%]\")\n",
        "\n",
        "import matplotlib.pyplot as plt\n",
        "plt.title(\"$||L||_*+\\lambda||D-L||_1$\")\n",
        "plt.plot(history_loss_inexact, label=\"ADMM-type application backward by prox\")\n",
        "plt.plot(history_loss_prox, label=\"ISTA(E) with backward by prox\")\n",
        "plt.plot(history_loss_prox_ISTA, label=\"ISTA(S) with backward by prox\")\n",
        "plt.legend()\n",
        "plt.figure()\n",
        "plt.hist(abs(S.cpu().data.numpy().ravel()), bins=100, range=[0,1], log=True, label='entries of S (estimated)')\n",
        "plt.hist(abs(SS.ravel()), bins=100, range=[0,1], log=True, label='entries of S (true)')\n",
        "plt.legend()"
      ],
      "execution_count": 6,
      "outputs": [
        {
          "output_type": "stream",
          "text": [
            "D = \n",
            " tensor([[ 7.7411e-01,  2.5867e-01,  2.8952e-03,  ...,  8.6052e-01,\n",
            "          6.1283e+00,  1.3633e+00],\n",
            "        [ 3.6791e+00,  9.4598e-01,  1.6396e+00,  ...,  4.0809e+00,\n",
            "         -3.0169e+00, -1.3127e+00],\n",
            "        [-2.1514e+00, -1.5122e+00,  7.3042e-01,  ...,  6.3701e-01,\n",
            "          4.7867e+00, -9.5565e-01],\n",
            "        ...,\n",
            "        [ 6.3101e+00,  3.0702e+00,  1.5011e+00,  ...,  3.6688e+00,\n",
            "         -7.3913e+00, -1.8108e+00],\n",
            "        [-3.3914e-01,  3.9296e-01, -2.1083e+00,  ...,  2.3015e+00,\n",
            "          4.6999e+00, -2.4151e+00],\n",
            "        [ 5.5580e+00,  8.0588e-01,  6.1523e-01,  ..., -3.2529e-02,\n",
            "         -7.1698e+00,  7.5433e-01]], device='cuda:0')\n",
            "[ 10/100]: loss = 11319.0928,  \n",
            "[ 20/100]: loss = 9278.9463,  \n",
            "[ 30/100]: loss = 8745.6836,  \n",
            "[ 40/100]: loss = 8489.2207,  \n",
            "[ 50/100]: loss = 8380.1104,  \n",
            "[ 60/100]: loss = 8332.2002,  \n",
            "[ 70/100]: loss = 8306.4629,  \n",
            "[ 80/100]: loss = 8291.7793,  \n",
            "[ 90/100]: loss = 8283.2061,  \n",
            "[100/100]: loss = 8274.3770,  \n",
            "[ 60/600]: loss = 7753.3539,  \n",
            "[120/600]: loss = 7722.3842,  \n",
            "[180/600]: loss = 7709.5995,  \n",
            "[240/600]: loss = 7703.0063,  \n",
            "[300/600]: loss = 7699.2706,  \n",
            "[360/600]: loss = 7696.8516,  \n",
            "[420/600]: loss = 7695.2030,  \n",
            "[480/600]: loss = 7694.0297,  \n",
            "[540/600]: loss = 7693.0790,  \n",
            "[600/600]: loss = 7692.3165,  \n",
            "8337.466716766357  [ms]\n",
            "L = \n",
            " [[ 7.74110808e-01  2.58666246e-01  2.89522643e-03 ...  8.60517720e-01\n",
            "   6.12833153e+00  1.36328665e+00]\n",
            " [ 3.67914412e+00  9.45978675e-01  1.63961387e+00 ...  4.08087162e+00\n",
            "  -3.01686711e+00 -1.31266612e+00]\n",
            " [-2.15144139e+00 -1.51223640e+00  7.30416997e-01 ...  6.37013412e-01\n",
            "   4.78674392e+00 -9.55648355e-01]\n",
            " ...\n",
            " [ 6.31014797e+00  3.07016964e+00  1.50112379e+00 ...  3.66879969e+00\n",
            "  -7.39134771e+00 -1.81075692e+00]\n",
            " [-3.39135712e-01  3.92955638e-01 -2.10826905e+00 ...  2.30150774e+00\n",
            "   4.69986986e+00 -2.41513953e+00]\n",
            " [ 5.55798007e+00  8.05875751e-01  6.15227066e-01 ... -3.25286307e-02\n",
            "  -7.16979780e+00  7.54325543e-01]]\n",
            "Estimated L = \n",
            " tensor([[ 7.7360e-01,  2.5876e-01,  2.3834e-03,  ...,  8.5949e-01,\n",
            "          6.1228e+00,  1.3628e+00],\n",
            "        [ 3.6765e+00,  9.4503e-01,  1.6380e+00,  ...,  4.0787e+00,\n",
            "         -3.0154e+00, -1.3116e+00],\n",
            "        [-2.1509e+00, -1.5120e+00,  7.2981e-01,  ...,  6.3660e-01,\n",
            "          4.7849e+00, -9.5509e-01],\n",
            "        ...,\n",
            "        [ 6.3068e+00,  3.0696e+00,  1.5008e+00,  ...,  3.6670e+00,\n",
            "         -7.3855e+00, -1.8103e+00],\n",
            "        [-3.3984e-01,  3.9205e-01, -2.1072e+00,  ...,  2.3005e+00,\n",
            "          4.6973e+00, -2.4140e+00],\n",
            "        [ 5.5553e+00,  8.0547e-01,  6.1521e-01,  ..., -3.2251e-02,\n",
            "         -7.1644e+00,  7.5394e-01]], device='cuda:0')\n",
            "MSE of L:  1.4232047321768582  [%]\n",
            "Its singular values = \n",
            " tensor([9.6948e+02, 8.6251e+02, 8.2383e+02, 7.4945e+02, 7.1047e+02, 6.5620e+02,\n",
            "        5.8564e+02, 5.4068e+02, 4.9131e+02, 4.6844e+02, 3.0416e-01, 2.3363e-01,\n",
            "        1.7365e-01, 1.6132e-01, 1.5646e-01, 1.5216e-01, 1.5009e-01, 1.4372e-01,\n",
            "        1.4319e-01, 1.3860e-01, 1.3692e-01, 1.3179e-01, 1.3041e-01, 1.2820e-01,\n",
            "        1.2589e-01, 1.2379e-01, 1.2251e-01, 1.2201e-01, 1.2122e-01, 1.2023e-01,\n",
            "        1.1938e-01, 1.1722e-01, 1.1648e-01, 1.1593e-01, 1.1420e-01, 1.1308e-01,\n",
            "        1.1125e-01, 1.1049e-01, 1.0967e-01, 1.0842e-01, 1.0722e-01, 1.0676e-01,\n",
            "        1.0632e-01, 1.0537e-01, 1.0435e-01, 1.0411e-01, 1.0216e-01, 1.0166e-01,\n",
            "        9.9773e-02, 9.6831e-02], device='cuda:0', grad_fn=<SvdBackward>)\n",
            "S = \n",
            " [[0. 0. 0. ... 0. 0. 0.]\n",
            " [0. 0. 0. ... 0. 0. 0.]\n",
            " [0. 0. 0. ... 0. 0. 0.]\n",
            " ...\n",
            " [0. 0. 0. ... 0. 0. 0.]\n",
            " [0. 0. 0. ... 0. 0. 0.]\n",
            " [0. 0. 0. ... 0. 0. 0.]]\n",
            "Estimated S = \n",
            " tensor([[ 5.2020e-04, -8.8082e-05,  5.1481e-04,  ...,  1.0295e-03,\n",
            "          5.5391e-03,  4.9445e-04],\n",
            "        [ 2.6427e-03,  9.4075e-04,  1.5757e-03,  ...,  2.1288e-03,\n",
            "         -1.4876e-03, -1.0626e-03],\n",
            "        [-5.1486e-04, -2.5110e-04,  6.0724e-04,  ...,  4.1536e-04,\n",
            "          1.8873e-03, -5.5906e-04],\n",
            "        ...,\n",
            "        [ 3.3209e-03,  5.6822e-04,  3.0982e-04,  ...,  1.8225e-03,\n",
            "         -5.8184e-03, -4.9611e-04],\n",
            "        [ 7.0168e-04,  9.0077e-04, -1.0291e-03,  ...,  9.8445e-04,\n",
            "          2.5670e-03, -1.1500e-03],\n",
            "        [ 2.6379e-03,  4.0118e-04,  1.2021e-05,  ..., -2.7863e-04,\n",
            "         -5.3484e-03,  3.8549e-04]], device='cuda:0')\n",
            "MSE of S:  3.1839920588861497  [%]\n"
          ],
          "name": "stdout"
        },
        {
          "output_type": "execute_result",
          "data": {
            "text/plain": [
              "<matplotlib.legend.Legend at 0x7f0a41ac44a8>"
            ]
          },
          "metadata": {
            "tags": []
          },
          "execution_count": 6
        },
        {
          "output_type": "display_data",
          "data": {
            "image/png": "[encoded data removed]",
            "text/plain": [
              "<Figure size 432x288 with 1 Axes>"
            ]
          },
          "metadata": {
            "tags": []
          }
        },
        {
          "output_type": "display_data",
          "data": {
            "image/png": "[encoded data removed]",
            "text/plain": [
              "<Figure size 432x288 with 1 Axes>"
            ]
          },
          "metadata": {
            "tags": []
          }
        }
      ]
    },
    {
      "cell_type": "markdown",
      "metadata": {
        "id": "Xj4TKEGVcclT",
        "colab_type": "text"
      },
      "source": [
        "## RPCA with alternating gradient descent using autograd\n",
        "### cannot sparsify the solution due to the nondifferentiability (see the estimated S), although decrease the loss faster"
      ]
    },
    {
      "cell_type": "code",
      "metadata": {
        "id": "qXBPlWY2KC26",
        "colab_type": "code",
        "outputId": "302daaa5-064d-48f8-cdb3-b61b4f1ded5b",
        "colab": {
          "base_uri": "https://localhost:8080/",
          "height": 1000
        }
      },
      "source": [
        "D = torch.from_numpy(DD.astype(np.float32)).to(device)\n",
        "print('D = \\n', D)\n",
        "\n",
        "nucloss = lambda x: torch.sum(torch.svd(x)[1])\n",
        "l1loss = lambda x: torch.sum(torch.abs(x)*ls)\n",
        "\n",
        "L = torch.tensor(DD.astype(np.float32), device=device, requires_grad=True)\n",
        "optimizer = torch.optim.Adam([L], lr = 1e0)\n",
        "\n",
        "t = time()\n",
        "num_iter = 400\n",
        "display_step = num_iter // 10\n",
        "history_loss = []\n",
        "for iter in range(num_iter):\n",
        "    total_loss = 0.\n",
        "    \"\"\"\n",
        "    loss = nucloss(L) + l1loss(D-L)\n",
        "    optimizer.zero_grad()\n",
        "    loss.backward(retain_graph=True)\n",
        "    optimizer.step()\n",
        "    total_loss += loss.item()\n",
        "    \"\"\"\n",
        "    loss = nucloss(L)\n",
        "    optimizer.zero_grad()\n",
        "    loss.backward(retain_graph=True)\n",
        "    optimizer.step()\n",
        "    total_loss += loss.item()\n",
        "\n",
        "    loss = l1loss(D-L)\n",
        "    optimizer.zero_grad()\n",
        "    loss.backward(retain_graph=True)\n",
        "    optimizer.step()\n",
        "    total_loss += loss.item()\n",
        "    #\"\"\"\n",
        "\n",
        "    #total_loss = nucloss(L) + l1loss(D-L)\n",
        "    history_loss.append(total_loss)\n",
        "\n",
        "    if (iter+1) % display_step == 0:\n",
        "        print ('[{:3d}/{}]: loss = {:.4f},  '.format(iter+1, num_iter, total_loss))\n",
        "\n",
        "\n",
        "print((time()-t)*1000, ' [ms]')\n",
        "print('L = \\n', LL)\n",
        "print('Estimated L = \\n', L.data)\n",
        "print('MSE of L: ', np.linalg.norm(L.cpu().data.numpy()-LL)/np.linalg.norm(LL)*100, ' [%]')\n",
        "print('Its singular values = \\n', torch.svd(L)[1])\n",
        "print('S = \\n', SS)\n",
        "S = D-L\n",
        "print('Estimated S = \\n', S.data)\n",
        "print(\"MSE of S: \", np.linalg.norm(S.cpu().data.numpy()-SS)/np.linalg.norm(SS)*100, \" [%]\")\n",
        "\n",
        "import matplotlib.pyplot as plt\n",
        "plt.title(\"$||L||_*+\\lambda||D-L||_1$\")\n",
        "plt.plot(history_loss_inexact, label=\"ADMM-type application backward by prox\")\n",
        "#plt.plot(history_loss_prox, label=\"RPCA with backward by prox\")\n",
        "plt.plot(history_loss_prox, label=\"ISTA(E) with backward by prox\")\n",
        "plt.plot(history_loss_prox_ISTA, label=\"ISTA(S) with backward by prox\")\n",
        "plt.plot(history_loss, label=\"RPCA by alternating gradient descent using autograd\")\n",
        "plt.legend()\n",
        "plt.figure()\n",
        "plt.hist(abs(S.cpu().data.numpy().ravel()), bins=100, range=[0,1], log=True, label='entries of S (estimated)')\n",
        "plt.hist(abs(SS.ravel()), bins=100, range=[0,1], log=True, label='entries of S (true)')\n",
        "plt.legend()"
      ],
      "execution_count": 7,
      "outputs": [
        {
          "output_type": "stream",
          "text": [
            "D = \n",
            " tensor([[ 7.7411e-01,  2.5867e-01,  2.8952e-03,  ...,  8.6052e-01,\n",
            "          6.1283e+00,  1.3633e+00],\n",
            "        [ 3.6791e+00,  9.4598e-01,  1.6396e+00,  ...,  4.0809e+00,\n",
            "         -3.0169e+00, -1.3127e+00],\n",
            "        [-2.1514e+00, -1.5122e+00,  7.3042e-01,  ...,  6.3701e-01,\n",
            "          4.7867e+00, -9.5565e-01],\n",
            "        ...,\n",
            "        [ 6.3101e+00,  3.0702e+00,  1.5011e+00,  ...,  3.6688e+00,\n",
            "         -7.3913e+00, -1.8108e+00],\n",
            "        [-3.3914e-01,  3.9296e-01, -2.1083e+00,  ...,  2.3015e+00,\n",
            "          4.6999e+00, -2.4151e+00],\n",
            "        [ 5.5580e+00,  8.0588e-01,  6.1523e-01,  ..., -3.2529e-02,\n",
            "         -7.1698e+00,  7.5433e-01]], device='cuda:0')\n",
            "[ 40/400]: loss = 8702.4823,  \n",
            "[ 80/400]: loss = 8664.5217,  \n",
            "[120/400]: loss = 8659.3171,  \n",
            "[160/400]: loss = 8657.0090,  \n",
            "[200/400]: loss = 8656.2842,  \n",
            "[240/400]: loss = 8658.6960,  \n",
            "[280/400]: loss = 8658.1489,  \n",
            "[320/400]: loss = 8657.8203,  \n",
            "[360/400]: loss = 8657.4930,  \n",
            "[400/400]: loss = 8655.7471,  \n",
            "4774.207830429077  [ms]\n",
            "L = \n",
            " [[ 7.74110808e-01  2.58666246e-01  2.89522643e-03 ...  8.60517720e-01\n",
            "   6.12833153e+00  1.36328665e+00]\n",
            " [ 3.67914412e+00  9.45978675e-01  1.63961387e+00 ...  4.08087162e+00\n",
            "  -3.01686711e+00 -1.31266612e+00]\n",
            " [-2.15144139e+00 -1.51223640e+00  7.30416997e-01 ...  6.37013412e-01\n",
            "   4.78674392e+00 -9.55648355e-01]\n",
            " ...\n",
            " [ 6.31014797e+00  3.07016964e+00  1.50112379e+00 ...  3.66879969e+00\n",
            "  -7.39134771e+00 -1.81075692e+00]\n",
            " [-3.39135712e-01  3.92955638e-01 -2.10826905e+00 ...  2.30150774e+00\n",
            "   4.69986986e+00 -2.41513953e+00]\n",
            " [ 5.55798007e+00  8.05875751e-01  6.15227066e-01 ... -3.25286307e-02\n",
            "  -7.16979780e+00  7.54325543e-01]]\n",
            "Estimated L = \n",
            " tensor([[ 0.8407,  0.2733, -0.0505,  ...,  0.7868,  5.7153,  1.5202],\n",
            "        [ 3.4737,  0.9354,  1.4451,  ...,  4.0268, -3.0126, -1.2146],\n",
            "        [-2.1440, -1.6031,  0.5702,  ...,  0.7005,  4.8335, -0.8724],\n",
            "        ...,\n",
            "        [ 6.0343,  2.7723,  1.4510,  ...,  3.6719, -7.1969, -1.9404],\n",
            "        [-0.3413,  0.2602, -2.2504,  ...,  2.0719,  4.6867, -2.3908],\n",
            "        [ 5.3155,  0.7055,  0.5872,  ..., -0.4388, -6.6120,  0.6106]],\n",
            "       device='cuda:0')\n",
            "MSE of L:  5.591380863213061  [%]\n",
            "Its singular values = \n",
            " tensor([950.6245, 844.1714, 805.9542, 732.2291, 693.8354, 635.9811, 566.0802,\n",
            "        523.3509, 475.2555, 451.8085,  14.8783,  14.5751,  14.4077,  14.1571,\n",
            "         13.9556,  13.8800,  13.6957,  13.6310,  13.5941,  13.4381,  13.3652,\n",
            "         13.2093,  13.1551,  13.1194,  13.0170,  12.9726,  12.8858,  12.8571,\n",
            "         12.7968,  12.7847,  12.6641,  12.6342,  12.6019,  12.5187,  12.4615,\n",
            "         12.4109,  12.3513,  12.2496,  12.1984,  12.1396,  12.0509,  12.0273,\n",
            "         11.9777,  11.9141,  11.8631,  11.8270,  11.7757,  11.7238,  11.6819,\n",
            "         11.6278], device='cuda:0', grad_fn=<SvdBackward>)\n",
            "S = \n",
            " [[0. 0. 0. ... 0. 0. 0.]\n",
            " [0. 0. 0. ... 0. 0. 0.]\n",
            " [0. 0. 0. ... 0. 0. 0.]\n",
            " ...\n",
            " [0. 0. 0. ... 0. 0. 0.]\n",
            " [0. 0. 0. ... 0. 0. 0.]\n",
            " [0. 0. 0. ... 0. 0. 0.]]\n",
            "Estimated S = \n",
            " tensor([[-0.0666, -0.0146,  0.0534,  ...,  0.0737,  0.4131, -0.1569],\n",
            "        [ 0.2054,  0.0106,  0.1945,  ...,  0.0540, -0.0043, -0.0980],\n",
            "        [-0.0074,  0.0908,  0.1602,  ..., -0.0635, -0.0467, -0.0833],\n",
            "        ...,\n",
            "        [ 0.2758,  0.2978,  0.0501,  ..., -0.0031, -0.1945,  0.1296],\n",
            "        [ 0.0021,  0.1328,  0.1422,  ...,  0.2296,  0.0132, -0.0244],\n",
            "        [ 0.2425,  0.1004,  0.0281,  ...,  0.4063, -0.5578,  0.1437]],\n",
            "       device='cuda:0')\n",
            "MSE of S:  12.516151652070691  [%]\n"
          ],
          "name": "stdout"
        },
        {
          "output_type": "execute_result",
          "data": {
            "text/plain": [
              "<matplotlib.legend.Legend at 0x7f0a4199d780>"
            ]
          },
          "metadata": {
            "tags": []
          },
          "execution_count": 7
        },
        {
          "output_type": "display_data",
          "data": {
            "image/png": "[encoded data removed]",
            "text/plain": [
              "<Figure size 432x288 with 1 Axes>"
            ]
          },
          "metadata": {
            "tags": []
          }
        },
        {
          "output_type": "display_data",
          "data": {
            "image/png": "[encoded data removed]",
            "text/plain": [
              "<Figure size 432x288 with 1 Axes>"
            ]
          },
          "metadata": {
            "tags": []
          }
        }
      ]
    },
    {
      "cell_type": "markdown",
      "metadata": {
        "id": "8IayKVy6dTEs",
        "colab_type": "text"
      },
      "source": [
        "## RPCA by gradient descent using autograd\n",
        "### straightforward use of autograd for RPCA cannot sparsify the solution (see the estimated S)."
      ]
    },
    {
      "cell_type": "code",
      "metadata": {
        "id": "k2SFbYs0-juB",
        "colab_type": "code",
        "outputId": "077458c2-21ce-4bf2-ea07-e5ef340dd3c9",
        "colab": {
          "base_uri": "https://localhost:8080/",
          "height": 1000
        }
      },
      "source": [
        "D = torch.from_numpy(DD.astype(np.float32)).to(device)\n",
        "print('D = \\n', D)\n",
        "\n",
        "le = 1e+6\n",
        "\n",
        "# Using sum of abs with autogradient\n",
        "nucloss = lambda x: torch.sum(torch.svd(x)[1])\n",
        "l1loss = lambda x: torch.sum(torch.abs(x)*ls)\n",
        "l2loss = lambda x: torch.sum(x**2)\n",
        "\n",
        "L = torch.tensor(DD.astype(np.float32), device=device, requires_grad=True)\n",
        "S = torch.zeros_like(D, device=device, requires_grad=True)\n",
        "\n",
        "t = time()\n",
        "num_iter = 800\n",
        "display_step = num_iter // 10\n",
        "history_loss = []\n",
        "for iter in range(num_iter):\n",
        "    total_loss = 0.\n",
        "    #\"\"\"\n",
        "    #optimizer = torch.optim.SGD([L,S], lr = 1e0)\n",
        "    #loss = nucloss(L) + l1loss(S) + l2loss((D-L-S)/(1+2*le))\n",
        "\n",
        "    #optimizer = torch.optim.SGD([L], lr = 1e0)   # SGD works better than Adam\n",
        "    optimizer = torch.optim.AdamW([L], lr = 0.3)  # Adam would disappoint you\n",
        "    loss = nucloss(L) + l1loss(D-L)\n",
        "\n",
        "    #optimizer = torch.optim.SGD([S], lr = 1e0)   # SGD works better than Adam\n",
        "    #optimizer = torch.optim.Adam([S], lr = 1e-1)  # Adam would disappoint you\n",
        "    #loss = nucloss(D-S) + l1loss(S)\n",
        "\n",
        "    optimizer.zero_grad()\n",
        "    loss.backward(retain_graph=True)\n",
        "    optimizer.step()\n",
        "    total_loss += loss.item()\n",
        "    \"\"\"\n",
        "    optimizer = torch.optim.SGD([L], lr = 1e-1)\n",
        "    loss = nucloss(L)\n",
        "    optimizer.zero_grad()\n",
        "    loss.backward(retain_graph=True)\n",
        "    optimizer.step()\n",
        "    total_loss += loss.item()\n",
        "\n",
        "    optimizer = torch.optim.SGD([S], lr = 1e-1)\n",
        "    loss = l1loss(S)\n",
        "    optimizer.zero_grad()\n",
        "    loss.backward(retain_graph=True)\n",
        "    optimizer.step()\n",
        "    total_loss += loss.item()\n",
        "\n",
        "    optimizer = torch.optim.SGD([L,S], lr = 1e-1)\n",
        "    loss = l2loss(D-L-S)\n",
        "    optimizer.zero_grad()\n",
        "    loss.backward(retain_graph=True)\n",
        "    optimizer.step()\n",
        "    total_loss += loss.item()\n",
        "    \"\"\"\n",
        "\n",
        "    #total_loss = nucloss(L) + l1loss(D-L)\n",
        "    history_loss.append(total_loss)\n",
        "\n",
        "    if (iter+1) % display_step == 0:\n",
        "        print ('[{:3d}/{}]: loss = {:.4f},  '.format(iter+1, num_iter, total_loss))\n",
        "\n",
        "S = D-L\n",
        "#L = D-S\n",
        "\n",
        "print((time()-t)*1000, ' [ms]')\n",
        "print('L = \\n', LL)\n",
        "print('Estimated L = \\n', L.data)\n",
        "print('MSE of L: ', np.linalg.norm(L.cpu().data.numpy()-LL)/np.linalg.norm(LL)*100, ' [%]')\n",
        "print('Its singular values = \\n', torch.svd(L)[1])\n",
        "print('S = \\n', SS)\n",
        "print('Estimated S = \\n', S.data)\n",
        "print(\"MSE of S: \", np.linalg.norm(S.cpu().data.numpy()-SS)/np.linalg.norm(SS)*100, \" [%]\")\n",
        "\n",
        "import matplotlib.pyplot as plt\n",
        "plt.title(\"$||L||_*+\\lambda||D-L||_1$\")\n",
        "plt.plot(history_loss_inexact, label=\"ADMM-type application backward by prox\")\n",
        "#plt.plot(history_loss_prox, label=\"RPCA with backward by prox\")\n",
        "plt.plot(history_loss_prox, label=\"ISTA(E) with backward by prox\")\n",
        "plt.plot(history_loss_prox_ISTA, label=\"ISTA(S) with backward by prox\")\n",
        "plt.plot(history_loss, label=\"RPCA by gradient descent using autograd\")\n",
        "plt.legend()\n",
        "plt.figure()\n",
        "plt.hist(abs(S.cpu().data.numpy().ravel()), bins=100, range=[0,1], log=True, label='entries of S (estimated)')\n",
        "plt.hist(abs(SS.ravel()), bins=100, range=[0,1], log=True, label='entries of S (true)')\n",
        "plt.legend()"
      ],
      "execution_count": 8,
      "outputs": [
        {
          "output_type": "stream",
          "text": [
            "D = \n",
            " tensor([[ 7.7411e-01,  2.5867e-01,  2.8952e-03,  ...,  8.6052e-01,\n",
            "          6.1283e+00,  1.3633e+00],\n",
            "        [ 3.6791e+00,  9.4598e-01,  1.6396e+00,  ...,  4.0809e+00,\n",
            "         -3.0169e+00, -1.3127e+00],\n",
            "        [-2.1514e+00, -1.5122e+00,  7.3042e-01,  ...,  6.3701e-01,\n",
            "          4.7867e+00, -9.5565e-01],\n",
            "        ...,\n",
            "        [ 6.3101e+00,  3.0702e+00,  1.5011e+00,  ...,  3.6688e+00,\n",
            "         -7.3913e+00, -1.8108e+00],\n",
            "        [-3.3914e-01,  3.9296e-01, -2.1083e+00,  ...,  2.3015e+00,\n",
            "          4.6999e+00, -2.4151e+00],\n",
            "        [ 5.5580e+00,  8.0588e-01,  6.1523e-01,  ..., -3.2529e-02,\n",
            "         -7.1698e+00,  7.5433e-01]], device='cuda:0')\n",
            "[ 80/800]: loss = 9003.5195,  \n",
            "[160/800]: loss = 9006.1270,  \n",
            "[240/800]: loss = 9013.0967,  \n",
            "[320/800]: loss = 9018.8682,  \n",
            "[400/800]: loss = 9025.6914,  \n",
            "[480/800]: loss = 9029.8867,  \n",
            "[560/800]: loss = 9031.5684,  \n",
            "[640/800]: loss = 9031.2871,  \n",
            "[720/800]: loss = 9035.3936,  \n",
            "[800/800]: loss = 9036.2295,  \n",
            "9399.886131286621  [ms]\n",
            "L = \n",
            " [[ 7.74110808e-01  2.58666246e-01  2.89522643e-03 ...  8.60517720e-01\n",
            "   6.12833153e+00  1.36328665e+00]\n",
            " [ 3.67914412e+00  9.45978675e-01  1.63961387e+00 ...  4.08087162e+00\n",
            "  -3.01686711e+00 -1.31266612e+00]\n",
            " [-2.15144139e+00 -1.51223640e+00  7.30416997e-01 ...  6.37013412e-01\n",
            "   4.78674392e+00 -9.55648355e-01]\n",
            " ...\n",
            " [ 6.31014797e+00  3.07016964e+00  1.50112379e+00 ...  3.66879969e+00\n",
            "  -7.39134771e+00 -1.81075692e+00]\n",
            " [-3.39135712e-01  3.92955638e-01 -2.10826905e+00 ...  2.30150774e+00\n",
            "   4.69986986e+00 -2.41513953e+00]\n",
            " [ 5.55798007e+00  8.05875751e-01  6.15227066e-01 ... -3.25286307e-02\n",
            "  -7.16979780e+00  7.54325543e-01]]\n",
            "Estimated L = \n",
            " tensor([[ 0.7459,  0.2900,  0.1369,  ...,  0.6136,  5.8079,  1.1084],\n",
            "        [ 3.4436,  1.0933,  1.3459,  ...,  3.9476, -3.0344, -1.1825],\n",
            "        [-2.4102, -1.5053,  0.7958,  ...,  0.3394,  4.8574, -1.0752],\n",
            "        ...,\n",
            "        [ 6.2169,  2.9455,  1.5217,  ...,  3.9441, -7.0983, -1.6822],\n",
            "        [-0.1486,  0.0979, -1.8710,  ...,  2.2023,  4.3968, -2.6470],\n",
            "        [ 5.6170,  0.6867,  0.3613,  ..., -0.1396, -6.4965,  0.7729]],\n",
            "       device='cuda:0')\n",
            "MSE of L:  8.721735796162202  [%]\n",
            "Its singular values = \n",
            " tensor([938.9940, 834.2484, 793.9124, 724.8806, 686.9484, 627.2030, 557.7051,\n",
            "        518.5266, 473.2004, 449.6447,  21.8520,  21.0839,  20.6764,  20.5845,\n",
            "         20.0793,  19.9274,  19.7498,  19.6290,  19.5060,  19.4331,  19.3200,\n",
            "         19.2261,  19.0726,  19.0275,  18.9068,  18.7616,  18.6114,  18.6001,\n",
            "         18.5580,  18.5356,  18.4024,  18.3628,  18.3071,  18.2070,  18.1826,\n",
            "         18.1320,  18.0666,  17.9987,  17.9831,  17.8874,  17.8135,  17.7203,\n",
            "         17.6494,  17.6180,  17.5303,  17.5157,  17.4654,  17.3865,  17.3469,\n",
            "         17.2535], device='cuda:0', grad_fn=<SvdBackward>)\n",
            "S = \n",
            " [[0. 0. 0. ... 0. 0. 0.]\n",
            " [0. 0. 0. ... 0. 0. 0.]\n",
            " [0. 0. 0. ... 0. 0. 0.]\n",
            " ...\n",
            " [0. 0. 0. ... 0. 0. 0.]\n",
            " [0. 0. 0. ... 0. 0. 0.]\n",
            " [0. 0. 0. ... 0. 0. 0.]]\n",
            "Estimated S = \n",
            " tensor([[ 0.0282, -0.0313, -0.1340,  ...,  0.2469,  0.3204,  0.2549],\n",
            "        [ 0.2355, -0.1473,  0.2937,  ...,  0.1333,  0.0175, -0.1302],\n",
            "        [ 0.2587, -0.0069, -0.0654,  ...,  0.2976, -0.0707,  0.1195],\n",
            "        ...,\n",
            "        [ 0.0932,  0.1247, -0.0205,  ..., -0.2753, -0.2930, -0.1286],\n",
            "        [-0.1906,  0.2951, -0.2373,  ...,  0.0992,  0.3031,  0.2318],\n",
            "        [-0.0591,  0.1191,  0.2539,  ...,  0.1071, -0.6733, -0.0186]],\n",
            "       device='cuda:0')\n",
            "MSE of S:  19.523364720470866  [%]\n"
          ],
          "name": "stdout"
        },
        {
          "output_type": "execute_result",
          "data": {
            "text/plain": [
              "<matplotlib.legend.Legend at 0x7f0a4147c5f8>"
            ]
          },
          "metadata": {
            "tags": []
          },
          "execution_count": 8
        },
        {
          "output_type": "display_data",
          "data": {
            "image/png": "[encoded data removed]",
            "text/plain": [
              "<Figure size 432x288 with 1 Axes>"
            ]
          },
          "metadata": {
            "tags": []
          }
        },
        {
          "output_type": "display_data",
          "data": {
            "image/png": "[encoded data removed]",
            "text/plain": [
              "<Figure size 432x288 with 1 Axes>"
            ]
          },
          "metadata": {
            "tags": []
          }
        }
      ]
    },
    {
      "cell_type": "code",
      "metadata": {
        "id": "62cfHX20Fm6z",
        "colab_type": "code",
        "colab": {
          "base_uri": "https://localhost:8080/",
          "height": 301
        },
        "outputId": "22817aa9-ff89-4eb4-a960-a4c6f3c211c6"
      },
      "source": [
        "import matplotlib.pyplot as plt\n",
        "plt.title(\"$||L||_*+\\lambda||D-L||_1$\")\n",
        "plt.plot(history_loss_inexact, label=\"ADMM-type application backward by prox\")\n",
        "#plt.plot(history_loss_prox, label=\"RPCA with backward by prox\")\n",
        "plt.plot(history_loss_prox, label=\"ISTA(E) with backward by prox\")\n",
        "plt.plot(history_loss_prox_ISTA, label=\"ISTA(S) with backward by prox\")\n",
        "plt.plot(history_loss, label=\"RPCA by gradient descent using autograd\")\n",
        "plt.yscale('log'); plt.ylim(7.5e+3,1e+4)\n",
        "plt.legend()\n"
      ],
      "execution_count": 9,
      "outputs": [
        {
          "output_type": "execute_result",
          "data": {
            "text/plain": [
              "<matplotlib.legend.Legend at 0x7f0a8c47a358>"
            ]
          },
          "metadata": {
            "tags": []
          },
          "execution_count": 9
        },
        {
          "output_type": "display_data",
          "data": {
            "image/png": "[encoded data removed]",
            "text/plain": [
              "<Figure size 432x288 with 1 Axes>"
            ]
          },
          "metadata": {
            "tags": []
          }
        }
      ]
    },
    {
      "cell_type": "code",
      "metadata": {
        "id": "K9Nsug9GnHVH",
        "colab_type": "code",
        "colab": {}
      },
      "source": [
        ""
      ],
      "execution_count": 0,
      "outputs": []
    }
  ]
}